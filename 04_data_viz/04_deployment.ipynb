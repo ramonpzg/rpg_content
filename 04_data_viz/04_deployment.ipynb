{
 "cells": [
  {
   "cell_type": "markdown",
   "id": "widespread-trustee",
   "metadata": {},
   "source": [
    "# 03 Deploying Dashboards"
   ]
  },
  {
   "cell_type": "markdown",
   "id": "greek-reducing",
   "metadata": {},
   "source": [
    "![img](https://external-content.duckduckgo.com/iu/?u=https%3A%2F%2Fstackify.com%2Fwp-content%2Fuploads%2F2018%2F01%2Fword-image-5-793x397.png&f=1&nofb=1)"
   ]
  },
  {
   "cell_type": "markdown",
   "id": "threaded-species",
   "metadata": {
    "tags": []
   },
   "source": [
    "## Sharing Dashboards"
   ]
  },
  {
   "cell_type": "markdown",
   "id": "attended-statistics",
   "metadata": {},
   "source": [
    "### Option 1\n",
    "\n",
    "The first option is the one we have seen so far, creating an HTML file and viewing a static version of the dashboard in the the browser. To share it, we can attach the file to an email and send it to colleagues and friends over the internet.\n",
    "\n",
    "```python\n",
    "import some_package\n",
    "\n",
    "your_data = read_some.read_csv(\"data\")\n",
    "\n",
    "my_dashbboard_app():\n",
    "    \n",
    "    a_dashboard = create_a_dashboard.with_your_data(your_data)\n",
    "    \n",
    "    return a_dashboard\n",
    "\n",
    "dashboard = pn.Row(title, my_dashbboard_app)\n",
    "\n",
    "dashboard.save('your_dashboard_name.html')\n",
    "\n",
    "```\n",
    "\n",
    "### Option 2\n",
    "\n",
    "The second option is to share a dashboard from your computer but from within a network, for example, a dashboard hosted in your computer but only visible to those who are connected to the same wifi as you at work. For this second option you would need to\n",
    "\n",
    "1. Have either a `.py` or a `.ipynb` file containing\n",
    "2. Your dashboard with the method `.servable()` attached to the final output, e.g. `dashboard.servable()`\n",
    "3. Have the data within that folder of your dashboard if it is an interactive one\n",
    "4. Figure out your IP address using the command `hostname -I` on Linux or `ipconfig getifaddr en0` in Linux or a Mac, and then copy the address e.g. 180.175.0.135\n",
    "5. From the command line run `panel serve --address 0.0.0.0 --allow-websocket-origin=180.175.0.135:5006 your_dashboard.ipynb` and you will be able to serve your dashboard while allowing others in the network to access it. Notice that your IP address is followed by `:5006`, this is the port of your app and it is the default one used by panel. If you need a different one, you can find the flag to update this in the panel documentation [here](https://panel.holoviz.org/user_guide/Deploy_and_Export.html)\n",
    "6. Anyone with the address, `http://0.0.0.0:5006/02_analysis_prep`, and within your network, would be able to go and see your dashbaorad.\n",
    "\n",
    "**Note:** you should use this second method carefully as with it you are opening your computer to the world\n",
    "\n",
    "To only run the app and examine it, you can use `panel serve your_dashboard.ipynb`\n",
    "\n",
    "### Option 3\n",
    "\n",
    "Now, what if you want to leave a python script with your app running for a while, not on your computer but rather on some remote server on the web, say, in AWS, GCP, Azure or Linode? Then you take your environment, code, and data, spin up a computer (instance or virtual machine) on the cloud provider with, depending on the size of the data, at least 1 or 2 cores and a few GBs of ram (e.g. a t2 micro from AWS). Let's walk through the steps to get a dashboard on a server running.\n",
    "\n",
    "1. Go to a cloud provider and start up a virtual machine. Ubuntu would be a great choice to start. You will need at least 10-15 GM of disk space but this would depend on the data powering your application, of course.\n",
    "2. Connect to the VM and check the system for updates and upgrades.\n",
    "\n",
    "```sh\n",
    "sudo apt-get update\n",
    "sudo apt-get upgrade\n",
    "```\n",
    "\n",
    "3. Install Anaconda or Miniconda, preferrably.\n",
    "\n",
    "```sh\n",
    "\n",
    "# this will download anaconda\n",
    "weget https://repo.anaconda.com/miniconda/Miniconda3-py39_4.9.2-Linux-x86_64.sh\n",
    "\n",
    "# run the installation\n",
    "bash Miniconda3-py39_4.9.2-Linux-x86_64.sh\n",
    "\n",
    "#initialize anaconda\n",
    "source /.bashrc\n",
    "\n",
    "```\n",
    "\n",
    "4. The next step is to clone the repository where your project and files live at into your instance/virtual machine.\n",
    "\n",
    "```sh\n",
    "git clone httmps://some_repository_of_code.com\n",
    "```\n",
    "\n",
    "4. Initialize the environment with conda, venv, or your environment manager of your choosing.\n",
    "\n",
    "```sh\n",
    "conda env create -f my_envvironment.yml -y\n",
    "\n",
    "conda activate my_env\n",
    "```\n",
    "\n",
    "5. Get the data into your VM. You can do this either through the command line of your cloud provider or through secure copy protocol, e.g.\n",
    "\n",
    "```sh\n",
    "scp -P 22 your/file_in_your_computer/txt user@remote.host:/your/path/to/file_in_your_instance\n",
    "```\n",
    "\n",
    "6. Run the same panel command from above but this time, with an `&` at the end. For example,\n",
    "\n",
    "```sh\n",
    "panel serve --address 0.0.0.0 --allow-websocket-origin=180.175.0.135:5006 your_dashboard.ipyn &\n",
    "```\n",
    "\n",
    "7. The command will take a few seconds to load and after it loads, you will receive a number for the running process, e.g. 16639, take note of that number as you will need it later if your decide to turn your instance off. You can leave your instance running and even if you log our of it, your dashboard will stay active and you can share the link to it with other people.\n",
    "\n",
    "**Note:** it is possible to that your process will stop at some point and not restart, in order to avoid this, you would have to add your process to `systemd`. That will make sure that everytime your server restarts, it will start up a process for your dashboard. There are many tutorials out there on how to add a process to `systemd` and, as this is out of scope of this tutorial, my hope is that you find one, use it, and showcase your application to others.\n",
    "\n",
    "Let's try it out with our interactive dashboards. Make a copy and/or move the datasets to the deployment folder and follow the steps above."
   ]
  }
 ],
 "metadata": {
  "kernelspec": {
   "display_name": "Python 3",
   "language": "python",
   "name": "python3"
  },
  "language_info": {
   "codemirror_mode": {
    "name": "ipython",
    "version": 3
   },
   "file_extension": ".py",
   "mimetype": "text/x-python",
   "name": "python",
   "nbconvert_exporter": "python",
   "pygments_lexer": "ipython3",
   "version": "3.9.5"
  }
 },
 "nbformat": 4,
 "nbformat_minor": 5
}
