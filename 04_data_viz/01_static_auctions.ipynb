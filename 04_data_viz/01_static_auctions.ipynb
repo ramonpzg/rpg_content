{
 "cells": [
  {
   "cell_type": "markdown",
   "id": "shaped-surge",
   "metadata": {},
   "source": [
    "# 01 Static Dashboards - Auctions"
   ]
  },
  {
   "cell_type": "markdown",
   "id": "packed-helicopter",
   "metadata": {},
   "source": [
    "> \"Numbers have an important story to tell. They rely on you to give them a clear and convincing voice.\" ~ Stephen Few"
   ]
  },
  {
   "cell_type": "markdown",
   "id": "pretty-thumb",
   "metadata": {},
   "source": [
    "![img](https://do.minik.us/content/01-blog/30-silent-augmented-reality/header.jpg)\n",
    "\n",
    "**Source:** [\"Silent Augmented Reality\"](https://do.minik.us/blog/silent-augmented-reality) by Dominik Baur"
   ]
  },
  {
   "cell_type": "markdown",
   "id": "experienced-humanity",
   "metadata": {},
   "source": [
    "## Table of Contents"
   ]
  },
  {
   "cell_type": "markdown",
   "id": "fantastic-elizabeth",
   "metadata": {},
   "source": [
    "0. The Dashboard\n",
    "1. Scenario\n",
    "2. Use Cases\n",
    "3. The Data\n",
    "4. Top-Down Dashboard Breakdown\n",
    "5. Putting it all Together\n",
    "6. Summary"
   ]
  },
  {
   "cell_type": "code",
   "execution_count": null,
   "id": "furnished-prediction",
   "metadata": {},
   "outputs": [],
   "source": [
    "import pandas as pd, numpy as np, os\n",
    "import matplotlib.pyplot as plt\n",
    "import holoviews as hv, panel as pn\n",
    "from holoviews import dim, opts\n",
    "import geopandas as gpd, geoviews as gv\n",
    "from holoviews.element import tiles\n",
    "import IPython\n",
    "\n",
    "hv.extension('bokeh', 'matplotlib')\n",
    "\n",
    "pn.extension(design='material')\n",
    "\n",
    "pd.options.display.max_columns = None\n",
    "pd.options.display.max_rows = None\n",
    "pd.options.display.float_format = '{:.2f}'.format"
   ]
  },
  {
   "cell_type": "markdown",
   "id": "upset-contamination",
   "metadata": {},
   "source": [
    "## 00. The Dashboard"
   ]
  },
  {
   "cell_type": "markdown",
   "id": "julian-sport",
   "metadata": {},
   "source": [
    "There is an HTML copy of the dashboard available in a folder called, **dashboards**, and the following command run and display the dasboard in your notebook."
   ]
  },
  {
   "cell_type": "code",
   "execution_count": null,
   "id": "liked-chambers",
   "metadata": {},
   "outputs": [],
   "source": [
    "IPython.display.HTML('dashboards/static_dash.html')"
   ]
  },
  {
   "cell_type": "markdown",
   "id": "perfect-battery",
   "metadata": {},
   "source": [
    "## 01. Scenario"
   ]
  },
  {
   "cell_type": "markdown",
   "id": "political-philosophy",
   "metadata": {},
   "source": [
    "Analysts, economists, real estate agents and normal people all together need information, at one point or another, about the housing market of their respective cities to be informed and, hopefully, make a better offers/purchases or sale decisions. With this in mind, the dashboard we will reconstruct in this section provides summary statistics that may be of interest to anyone wanting to learn more about auctions in the housing market of the metropolitan area of Melbourne, VIC, Australia."
   ]
  },
  {
   "cell_type": "markdown",
   "id": "patient-interference",
   "metadata": {},
   "source": [
    "## 02. Use Cases"
   ]
  },
  {
   "cell_type": "markdown",
   "id": "flying-barbados",
   "metadata": {},
   "source": [
    "There are several immediate use cases for data regarding auctions for houses, townhouses, duplex, triplex, and the like.\n",
    "\n",
    "1. A person wanting to find the best one.\n",
    "2. An analyst trying to understand the housing market.\n",
    "3. A real estate agent wanting to find hot sale spots to look for the next property.\n",
    "4. The list is edless..."
   ]
  },
  {
   "cell_type": "markdown",
   "id": "municipal-young",
   "metadata": {},
   "source": [
    "## 03. The Data"
   ]
  },
  {
   "cell_type": "markdown",
   "id": "boolean-grain",
   "metadata": {},
   "source": [
    "The data comes from [Domain.com.au](domain.com.au) and it is part of their regular releases on housing auctions around the metropolitan area of Melbourne in the state of Victoria, Australia. This sample was scraped from domain's website and put up on Kaggle. The raw version can be found [here](https://www.kaggle.com/anthonypino/melbourne-housing-market?select=Melbourne_housing_FULL.csv).\n",
    "\n",
    "The data we will be using is a modified version of the one available in Kaggle. Additionally, we will be using a small GeoDataFrame with aggregate statistics and the longitute and latitude of the polygons that make up the suburbs in the metropolitan area of Melbourne.\n",
    "\n",
    "Here the details of the main dataframe.\n",
    "- `Suburb`\n",
    "- `Address`\n",
    "- `Rooms`: Number of Rooms\n",
    "- `Price`: Prices in AUD\n",
    "- `Method`:\n",
    "    - S - Property Sold\n",
    "    - SP - Sold Prior to Auction\n",
    "    - PI - Property Passed In\n",
    "    - VB - Vendor Bid\n",
    "    - SA - Sold After Auction\n",
    "- `Type`:\n",
    "    - House\n",
    "    - Unit/Duplex\n",
    "    - Townhouse\n",
    "- `SellerG`: Real Estate Agent\n",
    "- `DateSold`: Date sold\n",
    "- `Distance`: Distance from the Central Business District of Melbourne in kilometers\n",
    "- `RegioName`: Regions of the metropolitan area of Melbourne (West, North West, North, North east …etc)\n",
    "- `PropertyCount`: Number of properties that exist in the suburb.\n",
    "- `Bedroom2`: Scraped # of Bedrooms (from different source)\n",
    "- `Bathroom`: Number of Bathrooms\n",
    "- `CarSpots`: Number of carspots\n",
    "- `Landsize`: Land Size in Meters\n",
    "- `BuildingArea`: Building Size in Metres\n",
    "- `YearBuilt`: Year the house was built\n",
    "- `CouncilArea`: Governing council for the area\n",
    "- `Lattitude`\n",
    "- `Longtitude`\n",
    "\n",
    "Here are the details of the additional GeoDataFrame.\n",
    "- Summary statistics of the house prices per suburb\n",
    "- Longitude and latitude coordinates of the polygons that make up a suburb\n",
    "- Name of the suburb"
   ]
  },
  {
   "cell_type": "code",
   "execution_count": null,
   "id": "protected-oakland",
   "metadata": {},
   "outputs": [],
   "source": [
    "path = os.path.join('..', 'data')"
   ]
  },
  {
   "cell_type": "markdown",
   "id": "brown-north",
   "metadata": {},
   "source": [
    "### Main DataFrame"
   ]
  },
  {
   "cell_type": "markdown",
   "id": "valid-modem",
   "metadata": {},
   "source": [
    "A DataFrame is a data structure particular to pandas that allows us to work with data in a tabular format. You can also think of a pandas DataFrames as a NumPy matrix but with (to some extent and depending on the user) more flexibility.\n",
    "\n",
    "- they have a two-dimesional matrix-like shape by default but can also handle more dimensions (e.g. with a multilevel index)\n",
    "- their rows and columns are clearly defined with a visible index for the rows and names (or numbers) for the columns\n",
    "- pivot tables, which are one of the main tools of spreadsheets, are also available and easily accessible in pandas\n",
    "- lots of functionalities for reshaping, cleaning, and munging data\n",
    "- indexes can be strings, dates, numbers, etc.\n",
    "- very powerful and flexible .groupby() operation"
   ]
  },
  {
   "cell_type": "code",
   "execution_count": null,
   "id": "complete-grill",
   "metadata": {},
   "outputs": [],
   "source": [
    "df = pd.read_parquet(os.path.join(path, 'static', \"melb_auctions_clean.parquet\"))\n",
    "print(df.shape)"
   ]
  },
  {
   "cell_type": "code",
   "execution_count": null,
   "id": "gothic-binding",
   "metadata": {},
   "outputs": [],
   "source": [
    "# shows the first 5 rows of the dataframe\n",
    "df.head()"
   ]
  },
  {
   "cell_type": "code",
   "execution_count": null,
   "id": "marine-latin",
   "metadata": {
    "scrolled": true,
    "tags": []
   },
   "outputs": [],
   "source": [
    "# show the amount of rows, columns, missing values, and the data types of each variable\n",
    "df.info()"
   ]
  },
  {
   "cell_type": "code",
   "execution_count": null,
   "id": "approximate-small",
   "metadata": {
    "scrolled": true,
    "tags": []
   },
   "outputs": [],
   "source": [
    "# shows us the percentage of missing values per column\n",
    "df.isna().sum() / df.shape[0] * 100"
   ]
  },
  {
   "cell_type": "markdown",
   "id": "authentic-turtle",
   "metadata": {},
   "source": [
    "### GeoDataFrame"
   ]
  },
  {
   "cell_type": "markdown",
   "id": "indie-supplier",
   "metadata": {},
   "source": [
    "A GeoDataFrame is a pandas dataframe with geospatial capabilities. It holds a `geometry` column with the sape of the polygon, myltypoligon, line, etc. for each observation in our dataset. In addition, it allows us to create visualizations with geospatial information in a trivial way."
   ]
  },
  {
   "cell_type": "code",
   "execution_count": null,
   "id": "valuable-therapy",
   "metadata": {},
   "outputs": [],
   "source": [
    "subs_stats = gpd.read_file(os.path.join(path, 'static', \"suburbs_price.geojson\"))\n",
    "print(subs_stats.shape)"
   ]
  },
  {
   "cell_type": "code",
   "execution_count": null,
   "id": "front-replica",
   "metadata": {},
   "outputs": [],
   "source": [
    "# shows the first 5 rows of the dataframe\n",
    "subs_stats.head()"
   ]
  },
  {
   "cell_type": "code",
   "execution_count": null,
   "id": "processed-celebration",
   "metadata": {},
   "outputs": [],
   "source": [
    "# show the amount of rows, columns, missing values, and the data types of each variable\n",
    "subs_stats.info()"
   ]
  },
  {
   "cell_type": "code",
   "execution_count": null,
   "id": "ranking-atmosphere",
   "metadata": {},
   "outputs": [],
   "source": [
    "# shows us the percentage of missing values per column\n",
    "subs_stats.isna().sum() / subs_stats.shape[0] * 100"
   ]
  },
  {
   "cell_type": "markdown",
   "id": "presidential-somewhere",
   "metadata": {},
   "source": [
    "## 04. The Tools"
   ]
  },
  {
   "cell_type": "markdown",
   "id": "broad-magic",
   "metadata": {},
   "source": [
    "These are the tools we will use throughout the tutorial, they will help us make the most out of our data to derive some insights and share our results with others. The summary for each library was taken directly from their respective website, except for bokeh (I wrote that but I am sure that definition can be found on their website), and you can go to those websites by clicking on their names.\n",
    "\n",
    "- [pandas](https://pandas.pydata.org/)\n",
    "> \"pandas is a fast, powerful, flexible and easy to use open source data analysis and manipulation tool,\n",
    "built on top of the Python programming language.\"\n",
    "- [geopandas](https://geopandas.org/)\n",
    "> \"GeoPandas is an open source project to make working with geospatial data in python easier. GeoPandas extends the datatypes used by pandas to allow spatial operations on geometric types. Geometric operations are performed by shapely. Geopandas further depends on fiona for file access and matplotlib for plotting.\"\n",
    "\n",
    "- [bokeh](https://bokeh.org/)\n",
    "> bokeh is a Python data visualisation library for interactive data visualisation, application and dashboard creation, and live streaming of large datasets.\n",
    "\n",
    "- [matplotlib](https://matplotlib.org/)\n",
    "> \"Matplotlib is a comprehensive library for creating static, animated, and interactive visualizations in Python.\"\n",
    "\n",
    "- [HoloViews](https://holoviews.org/)\n",
    "> \"HoloViews is an open-source Python library designed to make data analysis and visualization seamless and simple. With HoloViews, you can usually express what you want to do in very few lines of code, letting you focus on what you are trying to explore and convey, not on the process of plotting.\"\n",
    "\n",
    "- [GeoViews](https://geoviews.org/)\n",
    "> \"GeoViews is a Python library that makes it easy to explore and visualize geographical, meteorological, and oceanographic datasets, such as those used in weather, climate, and remote sensing research.\"\n",
    "\n",
    "- [Panel](https://panel.holoviz.org/)\n",
    "> \"Panel is an open-source Python library that lets you create custom interactive web apps and dashboards by connecting user-defined widgets to plots, images, tables, or text.\""
   ]
  },
  {
   "cell_type": "markdown",
   "id": "technical-region",
   "metadata": {},
   "source": [
    "## 05. Top-Down Dashboard Breakdown"
   ]
  },
  {
   "cell_type": "markdown",
   "id": "victorian-composite",
   "metadata": {},
   "source": [
    "This section is all about deconstructing our dashboard and getting you to reacreate one yourself. We will start with panel (the canvas of our dashboard), and work our way backwards until we get to the final output."
   ]
  },
  {
   "cell_type": "markdown",
   "id": "continent-czech",
   "metadata": {},
   "source": [
    "### The Panel"
   ]
  },
  {
   "cell_type": "markdown",
   "id": "floating-exercise",
   "metadata": {},
   "source": [
    "As mentioned in section 04, panel is a tool to help us create apps and dashboards in pure Python that it also contains a JavaScript extention. You can think of panel as the canvas you will use to share your visualisations. It has been built on top of bokeh and the library param and provides the best of both worlds to its users.\n",
    "\n",
    "There are three main components in the library and these are a `pane`, a `widget`, and `panel`. A `pane` creates renderable objects from almost any data type, chart, or other object in Python and allows us to put it inside our application/dashboard. A widget gives interactivity to an object. Lastly, `panel`s are what will compose our dashboards and applications. Hence, they can contain `pane`s, a `widget`s, and other `panel`s.\n",
    "\n",
    "IN addition, panel has four major containers that allow us to create apps, and we will be using all 4 today to get to know them and reconstruct our dashboards. Here are the definitions of such components\n",
    "\n",
    "- **Row** - rows are like python lists that can hold any kind of data type, graph, chart, picture, gif, etc. while keeping the functionality of a list (e.g. you can extend them, index into them, and more). It allows you to resize or  fix the sizing of your app or dashboard, and it also let's you change the background color of it.\n",
    "- **Column** - columns behave in the same way as rows but vertically\n",
    "- **Tabs** tabs can be used for multiple views of a dashboard and multiple views of widgetds within a dashboard. You can inser rows, columns, grids, tables, charts, and more into any one given tab. \n",
    "- **GridSpec** - a gridspec is like a numpy matrix that behaves like a list in the sense that it has the same functionalities of a nested one. You can assign objects to it by indexing them and them adding them as a normal operation to your desire location, for example\n",
    "\n",
    "```python\n",
    "my_grid = GridSpec()\n",
    "\n",
    "# first row and third column\n",
    "my_grid[0, 2] = first_chart\n",
    "```\n",
    "\n",
    "All four components above can be used in combinations, and from experience, the best results can be achieved with a combination of Rows and Columns.\n",
    "\n",
    "There are some options that are not so optional to get a good looking dashboard up and running so let's talk about all of them before we implement them.\n",
    "- `background` - takes a HEX color as a string to fill the background of your panel element\n",
    "- `sizing_mode` - it controls the size of your panel objects\n",
    "- `width_policy` - it controls whether the width should change or be fixed, this option takes priority if `sizing_mode` has also been specified\n",
    "- `height_policy` - it controls whether the height should change or be fixed, this option takes priority if `sizing_mode` has also been specified\n",
    "- `align` - controls whether the object should be in the center or elsewhere\n",
    "- `height`\n",
    "- `width` \n",
    "- `max_height` \n",
    "- `max_width` \n",
    "- `min_height` \n",
    "- `min_width` \n",
    "- `margin`\n",
    "\n",
    "\n",
    "**NB**: To use panel's interactivity within a notebook we have to run `pn.extension()` at the beginning of our notebook as was done above."
   ]
  },
  {
   "cell_type": "markdown",
   "id": "second-begin",
   "metadata": {},
   "source": [
    "### Question"
   ]
  },
  {
   "cell_type": "markdown",
   "id": "driving-keeping",
   "metadata": {},
   "source": [
    "Can you guess whether our first dashboard was created with `Rows`, `Column`s, or a `GridSpec`?"
   ]
  },
  {
   "cell_type": "code",
   "execution_count": null,
   "id": "radical-surge",
   "metadata": {},
   "outputs": [],
   "source": [
    "title_row = pn.Row('# This is our Test Title', styles={'background': 'blue'})\n",
    "title_row"
   ]
  },
  {
   "cell_type": "code",
   "execution_count": null,
   "id": "anticipated-consent",
   "metadata": {},
   "outputs": [],
   "source": [
    "bars_row = pn.Row(\"What's the Median Price/House Type?\", \"What's the Median Price/Car Spots?\",\n",
    "                  \"What's the Median Price/Bathrooms?\", \"What's the Median Price/Rooms?\", styles={'background': 'red'})\n",
    "bars_row"
   ]
  },
  {
   "cell_type": "code",
   "execution_count": null,
   "id": "protected-treasurer",
   "metadata": {},
   "outputs": [],
   "source": [
    "bans_rows = pn.Row(\"Min Price\", \"25th Percentile\", \"Median Price\", \"75th Percentile\", \"Max Price\", styles={\"background\": 'cyan'})\n",
    "bans_rows"
   ]
  },
  {
   "cell_type": "code",
   "execution_count": null,
   "id": "conservative-framing",
   "metadata": {},
   "outputs": [],
   "source": [
    "bar_map_row = pn.Row(\"What's the Avg Price/Suburb with 150+ Listings?\", \"What's Median House Price/Suburb?\", styles={\"background\": 'brown'})\n",
    "bar_map_row"
   ]
  },
  {
   "cell_type": "code",
   "execution_count": null,
   "id": "destroyed-norway",
   "metadata": {},
   "outputs": [],
   "source": [
    "the_column = pn.Column(title_row, bars_row, bans_rows, bar_map_row, styles={\"background\": 'gray'}); the_column"
   ]
  },
  {
   "cell_type": "markdown",
   "id": "perfect-blind",
   "metadata": {
    "tags": []
   },
   "source": [
    "### The Bars"
   ]
  },
  {
   "cell_type": "markdown",
   "id": "appropriate-description",
   "metadata": {},
   "source": [
    "What do we want to know?\n",
    "\n",
    "> WHat's the median price per house type, car spots, bathrooms, and bedrooms in the metropolitan area of Melbourne?\n",
    "\n",
    "For most of our visualizations we will be using HoloViews, a library designed for \"shortcuts not dead ends.\" It is buoild on top bokeh, matplot, and plotly, and thus, it provides functionalities from all of these libraries. What you have to keep in mind though, is which backend you want to use for your session. As noted above with `hv.extension('bokeh', 'matplotlib')`, we have selected bokeh as our main backend and matplotlib as the second.\n",
    "\n",
    "Since both bokeh and matplolib are both excellent, extensive, and very mature libraries, we will not be covering the ins and outs of Holoviews as it is, in a way, a wrapper of both. Instead, we will be focusing on how to answer questions with commonly used visualisations, put them into a dashboard we can share with others, and, hopefully, learn a thing or about \"Stealing like Artists\" when we encounter designs that we like and inspire us.\n",
    "\n",
    "We will go ahead an create the first bar in our visual above. Bar or columns are a commonly used visualization as they are easy to understand and use within different contexts.\n",
    "\n",
    "We can create a bar chart with holoviews' `hv.Bars` option and by passing in what is calls dimensions."
   ]
  },
  {
   "cell_type": "code",
   "execution_count": null,
   "id": "457087e5-a999-44f3-b649-ded940803f48",
   "metadata": {},
   "outputs": [],
   "source": [
    "df.head()"
   ]
  },
  {
   "cell_type": "code",
   "execution_count": null,
   "id": "incredible-skill",
   "metadata": {},
   "outputs": [],
   "source": [
    "hv.Bars(df, 'Type', 'Price')"
   ]
  },
  {
   "cell_type": "markdown",
   "id": "molecular-harvard",
   "metadata": {},
   "source": [
    "As you can see from above, the default settings are not that great, first because the data could be represented in a much better way and second, because most good visualizations, like any piece of art, require some customization to achieve a balance between aestetics and correctness.\n",
    "\n",
    "Let's first create a representation for the type of information we are trying to show. We will use the `.groupby()` method of pandas to create such representation, and we will call these `data_4_bar1`, `data_4_bar2`, and so forth, for all of our four charts. Remember, we are interested in the following key facts about the houses auctions in the metropolitan area of Melbourne\n",
    "\n",
    "1. The median price per `Type` of house\n",
    "2. The median price per `CarSpots` available\n",
    "3. The median price per `Bathroom`s available\n",
    "4. The median price per `Rooms` available\n",
    "\n",
    "We will divide the median by 1000 to show a more legible amount, and we will also reset the index our our new data structure to extract the index containing the type of house, and get two variables/columns in return."
   ]
  },
  {
   "cell_type": "code",
   "execution_count": null,
   "id": "rapid-andorra",
   "metadata": {},
   "outputs": [],
   "source": [
    "data_bar1 = df.groupby('Type')['Price'].median()\n",
    "data_bar1"
   ]
  },
  {
   "cell_type": "code",
   "execution_count": null,
   "id": "concrete-andrew",
   "metadata": {},
   "outputs": [],
   "source": [
    "data_bar1 = df.groupby('Type')['Price'].median() / 1000\n",
    "data_bar1"
   ]
  },
  {
   "cell_type": "code",
   "execution_count": null,
   "id": "gross-tackle",
   "metadata": {},
   "outputs": [],
   "source": [
    "data_bar1 = (df.groupby('Type')['Price'].median() / 1000).reset_index()\n",
    "data_bar1"
   ]
  },
  {
   "cell_type": "code",
   "execution_count": null,
   "id": "varied-dancing",
   "metadata": {},
   "outputs": [],
   "source": [
    "data_bar2 = (df.groupby('CarSpots')['Price'].median() / 1000).reset_index()\n",
    "data_bar3 = (df.groupby('Bathroom')['Price'].median() / 1000).reset_index()\n",
    "data_bar3"
   ]
  },
  {
   "cell_type": "markdown",
   "id": "recorded-target",
   "metadata": {},
   "source": [
    "### Exercise 1\n",
    "\n",
    "Fill in the blanks.\n",
    "\n",
    "1. Use pandas groupby method to create a dataframe for the Rooms.\n",
    "2. Take the median of the price column\n",
    "3. Divide the result from 2 by 1000\n",
    "4. Reset the index of your data structure"
   ]
  },
  {
   "cell_type": "code",
   "execution_count": null,
   "id": "present-driving",
   "metadata": {},
   "outputs": [],
   "source": [
    "# data_bar4 = (df.___('___')['___'].___() / ____).___()"
   ]
  },
  {
   "cell_type": "markdown",
   "id": "arabic-naples",
   "metadata": {},
   "source": [
    "Answer Below!"
   ]
  },
  {
   "cell_type": "code",
   "execution_count": null,
   "id": "worth-pension",
   "metadata": {
    "tags": []
   },
   "outputs": [],
   "source": [
    "data_bar4 = (df.groupby('Rooms')['Price'].median() / 1000).reset_index()"
   ]
  },
  {
   "cell_type": "markdown",
   "id": "thrown-northeast",
   "metadata": {},
   "source": [
    "Now that we have our data ready, let's go back to the bar charts."
   ]
  },
  {
   "cell_type": "code",
   "execution_count": null,
   "id": "involved-louisville",
   "metadata": {},
   "outputs": [],
   "source": [
    "bar1 = hv.Bars(data_bar1, 'Type', 'Price')\n",
    "bar1"
   ]
  },
  {
   "cell_type": "markdown",
   "id": "demonstrated-fellow",
   "metadata": {},
   "source": [
    "Much better! We still need to polish our charts though, and we will do so with the `.opts` method of a HoloViews element, which allows us to pass a plethora of options to customise our charts.\n",
    "\n",
    "To check the methods available at our disposal you can use, `hv.help(opts.Bars)` or, within a notebook, use `Shift + Tab` from within a chart constructor like `hv.Scatter()` and that will bring up all of the options available plus their description. For our use case we will need,\n",
    "\n",
    "- title\n",
    "- color\n",
    "- line_color\n",
    "- alpha\n",
    "- yticks\n",
    "- ylim\n",
    "- yformatter\n",
    "- width\n",
    "- height\n",
    "- toolbar\n",
    "- labelled\n",
    "- bar_width\n",
    "\n",
    "Let's add a few options at a time and see how these change our plot."
   ]
  },
  {
   "cell_type": "code",
   "execution_count": null,
   "id": "legendary-bracelet",
   "metadata": {},
   "outputs": [],
   "source": [
    "bar1.opts(title=\"Median Price/Type\", color='#8fbcbb', line_color=None)"
   ]
  },
  {
   "cell_type": "markdown",
   "id": "median-program",
   "metadata": {},
   "source": [
    "Looking much better. Let's now deal with the ticks of the y axis. To do so we will first figure out the maximum price available in our 4 mini datasets."
   ]
  },
  {
   "cell_type": "code",
   "execution_count": null,
   "id": "jewish-transformation",
   "metadata": {},
   "outputs": [],
   "source": [
    "print(data_bar1['Price'].max())\n",
    "print(data_bar2['Price'].max())\n",
    "print(data_bar3['Price'].max())\n",
    "print(data_bar4['Price'].max())"
   ]
  },
  {
   "cell_type": "markdown",
   "id": "about-mention",
   "metadata": {},
   "source": [
    "It seems that the highest median price can be found in the data_bar3 which is our dataframe with the median price per bathroom. We will now create a range for the ticks of our y-axis from 0 to the max value in increments of 1000 (for no particular reason). We will also add a limit to the y axis of 3600, and reduce the intensity of the color by half."
   ]
  },
  {
   "cell_type": "code",
   "execution_count": null,
   "id": "ultimate-vegetarian",
   "metadata": {},
   "outputs": [],
   "source": [
    "y_ticks = list(range(0, round(data_bar3['Price'].max()), 1000))\n",
    "y_ticks"
   ]
  },
  {
   "cell_type": "code",
   "execution_count": null,
   "id": "short-magazine",
   "metadata": {},
   "outputs": [],
   "source": [
    "bar1.opts(title=\"Median Price/Type\", color='#8fbcbb', line_color=None, \n",
    "          alpha=0.5, yticks=y_ticks, ylim=(1, 3600))"
   ]
  },
  {
   "cell_type": "markdown",
   "id": "formal-secretary",
   "metadata": {},
   "source": [
    "Much better! Let's now fix the size of our visualization, get rid of the toolbar and axes labels (because the title is self-explanatory), reduce the bar width, and format the values of the y axis."
   ]
  },
  {
   "cell_type": "code",
   "execution_count": null,
   "id": "official-health",
   "metadata": {},
   "outputs": [],
   "source": [
    "bar1.opts(title=\"Median Price/Type\", \n",
    "          color='#8fbcbb', \n",
    "          line_color=None, \n",
    "          alpha=0.8, \n",
    "          yticks=y_ticks, \n",
    "          ylim=(1, 3600),\n",
    "          yformatter=\"$%.0fK\", \n",
    "          width=230, \n",
    "          height=200, toolbar='disable', \n",
    "          labelled=[], \n",
    "          bar_width=0.2\n",
    "         )"
   ]
  },
  {
   "cell_type": "markdown",
   "id": "sacred-experiment",
   "metadata": {},
   "source": [
    "Now that we have figured out how to customise our bars to our needs, we certainly don't want to repeat all of that code multiple times, instead, what we would like to do is create a dictionary with all of the options we need and map them to each one of our charts. Let's do just that and create a dictionary with our options and call it, `gbar_options`."
   ]
  },
  {
   "cell_type": "code",
   "execution_count": null,
   "id": "ranging-sense",
   "metadata": {},
   "outputs": [],
   "source": [
    "gbar_options = dict(color='#8fbcbb', line_color=None, alpha=0.8, ylim=(1, 3600),\n",
    "                    yformatter=\"$%.0fK\", width=230, height=200, toolbar='disable', labelled=[],\n",
    "                    yticks=list(range(0, round(data_bar3.Price.max()), 1000)))"
   ]
  },
  {
   "cell_type": "markdown",
   "id": "reserved-playlist",
   "metadata": {},
   "source": [
    "Now we will create our 4 charts with 2 unique options, the `title` and the `bar_width=`, and pass in our dictionary of global options."
   ]
  },
  {
   "cell_type": "code",
   "execution_count": null,
   "id": "satisfactory-chess",
   "metadata": {},
   "outputs": [],
   "source": [
    "b1 = hv.Bars(data_bar1, 'Type', 'Price').opts(title=\"Median Price per House Type\", **gbar_options, bar_width=0.2)\n",
    "b2 = hv.Bars(data_bar2, 'CarSpots', 'Price').opts(title='Median Price/Car Spots', **gbar_options, bar_width=0.55)\n",
    "b3 = hv.Bars(data_bar3, 'Bathroom', 'Price').opts(title='Median Price/Bathrooms', **gbar_options, bar_width=0.5)\n",
    "b4 = hv.Bars(data_bar4, 'Rooms', 'Price').opts(title='Median Price/Rooms', **gbar_options, bar_width=0.5)"
   ]
  },
  {
   "cell_type": "markdown",
   "id": "sunrise-preliminary",
   "metadata": {},
   "source": [
    "HoloViews allows us to concatenate and overlay charts with the `+` and `*` operators, respectively. Let's use the `+` to see our 4 charts right next to one another."
   ]
  },
  {
   "cell_type": "code",
   "execution_count": null,
   "id": "likely-design",
   "metadata": {},
   "outputs": [],
   "source": [
    "b1 + b2 + b3 + b4"
   ]
  },
  {
   "cell_type": "markdown",
   "id": "partial-polish",
   "metadata": {},
   "source": [
    "### Exercise 2"
   ]
  },
  {
   "cell_type": "markdown",
   "id": "hawaiian-possible",
   "metadata": {},
   "source": [
    "1. Use the groupby method on the `Dayofweek` variable. Assign it to a variable called `my_data1`.\n",
    "2. Select the `Price` column and take either the median or the mean of it.\n",
    "3. Divide the `Price` column by 1000.\n",
    "4. Reset the index to create a dataframe.\n",
    "4. Create a bar chart.\n",
    "5. Customise it with 5 different options.\n",
    "6. Assign the final bar chart, including all options, to a variable called, `my_bar`."
   ]
  },
  {
   "cell_type": "code",
   "execution_count": null,
   "id": "opponent-change",
   "metadata": {},
   "outputs": [],
   "source": []
  },
  {
   "cell_type": "code",
   "execution_count": null,
   "id": "widespread-excess",
   "metadata": {},
   "outputs": [],
   "source": []
  },
  {
   "cell_type": "code",
   "execution_count": null,
   "id": "intense-address",
   "metadata": {},
   "outputs": [],
   "source": []
  },
  {
   "cell_type": "markdown",
   "id": "metallic-collector",
   "metadata": {},
   "source": [
    "Hint Below!"
   ]
  },
  {
   "cell_type": "code",
   "execution_count": null,
   "id": "breathing-cruise",
   "metadata": {
    "tags": []
   },
   "outputs": [],
   "source": [
    "____ = df.___('____')['____'].____()\n",
    "____ = ____ / ____\n",
    "my_data1 = ____.____()\n",
    "my_bar = hv.Bars(my_data1, '____', 'Price').opts(___ = ___,  ____ = ____,  ____ = ____,  \n",
    "                                                      ____ = ____,  ____ = ____)\n",
    "my_bar"
   ]
  },
  {
   "cell_type": "markdown",
   "id": "expensive-feelings",
   "metadata": {},
   "source": [
    "### The Dots that want to be Bars"
   ]
  },
  {
   "cell_type": "markdown",
   "id": "subtle-sellers",
   "metadata": {},
   "source": [
    "What do we want to know?\n",
    "\n",
    "> How have average prices shifted in a year in the suburbs with the most amount of listings?\n",
    "\n",
    "Bars are used to visualise amounts, either continuous or categorical, but they are not necessarily the only ones we can use to show a given measure from our data. For instance, we can use dot plots to compare 2 amounts given a category. And that is what our dots that want to be bars do.\n",
    "\n",
    "Let's examine our chart again."
   ]
  },
  {
   "cell_type": "code",
   "execution_count": null,
   "id": "heated-hostel",
   "metadata": {},
   "outputs": [],
   "source": [
    "IPython.display.Image('dashboards/bar_wanabes.png')"
   ]
  },
  {
   "cell_type": "markdown",
   "id": "brazilian-smoke",
   "metadata": {},
   "source": [
    "When we try to decompose charts we usally want to start with the title. A well thought-out title will give you enough context to understand the essence of the visualization. For example, the title, \"Median Income per County in the State of California\" is self-explanatory and only leaves one more question to answer, what kind of visual encoder did the creator use for this chart? From the title though, we know that we need an aggegate statistic for a category, in this case, the counties.\n",
    "\n",
    "Four visualization above we have a similar case as example we just read, we have suburbs and we need need their average prices in both of the years we have data for, 2016 and 2017. So let's start by creating these aggregate statistics for suburbs in Melbourne with 150 listings or more."
   ]
  },
  {
   "cell_type": "code",
   "execution_count": null,
   "id": "hungry-fireplace",
   "metadata": {
    "scrolled": true,
    "tags": []
   },
   "outputs": [],
   "source": [
    "# we will first count all of the listing we have per suburb\n",
    "subs_counts = df.Suburb.value_counts()\n",
    "subs_counts"
   ]
  },
  {
   "cell_type": "code",
   "execution_count": null,
   "id": "killing-louisiana",
   "metadata": {
    "tags": []
   },
   "outputs": [],
   "source": [
    "# then we will create a list with the suburbs with more 149 listings\n",
    "subs_counts = list(subs_counts[subs_counts > 149].index)\n",
    "subs_counts"
   ]
  },
  {
   "cell_type": "code",
   "execution_count": null,
   "id": "fantastic-offer",
   "metadata": {},
   "outputs": [],
   "source": [
    "# we now have an array of booleans\n",
    "subs_mask = df.Suburb.isin(subs_counts)\n",
    "subs_mask.head()"
   ]
  },
  {
   "cell_type": "markdown",
   "id": "abroad-museum",
   "metadata": {},
   "source": [
    "We will now select the suburbs we need by filtering our the ones we don't want. We will then use the `.groupby()` method to group each suburb by the year."
   ]
  },
  {
   "cell_type": "code",
   "execution_count": null,
   "id": "following-philip",
   "metadata": {},
   "outputs": [],
   "source": [
    "subs_group = df[subs_mask].groupby(['Year', 'Suburb'])\n",
    "subs_group"
   ]
  },
  {
   "cell_type": "markdown",
   "id": "genetic-airport",
   "metadata": {},
   "source": [
    "The above provides us with a grouped object from which we can take out aggregate statistics now. Let's select the `Price` column and take the mean and the median. Since these numbers are quite large, we will divide them by 1000 and note this in our visualization."
   ]
  },
  {
   "cell_type": "code",
   "execution_count": null,
   "id": "mexican-genome",
   "metadata": {},
   "outputs": [],
   "source": [
    "subs_group = (subs_group['Price'].agg(['mean', 'median']) / 1000).reset_index()\n",
    "subs_group.head(7)"
   ]
  },
  {
   "cell_type": "markdown",
   "id": "needed-mathematics",
   "metadata": {},
   "source": [
    "Let's now create a scatter without any of the options that we will need."
   ]
  },
  {
   "cell_type": "code",
   "execution_count": null,
   "id": "invalid-bible",
   "metadata": {},
   "outputs": [],
   "source": [
    "hv.Scatter(subs_group[subs_group.Year == 2017], 'mean', 'Suburb', label=\"2017\")"
   ]
  },
  {
   "cell_type": "markdown",
   "id": "weird-utilization",
   "metadata": {},
   "source": [
    "Fantastic, let's make this plot better with some additional options."
   ]
  },
  {
   "cell_type": "code",
   "execution_count": null,
   "id": "located-action",
   "metadata": {},
   "outputs": [],
   "source": [
    "scatter_17 = (\n",
    "    hv.Scatter(\n",
    "        subs_group[subs_group.Year == 2017], 'mean', 'Suburb', label=\"2017\"\n",
    "    ).opts(\n",
    "        xformatter='$%.0fK', size=7, color='#8fbcbb', toolbar='disable', show_grid=True,\n",
    "        width=500, height=400, xrotation=25, legend_position='bottom_right', labelled=[], \n",
    "        title=\"Average Price per Suburb with 150+ Listings\"\n",
    "    ).sort())\n",
    "scatter_17"
   ]
  },
  {
   "cell_type": "markdown",
   "id": "assigned-provider",
   "metadata": {},
   "source": [
    "We will now create one for 2016 but note that since we will be overlaying this plot on top of the one above, we don't need to pass in all of the options as before, just the unique ones to this plot such as the `label`, `size`, and `color`."
   ]
  },
  {
   "cell_type": "code",
   "execution_count": null,
   "id": "speaking-crown",
   "metadata": {},
   "outputs": [],
   "source": [
    "scatter_16 = hv.Scatter(subs_group[subs_group.Year == 2016], 'mean', 'Suburb', label=\"2016\").opts(size=7, color='#d08770')\n",
    "scatter_16"
   ]
  },
  {
   "cell_type": "markdown",
   "id": "official-offer",
   "metadata": {},
   "source": [
    "We can overlay an object on top of another with the `*` operator."
   ]
  },
  {
   "cell_type": "code",
   "execution_count": null,
   "id": "incorrect-translator",
   "metadata": {},
   "outputs": [],
   "source": [
    "layout = scatter_17 * scatter_16\n",
    "layout"
   ]
  },
  {
   "cell_type": "markdown",
   "id": "complete-contest",
   "metadata": {},
   "source": [
    "Finally, to save an image we can use `hv.save()`, pass in the object, and give it a path and file name with our desired extension."
   ]
  },
  {
   "cell_type": "code",
   "execution_count": null,
   "id": "palestinian-french",
   "metadata": {},
   "outputs": [],
   "source": [
    "hv.save(layout, 'dashboards/bar_wanabes.png')"
   ]
  },
  {
   "cell_type": "markdown",
   "id": "mature-instrument",
   "metadata": {},
   "source": [
    "### Exercise 3"
   ]
  },
  {
   "cell_type": "markdown",
   "id": "caring-courage",
   "metadata": {},
   "source": [
    "Create a plot that wants to be a bar using the `Suburbs` and the `Landsize` variable."
   ]
  },
  {
   "cell_type": "code",
   "execution_count": null,
   "id": "optical-interest",
   "metadata": {},
   "outputs": [],
   "source": []
  },
  {
   "cell_type": "code",
   "execution_count": null,
   "id": "another-liechtenstein",
   "metadata": {},
   "outputs": [],
   "source": []
  },
  {
   "cell_type": "markdown",
   "id": "considerable-riverside",
   "metadata": {
    "tags": []
   },
   "source": [
    "### The BANs"
   ]
  },
  {
   "cell_type": "markdown",
   "id": "included-winter",
   "metadata": {},
   "source": [
    "What do we want to know?\n",
    "\n",
    "> WHat's the price distribution of our entire sample (e.g. min, 25th pct, median, 75th pct, and max)?\n",
    "\n",
    "I first heard of BAN's from the excellent book titled, \"The Big Book of Dashboards\" by Steve Wexler, Jeffrey Shaffer, and Andy Cotgreave, and BAN's stand for \"Big Ass Numbers\" or, depending on the setting, \"Big Angry Numbers.\"\n",
    "\n",
    "Panel has a nice function inside their indicators' sub-module that does just that and it is called, `pn.indicators.Number()`. We need two main parameters for BANs and these are, the `name=` which is basically the title of our BAN, and the `value=` which is the number we would like to display."
   ]
  },
  {
   "cell_type": "code",
   "execution_count": null,
   "id": "spiritual-transfer",
   "metadata": {},
   "outputs": [],
   "source": [
    "pn.indicators.Number(name=\"A Fun Number\", value=1_000)"
   ]
  },
  {
   "cell_type": "markdown",
   "id": "automatic-transport",
   "metadata": {},
   "source": [
    "We can customize our BAN quite a bit with\n",
    "- `default_color=` - which takes a string with either a HEX color or an actual color name such as \"brown\"\n",
    "- `font_size=` - which takes a string with a number for the size and the suffix `pt`, e.g. `\"20pt\"`\n",
    "- `title_size=` - which also takes a string in the same fashion as the `font_size=`\n",
    "\n",
    "In addition we can pass on other parameters such as, but not limited to, the following\n",
    "- `margin=` - a 4-value tuple representing the space in between the borders and the output, e.g. (top, right, bottom, left)\n",
    "- `align=` - a string telling panel how to align the value and title, e.g. `'center'`\n",
    "- `format=` - helps us format the number we want to display, for example, `'${value:,.0f}K'`, will take the value and show `$1,000K`"
   ]
  },
  {
   "cell_type": "code",
   "execution_count": null,
   "id": "expensive-chaos",
   "metadata": {},
   "outputs": [],
   "source": [
    "pn.indicators.Number(name=\"A Fun Number\", value=1_000, default_color='brown', \n",
    "                                font_size='30pt', title_size='50pt')"
   ]
  },
  {
   "cell_type": "code",
   "execution_count": null,
   "id": "olive-munich",
   "metadata": {},
   "outputs": [],
   "source": [
    "pn.indicators.Number(name=\"A Fun Number\", value=1_000, default_color='brown', margin=(0, 30, 0, 50),\n",
    "                                font_size='30pt', title_size='50pt', \n",
    "                                align='center', format='${value:,.0f}K')"
   ]
  },
  {
   "cell_type": "markdown",
   "id": "normal-machine",
   "metadata": {},
   "source": [
    "Let's now create a function that takes in a title, a value, and a color instead of a dictionary with our global parameters as done before.\n",
    "\n",
    "**NB**: The colors used throghout the tutorial all come from [Nord](https://www.nordtheme.com/)."
   ]
  },
  {
   "cell_type": "code",
   "execution_count": null,
   "id": "raising-advantage",
   "metadata": {},
   "outputs": [],
   "source": [
    "def ban(title, value, c=1):\n",
    "    cols = ('#bf616a', '#d08770', '#ebcb8b', '#a3be8c', '#b48ead')\n",
    "    return pn.indicators.Number(name=title, value=value, default_color=cols[c], align='center', \n",
    "                                format='${value:,.0f}K', font_size='20pt', title_size='20pt')"
   ]
  },
  {
   "cell_type": "code",
   "execution_count": null,
   "id": "conservative-lending",
   "metadata": {},
   "outputs": [],
   "source": [
    "# let's test our function\n",
    "ban(title=\"Testing\", value=500, c=0)"
   ]
  },
  {
   "cell_type": "markdown",
   "id": "weekly-genius",
   "metadata": {},
   "source": [
    "Let's now create our 5 BANs with the descriptive statistics we want, in the thousands."
   ]
  },
  {
   "cell_type": "code",
   "execution_count": null,
   "id": "canadian-privilege",
   "metadata": {},
   "outputs": [],
   "source": [
    "ban1 = ban(\"Min Price\", df['Price'].min() / 1000, 4)\n",
    "ban2 = ban(\"25th Percentile\", df['Price'].quantile(0.25) / 1000, 3)\n",
    "ban3 = ban(\"Median Price\", df['Price'].median() / 1000, 2)\n",
    "ban4 = ban(\"75th Percentile\", df['Price'].quantile(0.75) / 1000, 1)\n",
    "ban5 = ban(\"Max Price\", df['Price'].max() / 1000, 0)\n",
    "ban3"
   ]
  },
  {
   "cell_type": "markdown",
   "id": "constant-corrections",
   "metadata": {},
   "source": [
    "### Exercise 4"
   ]
  },
  {
   "cell_type": "markdown",
   "id": "magnetic-august",
   "metadata": {},
   "source": [
    "Create two BANs with whichever measures you'd like, For example, you could choose to display the minimum distance to the CBD, the medium LandSize per house available in the dataset, or the maximum amount of properties in a given Suburb. Assign your 2 BANs to 2 variables called `my_ban1` and `my_ban2`."
   ]
  },
  {
   "cell_type": "code",
   "execution_count": null,
   "id": "institutional-concert",
   "metadata": {},
   "outputs": [],
   "source": []
  },
  {
   "cell_type": "code",
   "execution_count": null,
   "id": "excessive-undergraduate",
   "metadata": {},
   "outputs": [],
   "source": []
  },
  {
   "cell_type": "code",
   "execution_count": null,
   "id": "touched-gazette",
   "metadata": {},
   "outputs": [],
   "source": []
  },
  {
   "cell_type": "markdown",
   "id": "smaller-consistency",
   "metadata": {},
   "source": [
    "### The Title"
   ]
  },
  {
   "cell_type": "markdown",
   "id": "spectacular-shooting",
   "metadata": {},
   "source": [
    "The title of a visualization and that of a dashboard, is one of the most important elements of a visual display. It gives us context and guidance as to what to expect from the visual set of encodings we are examining. That said, panel's pane element gives us a useful function, `pn.pane.Markdown()`, that allows us to create titles as if they were the heading of a Markdown file. Let's put is to use."
   ]
  },
  {
   "cell_type": "code",
   "execution_count": null,
   "id": "brown-thumb",
   "metadata": {},
   "outputs": [],
   "source": [
    "pn.pane.Markdown(\"# Housing Auction Analysis in Melbourne, AU\")"
   ]
  },
  {
   "cell_type": "markdown",
   "id": "combined-cement",
   "metadata": {},
   "source": [
    "As with other functionalities of panel, we get to customize with additional parameters such as\n",
    "- `style` - takes in a dictionary parameters we can use to change the text, for example, `{'color':'blue'}`\n",
    "- `sizing_mode` - offers functionalities to control how the content of the pane gets resized. stretch_width, stretch_height, and fixed are some of the most useful values for this function\n",
    "- `margin` - controls the location of the values displayed by the pane"
   ]
  },
  {
   "cell_type": "code",
   "execution_count": null,
   "id": "static-warrior",
   "metadata": {},
   "outputs": [],
   "source": [
    "pn.pane.Markdown(\"# Housing Auction Analysis in Melbourne, AU\", styles={\"color\": \"#3b4252\"}, width=500)"
   ]
  },
  {
   "cell_type": "code",
   "execution_count": null,
   "id": "documented-vaccine",
   "metadata": {},
   "outputs": [],
   "source": [
    "header = pn.pane.Markdown(\n",
    "    \"# Housing Auction Analysis in Melbourne, AU\", styles={\"color\": \"#3b4252\"},\n",
    "    width=500, sizing_mode=\"stretch_width\", margin=(10,5,10,15)\n",
    ")\n",
    "header"
   ]
  },
  {
   "cell_type": "markdown",
   "id": "developing-nursing",
   "metadata": {},
   "source": [
    "Aother useful functionality that comes from panel's pane is the `pn.pane.PNG`, which allows us to pass in a path to an image or a url containing one and it will display it for us. We do need to be careful with the sizing as this function takes the default size of the image and it may be to large for your use case."
   ]
  },
  {
   "cell_type": "code",
   "execution_count": null,
   "id": "diverse-socket",
   "metadata": {},
   "outputs": [],
   "source": [
    "pn.pane.PNG(\"https://icons.iconarchive.com/icons/google/noto-emoji-travel-places/1024/42486-house-icon.png\")"
   ]
  },
  {
   "cell_type": "code",
   "execution_count": null,
   "id": "fallen-tackle",
   "metadata": {},
   "outputs": [],
   "source": [
    "p1 = pn.pane.PNG(\n",
    "    \"https://icons.iconarchive.com/icons/google/noto-emoji-travel-places/1024/42486-house-icon.png\", \n",
    "    height=50, sizing_mode=\"fixed\", align=\"center\"\n",
    ")\n",
    "p1"
   ]
  },
  {
   "cell_type": "code",
   "execution_count": null,
   "id": "outdoor-mobility",
   "metadata": {},
   "outputs": [],
   "source": [
    "p2 = pn.pane.PNG(\n",
    "    \"https://cdn-icons-png.flaticon.com/512/2111/2111283.png\",\n",
    "    height=50, sizing_mode=\"fixed\", align=\"center\"\n",
    ")\n",
    "p2"
   ]
  },
  {
   "cell_type": "markdown",
   "id": "formal-adjustment",
   "metadata": {},
   "source": [
    "We can also separate elements within from each other with `pn.Spacer()`."
   ]
  },
  {
   "cell_type": "code",
   "execution_count": null,
   "id": "northern-penalty",
   "metadata": {},
   "outputs": [],
   "source": [
    "# no social distancing between these images\n",
    "pn.Row(p1, p2)"
   ]
  },
  {
   "cell_type": "code",
   "execution_count": null,
   "id": "inside-economy",
   "metadata": {},
   "outputs": [],
   "source": [
    "# some social distancing\n",
    "pn.Row(p1, pn.Spacer(), p2)"
   ]
  },
  {
   "cell_type": "code",
   "execution_count": null,
   "id": "motivated-hamilton",
   "metadata": {},
   "outputs": [],
   "source": [
    "# much better :)\n",
    "pn.Row(p1, pn.Spacer(width=30), p2)"
   ]
  },
  {
   "cell_type": "markdown",
   "id": "persistent-balance",
   "metadata": {},
   "source": [
    "Finally, let's put it all together and create the title for our dashboard."
   ]
  },
  {
   "cell_type": "code",
   "execution_count": null,
   "id": "editorial-serbia",
   "metadata": {},
   "outputs": [],
   "source": [
    "title = pn.Row(header, pn.Spacer(), p1, p2, styles={'background': '#d8dee9'}, sizing_mode='fixed', width=1050, height=70)\n",
    "title"
   ]
  },
  {
   "cell_type": "markdown",
   "id": "looking-genealogy",
   "metadata": {},
   "source": [
    "### Exercise 5"
   ]
  },
  {
   "cell_type": "markdown",
   "id": "greater-brick",
   "metadata": {},
   "source": [
    "Create a title with\n",
    "- Words in Markdown\n",
    "- An image ([inspiration](https://giphy.com/search/programming))\n",
    "- Some background color\n",
    "- Assign the final result to a variable called `my_title`"
   ]
  },
  {
   "cell_type": "code",
   "execution_count": null,
   "id": "framed-withdrawal",
   "metadata": {},
   "outputs": [],
   "source": []
  },
  {
   "cell_type": "code",
   "execution_count": null,
   "id": "centered-tournament",
   "metadata": {},
   "outputs": [],
   "source": []
  },
  {
   "cell_type": "markdown",
   "id": "julian-species",
   "metadata": {
    "tags": []
   },
   "source": [
    "### The Map"
   ]
  },
  {
   "cell_type": "markdown",
   "id": "exterior-nursing",
   "metadata": {},
   "source": [
    "What do we want to know.\n",
    "\n",
    "> Is it more expensive to live in suburbs that are closer to the Central Business District?\n",
    "\n",
    "We will use our geodataframe for this visualisation but before we create it, we will first divide median price per suburb by 1000."
   ]
  },
  {
   "cell_type": "code",
   "execution_count": null,
   "id": "ba2138a9-1042-4ef7-9a2d-78ae88352254",
   "metadata": {
    "scrolled": true
   },
   "outputs": [],
   "source": [
    "subs_stats['median']"
   ]
  },
  {
   "cell_type": "code",
   "execution_count": null,
   "id": "political-princess",
   "metadata": {},
   "outputs": [],
   "source": [
    "subs_stats['Median_in_Thousands'] = subs_stats['median'] / 1000\n",
    "subs_stats.head(2)"
   ]
  },
  {
   "cell_type": "markdown",
   "id": "strong-values",
   "metadata": {},
   "source": [
    "The library `geoviews` takes in a geodataframe (or any other data structure) and it maps automatically the longitude and latitude of our shapes into the key dimensions, x and y. The values overlayed on top become the value dimensions and these will represent the name of the `Suburb` and the `Median_in_Thousands`. As before, we can add a label that will serve as the title, we can also customize the width and the height, and we can also add the hover tool from bokeh by passing using the `tools` parameter."
   ]
  },
  {
   "cell_type": "code",
   "execution_count": null,
   "id": "initial-nancy",
   "metadata": {},
   "outputs": [],
   "source": [
    "melb_map = (gv.Polygons(subs_stats, vdims=['Suburb', 'Median_in_Thousands'], \n",
    "                       label='Median House Prices in Melbourne (in the Thousands)')\n",
    "              .opts(width=500, height=400, tools=['hover']))\n",
    "melb_map"
   ]
  },
  {
   "cell_type": "markdown",
   "id": "spanish-individual",
   "metadata": {},
   "source": [
    "Notice that there are two suburbs quite far away from the major metro area of Melbourne. Let's filter them out to have a better view of the metro area. We will also get rid of the axes as we are not interested in these measures to that level of detail."
   ]
  },
  {
   "cell_type": "code",
   "execution_count": null,
   "id": "material-heart",
   "metadata": {},
   "outputs": [],
   "source": [
    "Bellfield = subs_stats.Suburb != 'Bellfield'\n",
    "Hillside = subs_stats.Suburb != 'Hillside'\n",
    "Hillside.head()"
   ]
  },
  {
   "cell_type": "code",
   "execution_count": null,
   "id": "mounted-appointment",
   "metadata": {},
   "outputs": [],
   "source": [
    "melb_map = (gv.Polygons(subs_stats[Bellfield & Hillside], vdims=['Suburb', 'Median_in_Thousands'], \n",
    "                       label='Median House Prices in Melbourne (in the Thousands)')\n",
    "              .opts(width=500, height=400, xaxis=None, yaxis=None, tools=['hover']))\n",
    "melb_map"
   ]
  },
  {
   "cell_type": "markdown",
   "id": "soviet-gardening",
   "metadata": {},
   "source": [
    "Now we can see a better representation of Melbourne but notice that prices seem to be higher towards the middle rather than outer part of of the metro area and thus, the gradient of colors would help us better if it were to go in the opposite direction. Let's change this by setting the color parameter to our variable of interest and by also adding a colorbar to our map."
   ]
  },
  {
   "cell_type": "code",
   "execution_count": null,
   "id": "underlying-trademark",
   "metadata": {},
   "outputs": [],
   "source": [
    "melb_map = (gv.Polygons(subs_stats[Bellfield & Hillside], vdims=['Suburb', 'Median_in_Thousands'], \n",
    "                       label='Median House Prices in Melbourne (in the Thousands)')\n",
    "              .opts(width=500, height=400, xaxis=None, yaxis=None, colorbar=True, color='Median_in_Thousands', tools=['hover']))\n",
    "melb_map"
   ]
  },
  {
   "cell_type": "markdown",
   "id": "novel-assault",
   "metadata": {},
   "source": [
    "Now the way in which the colors move make more visual sense and we can get a better grasp of how the median price changes the closer you are to the central business district.\n",
    "\n",
    "To finish our map, let's change the color to a more colorblind friendly set of colors, and let's also break the prices into 10 color levels. In addition, since we are interested in creating a static dashboard, we will disable our toolbar moving forward."
   ]
  },
  {
   "cell_type": "code",
   "execution_count": null,
   "id": "prescription-jonathan",
   "metadata": {},
   "outputs": [],
   "source": [
    "melb_map = (gv.Polygons(subs_stats[Bellfield & Hillside], vdims=['Suburb', 'Median_in_Thousands'], \n",
    "                       label='Median House Prices in Melbourne (in the Thousands)')\n",
    "              .opts(width=500, height=400, xaxis=None, yaxis=None, toolbar='disable',\n",
    "                    colorbar=True, color='Median_in_Thousands', cmap='viridis_r', color_levels=10))\n",
    "melb_map"
   ]
  },
  {
   "cell_type": "markdown",
   "id": "alternative-definition",
   "metadata": {},
   "source": [
    "Finally, holoviews provides tile elements that contain maps, and we can overlay our visualisation on top of these maps to create and more visually pleasing representation of it. Let's try it out."
   ]
  },
  {
   "cell_type": "code",
   "execution_count": null,
   "id": "b001f1f9-e658-4a72-ba7c-29a4c89e3c15",
   "metadata": {},
   "outputs": [],
   "source": [
    "tiles.OSM??"
   ]
  },
  {
   "cell_type": "code",
   "execution_count": null,
   "id": "genuine-toronto",
   "metadata": {},
   "outputs": [],
   "source": [
    "tiles.OSM() * melb_map"
   ]
  },
  {
   "cell_type": "markdown",
   "id": "convertible-terrorist",
   "metadata": {},
   "source": [
    "For more information on the kinds of maps available, plese see the [Working with bokeh](https://geoviews.org/user_guide/Working_with_Bokeh.html) section of geoviews' website."
   ]
  },
  {
   "cell_type": "markdown",
   "id": "asian-diagram",
   "metadata": {},
   "source": [
    "## 05 Putting it all Together"
   ]
  },
  {
   "cell_type": "markdown",
   "id": "parallel-laptop",
   "metadata": {},
   "source": [
    "Finally, we get to put the dashboard back together and visualise what we have done before sharing it. The key thing to remember here is that since we are trying to create a static dashboard to share with others, we need to fix the size of the elements within it. To do this, take note of the width and the height of all of your visualizations and make sure the major components, panel Rows and Columns, all have slightly wider and taller dimensions than the smaller components."
   ]
  },
  {
   "cell_type": "markdown",
   "id": "unlike-chemical",
   "metadata": {},
   "source": [
    "### Plain Panel View"
   ]
  },
  {
   "cell_type": "code",
   "execution_count": null,
   "id": "rotary-robinson",
   "metadata": {},
   "outputs": [],
   "source": [
    "title = pn.Row(header, pn.Spacer(), p1, p2, styles={'background': '#d8dee9'}, sizing_mode='fixed', width=1050, height=70)\n",
    "title"
   ]
  },
  {
   "cell_type": "code",
   "execution_count": null,
   "id": "natural-period",
   "metadata": {},
   "outputs": [],
   "source": [
    "r1 = pn.Row(b1, b2, b3, b4, sizing_mode='fixed', align='center', width=950, height=220)\n",
    "r1"
   ]
  },
  {
   "cell_type": "code",
   "execution_count": null,
   "id": "headed-preview",
   "metadata": {},
   "outputs": [],
   "source": [
    "r2 = pn.Row(ban1, ban2, ban3, ban4, ban5, align='center', sizing_mode='fixed', width=950, height=100)\n",
    "r2"
   ]
  },
  {
   "cell_type": "code",
   "execution_count": null,
   "id": "substantial-nickname",
   "metadata": {},
   "outputs": [],
   "source": [
    "r3 = pn.Row(layout, \n",
    "            (tiles.OSM() * melb_map).relabel(label='Median House Prices in Melbourne (in the Thousands)'), \n",
    "            sizing_mode='fixed', width=1100, height=420, align='center')"
   ]
  },
  {
   "cell_type": "code",
   "execution_count": null,
   "id": "outstanding-context",
   "metadata": {},
   "outputs": [],
   "source": [
    "dashboard = pn.Column(\n",
    "    title, r1, r2, r3, sizing_mode='fixed', styles={'background': '#4c566a'}, \n",
    "    align='center', height=800, width=1050\n",
    ")"
   ]
  },
  {
   "cell_type": "code",
   "execution_count": null,
   "id": "recorded-joint",
   "metadata": {},
   "outputs": [],
   "source": [
    "dashboard.show()"
   ]
  },
  {
   "cell_type": "markdown",
   "id": "recent-bidding",
   "metadata": {},
   "source": [
    "### Exercise 6"
   ]
  },
  {
   "cell_type": "markdown",
   "id": "sonic-thong",
   "metadata": {},
   "source": [
    "Your task is to try and put together a grid with the elements your created a bit ago."
   ]
  },
  {
   "cell_type": "code",
   "execution_count": null,
   "id": "proper-coordination",
   "metadata": {},
   "outputs": [],
   "source": [
    "my_grid = pn.GridSpec() # add some options to make it look better"
   ]
  },
  {
   "cell_type": "code",
   "execution_count": null,
   "id": "pacific-mathematics",
   "metadata": {},
   "outputs": [],
   "source": [
    "# my_grid[0, 0] = \n",
    "# my_grid[0, 1] = \n",
    "# my_grid[1, 0] = \n",
    "# my_grid[1, 1] = "
   ]
  },
  {
   "cell_type": "code",
   "execution_count": null,
   "id": "exempt-integral",
   "metadata": {},
   "outputs": [],
   "source": [
    "# my_grid"
   ]
  },
  {
   "cell_type": "markdown",
   "id": "charged-apparatus",
   "metadata": {},
   "source": [
    "### Theme"
   ]
  },
  {
   "cell_type": "markdown",
   "id": "loaded-import",
   "metadata": {},
   "source": [
    "The last piece of the puzzle is the theme. Since bokeh is built on top of JavaScript, it provides us with a `Theme` object to which we can pass a customized theme as a JSON specification. We then add our desired theme to the global settings of holoviews `hv.renderer('bokeh').theme = our_new_theme`.\n",
    "\n",
    "For more info regarding themes in bokeh please refer to [bokeh themes](https://docs.bokeh.org/en/latest/docs/reference/themes.html) or to [holoviews themes](https://holoviews.org/user_guide/Plotting_with_Bokeh.html)."
   ]
  },
  {
   "cell_type": "code",
   "execution_count": null,
   "id": "metallic-emperor",
   "metadata": {},
   "outputs": [],
   "source": [
    "from bokeh.themes.theme import Theme"
   ]
  },
  {
   "cell_type": "code",
   "execution_count": null,
   "id": "opponent-tracker",
   "metadata": {},
   "outputs": [],
   "source": [
    "theme = Theme(\n",
    "    json={\n",
    "    'attrs' : {\n",
    "        'figure' : {\n",
    "            'background_fill_color': '#4c566a',\n",
    "            'border_fill_color': '#4c566a',\n",
    "            'outline_line_color': '#4c566a',\n",
    "        },\n",
    "        'Grid': {\n",
    "            'grid_line_dash': [6, 4],\n",
    "            'grid_line_alpha': .3,\n",
    "        },\n",
    "\n",
    "        'Axis': {\n",
    "            'major_label_text_color': '#d8dee9',\n",
    "            'axis_label_text_color': '#d8dee9',\n",
    "            'major_tick_line_color': '#d8dee9',\n",
    "            'minor_tick_line_color': '#d8dee9',\n",
    "            'axis_line_color': \"#d8dee9\"\n",
    "        },\n",
    "        'Title': {\n",
    "            'text_color': '#d8dee9'\n",
    "        }\n",
    "    }\n",
    "})"
   ]
  },
  {
   "cell_type": "code",
   "execution_count": null,
   "id": "similar-greenhouse",
   "metadata": {},
   "outputs": [],
   "source": [
    "hv.renderer('bokeh').theme = theme"
   ]
  },
  {
   "cell_type": "code",
   "execution_count": null,
   "id": "northern-prairie",
   "metadata": {},
   "outputs": [],
   "source": [
    "# to deactivate the theme we can set the global theme option to None\n",
    "# hv.renderer('bokeh').theme = None"
   ]
  },
  {
   "cell_type": "markdown",
   "id": "colonial-request",
   "metadata": {},
   "source": [
    "### Themed Panel View"
   ]
  },
  {
   "cell_type": "code",
   "execution_count": null,
   "id": "pretty-government",
   "metadata": {},
   "outputs": [],
   "source": [
    "dashboard.show()"
   ]
  },
  {
   "cell_type": "markdown",
   "id": "available-function",
   "metadata": {},
   "source": [
    "### Save and Share"
   ]
  },
  {
   "cell_type": "markdown",
   "id": "limiting-garlic",
   "metadata": {},
   "source": [
    "To save HTML or PNG versions of our dashboards we can use the `.save()` method on a panel object and use the desired extension,  `.html` or `.png` with the name of our file as a string."
   ]
  },
  {
   "cell_type": "code",
   "execution_count": null,
   "id": "southwest-corporation",
   "metadata": {},
   "outputs": [],
   "source": [
    "dashboard.save('dashboards/static_dash.html')"
   ]
  },
  {
   "cell_type": "markdown",
   "id": "planned-thumb",
   "metadata": {},
   "source": [
    "## 06. Summary"
   ]
  },
  {
   "cell_type": "markdown",
   "id": "gorgeous-negotiation",
   "metadata": {},
   "source": [
    "- When looking at deconstructing a chart start with the title \n",
    "- Look at the axes, the ticks, the marks, and the limits\n",
    "- What is the visual encoding being used (bars, points, lines, etc.) and how does my tool of choice represents it?"
   ]
  }
 ],
 "metadata": {
  "kernelspec": {
   "display_name": "Python 3 (ipykernel)",
   "language": "python",
   "name": "python3"
  },
  "language_info": {
   "codemirror_mode": {
    "name": "ipython",
    "version": 3
   },
   "file_extension": ".py",
   "mimetype": "text/x-python",
   "name": "python",
   "nbconvert_exporter": "python",
   "pygments_lexer": "ipython3",
   "version": "3.11.6"
  }
 },
 "nbformat": 4,
 "nbformat_minor": 5
}
