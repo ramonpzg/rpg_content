{
 "cells": [
  {
   "cell_type": "markdown",
   "id": "naked-easter",
   "metadata": {},
   "source": [
    "# 02 Interactive Dashboards"
   ]
  },
  {
   "cell_type": "markdown",
   "id": "saved-preliminary",
   "metadata": {},
   "source": [
    "> \"Above all else show the data.\" ~ Edward Tufte"
   ]
  },
  {
   "cell_type": "markdown",
   "id": "wireless-chemistry",
   "metadata": {},
   "source": [
    "![img](https://upload.wikimedia.org/wikipedia/commons/thumb/a/a0/Sydney_Australia._%2821339175489%29.jpg/1200px-Sydney_Australia._%2821339175489%29.jpg)"
   ]
  },
  {
   "cell_type": "markdown",
   "id": "pressing-ivory",
   "metadata": {},
   "source": [
    "## Table of Contents"
   ]
  },
  {
   "cell_type": "markdown",
   "id": "turned-developer",
   "metadata": {},
   "source": [
    "0. The Dashboard\n",
    "1. Scenario\n",
    "2. Use Cases\n",
    "3. The Data\n",
    "4. Top-Down Dashboard Breakdown\n",
    "5. Putting it all Together\n",
    "6. Summary"
   ]
  },
  {
   "cell_type": "code",
   "execution_count": null,
   "id": "intensive-lebanon",
   "metadata": {},
   "outputs": [],
   "source": [
    "import pandas as pd, numpy as np, os\n",
    "import matplotlib.pyplot as plt\n",
    "import holoviews as hv, panel as pn\n",
    "from holoviews import dim, opts\n",
    "import geopandas as gpd, geoviews as gv\n",
    "from holoviews.element import tiles\n",
    "import IPython\n",
    "\n",
    "hv.extension('bokeh', 'matplotlib')\n",
    "\n",
    "pn.extension()\n",
    "\n",
    "pd.options.display.max_columns = None\n",
    "pd.options.display.max_rows = None\n",
    "pd.options.display.float_format = '{:.2f}'.format"
   ]
  },
  {
   "cell_type": "markdown",
   "id": "removable-advertiser",
   "metadata": {},
   "source": [
    "## 00. The Dashboard"
   ]
  },
  {
   "cell_type": "markdown",
   "id": "ultimate-locator",
   "metadata": {},
   "source": [
    "There is an HTML copy of the dashboard available in a folder called, **dashboards**, and the following command run and display the dasboard in your notebook."
   ]
  },
  {
   "cell_type": "code",
   "execution_count": null,
   "id": "heavy-haiti",
   "metadata": {},
   "outputs": [],
   "source": [
    "# IPython.display.HTML('dashboards/interactive_dash.html')"
   ]
  },
  {
   "cell_type": "markdown",
   "id": "bronze-folks",
   "metadata": {},
   "source": [
    "## 01. Scenario"
   ]
  },
  {
   "cell_type": "markdown",
   "id": "chief-tulsa",
   "metadata": {},
   "source": [
    "Imagine we were planning our next vacation and wanted to head to the land down under. Sydney, as \n",
    "it is well known, is one of the most picturesque cities in the world, and that also makes it an \n",
    "expensive one. Because of this, we will be examining the variation of prices for a listing across \n",
    "different measures including median price per suburb, average amount of reviews per suburb and property type, etc."
   ]
  },
  {
   "cell_type": "markdown",
   "id": "coordinated-bridal",
   "metadata": {},
   "source": [
    "## 02. Use Cases"
   ]
  },
  {
   "cell_type": "markdown",
   "id": "unusual-literature",
   "metadata": {},
   "source": [
    "These data can be useful not only for those planning a vacation but also for\n",
    "\n",
    "1. Tourism agents\n",
    "2. Data analysts in areas such as government of real estate\n",
    "3. Restaurants wanting to cater to tourists\n",
    "4. Real estate agents\n",
    "5. Many more"
   ]
  },
  {
   "cell_type": "markdown",
   "id": "therapeutic-personal",
   "metadata": {},
   "source": [
    "## 03. The Data"
   ]
  },
  {
   "cell_type": "markdown",
   "id": "quality-rainbow",
   "metadata": {},
   "source": [
    "The data we will be using for our dashboard on this notebook comes from Airbnb and it contains \n",
    "information about all of the listings available in the metropolitan area of Sydney up until April \n",
    "2020. In addition, most of the information about a listing displayed on Airbnb and in this dataset \n",
    "may still be found on the website as it was a scraped directly from the it.\n",
    "\n",
    "There are some additional variables such as\n",
    "- `min_price_per_stay` - Airbnb provides prices per night but hosts are able to set a minimum amount \n",
    "of nights for which you can book their place. As such, the amount available is not always indicative \n",
    "of the amount to be paid and thus, this variable shows `price * minimum_nights + cleaning_fee`\n",
    "- `two_weeks_price` - same formula as above but istead of minimum nights the price has been multiplied by 14\n",
    "\n",
    "Lastly, we also have a geodataframe containing the coordinates of the major suburbs in Sydney."
   ]
  },
  {
   "cell_type": "markdown",
   "id": "eight-blood",
   "metadata": {},
   "source": [
    "### The Airbnb Data"
   ]
  },
  {
   "cell_type": "code",
   "execution_count": null,
   "id": "abandoned-buyer",
   "metadata": {},
   "outputs": [],
   "source": [
    "df = pd.read_parquet(os.path.join('..', 'data', 'interactive', \"sydney_airbnb.parquet\"))\n",
    "# df = pd.read_csv(os.path.join('..', 'data', 'interactive', \"sydney_airbnb.csv\"))\n",
    "print(df.shape)"
   ]
  },
  {
   "cell_type": "code",
   "execution_count": null,
   "id": "laden-paper",
   "metadata": {},
   "outputs": [],
   "source": [
    "# shows the first 5 rows of the dataframe\n",
    "df.head()"
   ]
  },
  {
   "cell_type": "code",
   "execution_count": null,
   "id": "center-thousand",
   "metadata": {
    "scrolled": true,
    "tags": []
   },
   "outputs": [],
   "source": [
    "# show the amount of rows, columns, missing values, and the data types of each variable\n",
    "df.info()"
   ]
  },
  {
   "cell_type": "markdown",
   "id": "cleared-roman",
   "metadata": {},
   "source": [
    "### The GeoDataFrame"
   ]
  },
  {
   "cell_type": "markdown",
   "id": "24cd83c5",
   "metadata": {},
   "source": [
    "We will combine our listings data with some geographical data about Sydney to create a map later on."
   ]
  },
  {
   "cell_type": "code",
   "execution_count": null,
   "id": "sunrise-argument",
   "metadata": {},
   "outputs": [],
   "source": [
    "subs_geo = gpd.read_file(os.path.join('..', 'data', 'interactive', \"neighbourhoods.geojson\"))"
   ]
  },
  {
   "cell_type": "code",
   "execution_count": null,
   "id": "tutorial-verification",
   "metadata": {},
   "outputs": [],
   "source": [
    "# shows the first 5 rows of the dataframe\n",
    "subs_geo.head()"
   ]
  },
  {
   "cell_type": "code",
   "execution_count": null,
   "id": "sacred-myanmar",
   "metadata": {},
   "outputs": [],
   "source": [
    "# show the amount of rows, columns, missing values, and the data types of each variable\n",
    "subs_geo.info()"
   ]
  },
  {
   "cell_type": "markdown",
   "id": "functioning-techno",
   "metadata": {},
   "source": [
    "## 04. Top-Down Dashboard Breakdown"
   ]
  },
  {
   "cell_type": "markdown",
   "id": "unlike-microwave",
   "metadata": {},
   "source": [
    "This section is all about deconstructing our dashboard. We will start with the widgets, the tools that provide us with interactivity, and work our way backwards until we get to the final output."
   ]
  },
  {
   "cell_type": "markdown",
   "id": "acute-democracy",
   "metadata": {},
   "source": [
    "### The Widgets"
   ]
  },
  {
   "cell_type": "markdown",
   "id": "graduate-theme",
   "metadata": {},
   "source": [
    "Panel contains plenty of widgets for us from a function called `interact` and another called `widgets`. Interact \n",
    "provides interactive capabilities to the parameters of different kinds of plots that have been created by \n",
    "functions. The `interact` function can create a user interface as tiny as input box and as complex as a full app.\n",
    "\n",
    "In contrast, widgets provide a finer control on the interactivity behind the scenes of a complex app. They also \n",
    "allows you to use changing parameters of declared functions inside the decorator, `p.depends`, which will create \n",
    "an interactive chart for us.\n",
    "\n",
    "Let's first create a list will all of the properties in our dataset, and then check out how widgets work."
   ]
  },
  {
   "cell_type": "code",
   "execution_count": null,
   "id": "compliant-banana",
   "metadata": {},
   "outputs": [],
   "source": [
    "property_types = list(df['property_type'].unique())\n",
    "property_types"
   ]
  },
  {
   "cell_type": "code",
   "execution_count": null,
   "id": "formal-tobacco",
   "metadata": {},
   "outputs": [],
   "source": [
    "p_type = pn.widgets.Select(value='Apartment', options=property_types, name='Property Type')\n",
    "p_type"
   ]
  },
  {
   "cell_type": "code",
   "execution_count": null,
   "id": "8e968719-7e20-43af-a6e1-c571da38bebb",
   "metadata": {},
   "outputs": [],
   "source": [
    "p_type.value"
   ]
  },
  {
   "cell_type": "markdown",
   "id": "persistent-collection",
   "metadata": {},
   "source": [
    "Noticed above using `pn.widgets.Select` we, assigned a default `value` to a widget from \n",
    "which our function will have a list of `options` to choose from, and we also gave it a name.\n",
    "\n",
    "Before we try another one, let's check the review scores for hosts around Sydney."
   ]
  },
  {
   "cell_type": "code",
   "execution_count": null,
   "id": "solar-piece",
   "metadata": {},
   "outputs": [],
   "source": [
    "df.review_scores_rating.unique()"
   ]
  },
  {
   "cell_type": "markdown",
   "id": "bigger-client",
   "metadata": {},
   "source": [
    "Let's create a categorical variable similar to what in marketing is considered the net promoter \n",
    "score. Our variable will group reviews of `>=90` into one bin, `>=70` into another, and the rest \n",
    "into another bucket. These buckets will be called `Excellent`, `Okay`, and `No Bueno`, respectively."
   ]
  },
  {
   "cell_type": "code",
   "execution_count": null,
   "id": "taken-parcel",
   "metadata": {},
   "outputs": [],
   "source": [
    "# we will start with a column saying no reviews\n",
    "df['nps'] = 'None'"
   ]
  },
  {
   "cell_type": "code",
   "execution_count": null,
   "id": "seven-december",
   "metadata": {},
   "outputs": [],
   "source": [
    "# then we will create a mask for those listings with at least 1 review\n",
    "revs_mask = df['number_of_reviews'] > 0"
   ]
  },
  {
   "cell_type": "code",
   "execution_count": null,
   "id": "large-gallery",
   "metadata": {},
   "outputs": [],
   "source": [
    "# we will create a function to bin our groups\n",
    "def get_nps(x):\n",
    "    if x >= 90:\n",
    "        return \"Excellent\"\n",
    "    elif x >= 70:\n",
    "        return \"Okay\"\n",
    "    else:\n",
    "        return \"No Bueno\""
   ]
  },
  {
   "cell_type": "markdown",
   "id": "funded-relief",
   "metadata": {},
   "source": [
    "Using the locator selector, we will add the new values of our function back into our new `nps` column."
   ]
  },
  {
   "cell_type": "code",
   "execution_count": null,
   "id": "conceptual-christmas",
   "metadata": {},
   "outputs": [],
   "source": [
    "df.loc[revs_mask, 'nps'] = df.loc[revs_mask, 'review_scores_rating'].apply(get_nps)\n",
    "df['nps'].head(10)"
   ]
  },
  {
   "cell_type": "code",
   "execution_count": null,
   "id": "secure-distance",
   "metadata": {},
   "outputs": [],
   "source": [
    "# let's evaluate the total count for each group\n",
    "df['nps'].value_counts()"
   ]
  },
  {
   "cell_type": "markdown",
   "id": "ecological-faith",
   "metadata": {},
   "source": [
    "Let's create a list for our new widget and remove the `None` from it as we are only interested in those with a review."
   ]
  },
  {
   "cell_type": "code",
   "execution_count": null,
   "id": "muslim-boutique",
   "metadata": {},
   "outputs": [],
   "source": [
    "nps_vals = list(df.nps.unique())\n",
    "nps_vals.remove('None')"
   ]
  },
  {
   "cell_type": "markdown",
   "id": "optical-bumper",
   "metadata": {},
   "source": [
    "Now we can put together another widget."
   ]
  },
  {
   "cell_type": "code",
   "execution_count": null,
   "id": "uniform-occurrence",
   "metadata": {},
   "outputs": [],
   "source": [
    "nps = pn.widgets.Select(value='Excellent', options=nps_vals, name='Net Promoters')\n",
    "nps"
   ]
  },
  {
   "cell_type": "markdown",
   "id": "consistent-circumstances",
   "metadata": {},
   "source": [
    "While we will only use the `pn.widgets.Select` and `pn.interact` functions for this notebook, there are other amazing widgets that you should definitely explore at [panel widgets](https://panel.holoviz.org/user_guide/Widgets.html)."
   ]
  },
  {
   "cell_type": "markdown",
   "id": "headed-filing",
   "metadata": {},
   "source": [
    "### Exercise\n",
    "\n",
    "1. Pick any categorical column from the dataset.\n",
    "2. Get the unique values of such category.\n",
    "3. Create a widget, assign it to a variable called `my_widget`, and display it."
   ]
  },
  {
   "cell_type": "code",
   "execution_count": null,
   "id": "alleged-channels",
   "metadata": {},
   "outputs": [],
   "source": []
  },
  {
   "cell_type": "code",
   "execution_count": null,
   "id": "utility-helicopter",
   "metadata": {},
   "outputs": [],
   "source": []
  },
  {
   "cell_type": "markdown",
   "id": "funded-greenhouse",
   "metadata": {},
   "source": [
    "### The Map"
   ]
  },
  {
   "cell_type": "markdown",
   "id": "unknown-surveillance",
   "metadata": {},
   "source": [
    "We will use a map to guide us into where to find the best priced locations for us to stay at. Let's examine the prices of apartment listing per suburb. We will filter for apartments, group by the neighborhood, and then take the median price of the minimum price per stay column."
   ]
  },
  {
   "cell_type": "code",
   "execution_count": null,
   "id": "be5034e3-44b1-4c89-a6c5-9d235eb5e00e",
   "metadata": {},
   "outputs": [],
   "source": [
    "df.shape"
   ]
  },
  {
   "cell_type": "code",
   "execution_count": null,
   "id": "equal-inflation",
   "metadata": {},
   "outputs": [],
   "source": [
    "data = df[df['property_type'] == 'Apartment'].copy()\n",
    "data.shape"
   ]
  },
  {
   "cell_type": "code",
   "execution_count": null,
   "id": "peaceful-nevada",
   "metadata": {},
   "outputs": [],
   "source": [
    "data_group = data.groupby('neighbourhood_cleansed')['min_price_per_stay'].min().reset_index()\n",
    "data_group.head()"
   ]
  },
  {
   "cell_type": "markdown",
   "id": "optimum-absorption",
   "metadata": {},
   "source": [
    "We will need to merge our dataset with the geodataframe containing the neighborhoods."
   ]
  },
  {
   "cell_type": "code",
   "execution_count": null,
   "id": "ef5c9cee-79f8-4115-bdcf-e12875f55071",
   "metadata": {},
   "outputs": [],
   "source": [
    "subs_geo.head()"
   ]
  },
  {
   "cell_type": "code",
   "execution_count": null,
   "id": "comparable-carrier",
   "metadata": {},
   "outputs": [],
   "source": [
    "data_merged = (\n",
    "    data_group.merge(\n",
    "        subs_geo[['neighbourhood', 'geometry']], left_on='neighbourhood_cleansed', right_on='neighbourhood'\n",
    "    ).drop('neighbourhood', axis=1).rename(columns={'neighbourhood_cleansed': \"Suburb\"})\n",
    ")\n",
    "data_merged.head()"
   ]
  },
  {
   "cell_type": "code",
   "execution_count": null,
   "id": "informative-syndicate",
   "metadata": {},
   "outputs": [],
   "source": [
    "type(data_merged)"
   ]
  },
  {
   "cell_type": "markdown",
   "id": "western-lexington",
   "metadata": {},
   "source": [
    "Let's make that panda into a geopandas dataframe again."
   ]
  },
  {
   "cell_type": "code",
   "execution_count": null,
   "id": "noted-lender",
   "metadata": {},
   "outputs": [],
   "source": [
    "geo_data = gpd.GeoDataFrame(data_merged)\n",
    "type(geo_data)"
   ]
  },
  {
   "cell_type": "markdown",
   "id": "inside-camel",
   "metadata": {},
   "source": [
    "Let's now create our choropleth map."
   ]
  },
  {
   "cell_type": "code",
   "execution_count": null,
   "id": "awful-broadcast",
   "metadata": {},
   "outputs": [],
   "source": [
    "geo_fig = gv.Polygons(\n",
    "    geo_data, vdims=['Suburb', 'min_price_per_stay']\n",
    ").opts(\n",
    "    tools=['hover'], width=500, height=400, color='min_price_per_stay', cmap='viridis_r',\n",
    "    colorbar=True, toolbar='below', xaxis=None, yaxis=None, color_levels=20\n",
    ")"
   ]
  },
  {
   "cell_type": "markdown",
   "id": "attempted-vision",
   "metadata": {},
   "source": [
    "Before we visualize it, let's overlay a map behind it."
   ]
  },
  {
   "cell_type": "code",
   "execution_count": null,
   "id": "embedded-jerusalem",
   "metadata": {},
   "outputs": [],
   "source": [
    "(tiles.CartoLight() * geo_fig).relabel(label=f'Median Listing Price by Suburb')"
   ]
  },
  {
   "cell_type": "markdown",
   "id": "smoking-starter",
   "metadata": {},
   "source": [
    "Fantastic! Now, the key thing to do to create interactive widgets is to package our visualizations \n",
    "into functions and pass our widget from before through the `pn.depends` decorator as \n",
    "`@pn.depends(p_type.param.value)`. We need to remember to tell `panel` which parameter value to access \n",
    "from our widget.\n",
    "\n",
    "So now, let's use the same lines from above for our function."
   ]
  },
  {
   "cell_type": "code",
   "execution_count": null,
   "id": "convinced-technology",
   "metadata": {},
   "outputs": [],
   "source": [
    "@pn.depends(p_type.param.value)\n",
    "def get_map(p_type, **kwargs):\n",
    "    \n",
    "    data = df[df['property_type'] == p_type].copy()\n",
    "    data_group = data.groupby('neighbourhood_cleansed')['min_price_per_stay'].median().reset_index()\n",
    "    data_merged = (\n",
    "        data_group.merge(\n",
    "            subs_geo[['neighbourhood', 'geometry']], left_on='neighbourhood_cleansed', right_on='neighbourhood'\n",
    "        ).drop('neighbourhood', axis=1).rename(columns={'neighbourhood_cleansed': \"Suburb\"})\n",
    "    )\n",
    "    \n",
    "    geo_data = gpd.GeoDataFrame(data_merged)\n",
    "    fig = gv.Polygons(\n",
    "        geo_data, vdims=['Suburb', 'min_price_per_stay']\n",
    "    ).opts(\n",
    "        tools=['hover'], width=500, height=400, color='min_price_per_stay', cmap='viridis_r',\n",
    "        colorbar=True, toolbar='above', xaxis=None, yaxis=None, color_levels=20\n",
    "    )\n",
    "    return (tiles.CartoLight() * fig).relabel(label=f'Median Listing Price per {p_type}')"
   ]
  },
  {
   "cell_type": "code",
   "execution_count": null,
   "id": "soviet-interference",
   "metadata": {},
   "outputs": [],
   "source": [
    "# let's test our function and widget in a row object\n",
    "pn.Row(p_type, get_map)"
   ]
  },
  {
   "cell_type": "markdown",
   "id": "adult-machine",
   "metadata": {},
   "source": [
    "Great. We can also transfer the same idea to `pn.interact`. Let's create another grouped dataframe with more descriptive statistics."
   ]
  },
  {
   "cell_type": "code",
   "execution_count": null,
   "id": "billion-bangkok",
   "metadata": {},
   "outputs": [],
   "source": [
    "nb_stay_stats = df.groupby('neighbourhood_cleansed')['min_price_per_stay'].agg(['min', 'mean', 'median', 'max', 'count']).reset_index()\n",
    "nb_stay_stats.head()"
   ]
  },
  {
   "cell_type": "code",
   "execution_count": null,
   "id": "robust-government",
   "metadata": {},
   "outputs": [],
   "source": [
    "# we need to combine it again with our geodataframe containing the polygos\n",
    "geo_nb_stats = gpd.GeoDataFrame(\n",
    "    nb_stay_stats.merge(\n",
    "        subs_geo[['neighbourhood', 'geometry']], left_on='neighbourhood_cleansed', right_on='neighbourhood'\n",
    "    ).drop('neighbourhood', axis=1).rename(columns={'neighbourhood_cleansed': \"Suburb\"})\n",
    ")\n",
    "geo_nb_stats.head()"
   ]
  },
  {
   "cell_type": "markdown",
   "id": "spectacular-analyst",
   "metadata": {},
   "source": [
    "We will create a second function and pass it to `pm.interact` alongside the parameters we want it to interact with, the descriptive columns."
   ]
  },
  {
   "cell_type": "code",
   "execution_count": null,
   "id": "corporate-wrapping",
   "metadata": {},
   "outputs": [],
   "source": [
    "def get_map2(col='mean', **kwargs):\n",
    "    return (\n",
    "        tiles.CartoLight() * (gv.Polygons(\n",
    "            geo_nb_stats.copy(), vdims=['Suburb', col]\n",
    "        ).opts(\n",
    "            tools=['hover'], width=550, height=600, color=col, cmap='viridis_r',colorbar=True,\n",
    "            toolbar='above', xaxis=None, yaxis=None, color_levels=38))\n",
    "    )"
   ]
  },
  {
   "cell_type": "code",
   "execution_count": null,
   "id": "forced-bowling",
   "metadata": {},
   "outputs": [],
   "source": [
    "pn.interact(get_map2, col=['min', 'mean', 'median', 'max', 'count'])"
   ]
  },
  {
   "cell_type": "markdown",
   "id": "lovely-croatia",
   "metadata": {},
   "source": [
    "### Exercise"
   ]
  },
  {
   "cell_type": "markdown",
   "id": "suburban-michigan",
   "metadata": {},
   "source": [
    "Create a choropleth map of the median two week stay with an interactive widget containing the cancellation policy. For this you will need to\n",
    "1. Create a list with the unique values of the cancellation policy column\n",
    "2. Create a groupeby object by the cancellation policy and the two week stay price\n",
    "3. Combine the group data with the geodataframe\n",
    "4. Create a function with your map and cancellation policy\n",
    "5. Display widget and map as a row or column"
   ]
  },
  {
   "cell_type": "code",
   "execution_count": null,
   "id": "revised-french",
   "metadata": {},
   "outputs": [],
   "source": []
  },
  {
   "cell_type": "code",
   "execution_count": null,
   "id": "bizarre-fleece",
   "metadata": {},
   "outputs": [],
   "source": []
  },
  {
   "cell_type": "code",
   "execution_count": null,
   "id": "modern-preparation",
   "metadata": {},
   "outputs": [],
   "source": []
  },
  {
   "cell_type": "markdown",
   "id": "empty-queensland",
   "metadata": {},
   "source": [
    "### The Table"
   ]
  },
  {
   "cell_type": "markdown",
   "id": "quiet-plenty",
   "metadata": {},
   "source": [
    "Tables are exactly that, a view at the data but with an interactive component to it. We will create one for the reviews in our dataset."
   ]
  },
  {
   "cell_type": "code",
   "execution_count": null,
   "id": "subsequent-conjunction",
   "metadata": {},
   "outputs": [],
   "source": [
    "# let's change the names of these columns first\n",
    "reviews = ['review_scores_checkin', 'review_scores_cleanliness', 'review_scores_accuracy', \n",
    "           'review_scores_location', 'review_scores_communication', 'review_scores_value']\n",
    "new_names = ['Checkin', 'Cleanliness', 'Accuracy', 'Location', 'Communication', 'Value']\n",
    "\n",
    "names_dict = {old:new for old, new in zip(reviews, new_names)}\n",
    "names_dict"
   ]
  },
  {
   "cell_type": "markdown",
   "id": "mineral-brighton",
   "metadata": {},
   "source": [
    "We'll need two masks, one for the Apartment and another for listings with at least 1 review."
   ]
  },
  {
   "cell_type": "code",
   "execution_count": null,
   "id": "wicked-change",
   "metadata": {},
   "outputs": [],
   "source": [
    "p_mask = df['property_type'] == 'Apartment'\n",
    "revs_mask = df['number_of_reviews'] > 0"
   ]
  },
  {
   "cell_type": "code",
   "execution_count": null,
   "id": "promising-opera",
   "metadata": {},
   "outputs": [],
   "source": [
    "# filter our undersired listings\n",
    "data = df[p_mask & revs_mask].copy()\n",
    "# rename the review columns\n",
    "data.rename(names_dict, axis=1, inplace=True)"
   ]
  },
  {
   "cell_type": "markdown",
   "id": "continuous-latitude",
   "metadata": {},
   "source": [
    "We will examine the average review score for 6 criteria and add the results to a holoviews table."
   ]
  },
  {
   "cell_type": "code",
   "execution_count": null,
   "id": "758012fc-d741-4978-a6a5-4ad67175f3a1",
   "metadata": {},
   "outputs": [],
   "source": [
    "data[new_names].mean().to_frame(name='vals').reset_index()"
   ]
  },
  {
   "cell_type": "code",
   "execution_count": null,
   "id": "genetic-bhutan",
   "metadata": {},
   "outputs": [],
   "source": [
    "data_group = data[new_names].mean().to_frame(name='vals').reset_index()\n",
    "data_group.columns = ['Reviews', 'Average Score']"
   ]
  },
  {
   "cell_type": "code",
   "execution_count": null,
   "id": "neural-timer",
   "metadata": {},
   "outputs": [],
   "source": [
    "# the table can take other data sources as well\n",
    "table = hv.Table(data_group).opts(width=250, height=180)\n",
    "table"
   ]
  },
  {
   "cell_type": "markdown",
   "id": "enabling-performer",
   "metadata": {},
   "source": [
    "Now let's wrap our process again into a function for which the only parameter that can change is the property type."
   ]
  },
  {
   "cell_type": "code",
   "execution_count": null,
   "id": "standing-canyon",
   "metadata": {},
   "outputs": [],
   "source": [
    "@pn.depends(p_type.param.value)\n",
    "def get_rev_table(p_type, **kwargs):\n",
    "    \n",
    "    p_mask = df['property_type'] == p_type\n",
    "    revs_mask = df['number_of_reviews'] > 0\n",
    "\n",
    "    data = df[p_mask & revs_mask].copy()    \n",
    "    data.rename(names_dict, axis=1, inplace=True)\n",
    "    data_group = data[new_names].mean().to_frame(name='vals').reset_index()\n",
    "    data_group.columns = ['Reviews', 'Average Score']\n",
    "    \n",
    "    return hv.Table(data_group).opts(width=250, height=180, bgcolor='red')"
   ]
  },
  {
   "cell_type": "markdown",
   "id": "numerical-sculpture",
   "metadata": {},
   "source": [
    "We can also examine the functions individually with one value."
   ]
  },
  {
   "cell_type": "code",
   "execution_count": null,
   "id": "western-improvement",
   "metadata": {},
   "outputs": [],
   "source": [
    "get_rev_table(\"Apartment\")"
   ]
  },
  {
   "cell_type": "code",
   "execution_count": null,
   "id": "durable-supply",
   "metadata": {},
   "outputs": [],
   "source": [
    "# remember if you need help use\n",
    "# hv.help(opts.Table)"
   ]
  },
  {
   "cell_type": "code",
   "execution_count": null,
   "id": "pregnant-label",
   "metadata": {},
   "outputs": [],
   "source": [
    "pn.Column(p_type, get_rev_table)"
   ]
  },
  {
   "cell_type": "markdown",
   "id": "japanese-coalition",
   "metadata": {},
   "source": [
    "### The Whiskers"
   ]
  },
  {
   "cell_type": "markdown",
   "id": "boolean-sacrifice",
   "metadata": {},
   "source": [
    "Box plots are incredibly useful for telling us the key descriptive statistics of a \n",
    "variable. Mainly, they provide us with the min, interquartile, median, max, and a \n",
    "view of the outliers, if any.\n",
    "\n",
    "For our purposes, let's assume that we have a budget of 2000 AUD for a 2-week vacation, \n",
    "and also that we will only stay at places with excellent ratings."
   ]
  },
  {
   "cell_type": "code",
   "execution_count": null,
   "id": "russian-destination",
   "metadata": {},
   "outputs": [],
   "source": [
    "nps_mask = df['nps'] == 'Excellent'\n",
    "budget = df['two_weeks_price'] < 2000"
   ]
  },
  {
   "cell_type": "code",
   "execution_count": null,
   "id": "stone-archive",
   "metadata": {},
   "outputs": [],
   "source": [
    "# create a copy of the filtered dataset\n",
    "data = df.loc[nps_mask & budget, ['property_type', 'two_weeks_price']].copy()"
   ]
  },
  {
   "cell_type": "code",
   "execution_count": null,
   "id": "careful-newport",
   "metadata": {},
   "outputs": [],
   "source": [
    "# since our label is a bit long we will add it to a variable\n",
    "label = \"(2-Week Stay) Price Range per Property Type with  Reviews\""
   ]
  },
  {
   "cell_type": "markdown",
   "id": "warming-helping",
   "metadata": {},
   "source": [
    "Let's now create our box plot using holoview function `hv.BoxWhisker`, which contains most of the parameters we are familiar with by now."
   ]
  },
  {
   "cell_type": "code",
   "execution_count": null,
   "id": "charming-genetics",
   "metadata": {},
   "outputs": [],
   "source": [
    "bw = hv.BoxWhisker(data, 'property_type', 'two_weeks_price', label=label)\n",
    "bw"
   ]
  },
  {
   "cell_type": "markdown",
   "id": "fifteen-petite",
   "metadata": {},
   "source": [
    "As we can see, our chart needs some options to be more useful, so let's give some of the ones we have already used."
   ]
  },
  {
   "cell_type": "code",
   "execution_count": null,
   "id": "periodic-reduction",
   "metadata": {},
   "outputs": [],
   "source": [
    "bw.opts(box_fill_color='#D5E051', box_line_color='#5F6062', width=600, height=250, box_line_width=1,\n",
    "        whisker_color='#FFFFFF', xrotation=25, bgcolor='#5F6062',labelled=[], outlier_color='#FFFFFF')"
   ]
  },
  {
   "cell_type": "markdown",
   "id": "innocent-world",
   "metadata": {},
   "source": [
    "Let's now package eveything in a function that will change given the net promoter score."
   ]
  },
  {
   "cell_type": "code",
   "execution_count": null,
   "id": "pressing-ebony",
   "metadata": {},
   "outputs": [],
   "source": [
    "@pn.depends(nps.param.value)\n",
    "def cat_whisker(nps, **kwargs):\n",
    "    \n",
    "    nps_mask = df['nps'] == nps\n",
    "    budget   = df['two_weeks_price'] < 2000\n",
    "    data     = df.loc[nps_mask & budget, ['property_type', 'two_weeks_price']].copy()\n",
    "    label    = f\"(2-Week Stay) Price Range per Property Type with {nps} Reviews\"\n",
    "    boxw     = hv.BoxWhisker(data, 'property_type', 'two_weeks_price', label=label)\n",
    "    \n",
    "    return boxw.opts(\n",
    "        box_fill_color='#D5E051', box_line_color='#5F6062', width=600, height=250, box_line_width=1,\n",
    "        whisker_color='#FFFFFF', xrotation=25, bgcolor='#5F6062', labelled=[], outlier_color='#FFFFFF'\n",
    "    )"
   ]
  },
  {
   "cell_type": "code",
   "execution_count": null,
   "id": "middle-absorption",
   "metadata": {},
   "outputs": [],
   "source": [
    "pn.Column(nps, cat_whisker)"
   ]
  },
  {
   "cell_type": "markdown",
   "id": "dramatic-hygiene",
   "metadata": {},
   "source": [
    "### Exercise"
   ]
  },
  {
   "cell_type": "markdown",
   "id": "neural-showcase",
   "metadata": {},
   "source": [
    "Create a box and whisker plot showing the distribution of the cleaning fee column. You can use the property type as your x axis again."
   ]
  },
  {
   "cell_type": "code",
   "execution_count": null,
   "id": "thrown-celebration",
   "metadata": {},
   "outputs": [],
   "source": []
  },
  {
   "cell_type": "code",
   "execution_count": null,
   "id": "referenced-methodology",
   "metadata": {},
   "outputs": [],
   "source": []
  },
  {
   "cell_type": "code",
   "execution_count": null,
   "id": "pleasant-conversion",
   "metadata": {},
   "outputs": [],
   "source": []
  },
  {
   "cell_type": "markdown",
   "id": "artistic-chocolate",
   "metadata": {},
   "source": [
    "### Plots/Bars"
   ]
  },
  {
   "cell_type": "markdown",
   "id": "tropical-budget",
   "metadata": {},
   "source": [
    "What we want to know.\n",
    "\n",
    "> What's the difference between the average number of reviews received per suburb and by super hosts and regular hosts?\n",
    "\n",
    "By now you probably recognize the pattern we are following. We first declare the widgets we want\n",
    "our visualizations to interact with, we then filter a dataframe, group by some other measure, and \n",
    "then add our widgets to the mix with our chart inside a function. Let's do that same process again."
   ]
  },
  {
   "cell_type": "code",
   "execution_count": null,
   "id": "logical-howard",
   "metadata": {},
   "outputs": [],
   "source": [
    "# at least 1 review\n",
    "revs_mask = df['number_of_reviews'] > 0"
   ]
  },
  {
   "cell_type": "code",
   "execution_count": null,
   "id": "covered-integral",
   "metadata": {},
   "outputs": [],
   "source": [
    "data  = df[nps_mask & p_mask & revs_mask].copy()\n",
    "group = data.groupby(['neighbourhood_cleansed', 'host_is_superhost'])['number_of_reviews'].mean().reset_index()\n",
    "group.head()"
   ]
  },
  {
   "cell_type": "markdown",
   "id": "revolutionary-cursor",
   "metadata": {},
   "source": [
    "We now have a different interest. We want to know if super hosts ge more reviews, on average, than regular hosts. Let's filter 2 dataframes for this."
   ]
  },
  {
   "cell_type": "code",
   "execution_count": null,
   "id": "shaped-scott",
   "metadata": {},
   "outputs": [],
   "source": [
    "superh   = group[group['host_is_superhost'] == 't']\n",
    "regularh = group[group['host_is_superhost'] == 'f']"
   ]
  },
  {
   "cell_type": "markdown",
   "id": "rising-routine",
   "metadata": {},
   "source": [
    "We then create our first scatter and load it with options. Remember, the second scatter does not need as many functions as we will overlay it on top of the sorted first one."
   ]
  },
  {
   "cell_type": "code",
   "execution_count": null,
   "id": "conventional-scientist",
   "metadata": {},
   "outputs": [],
   "source": [
    "dots1 = (\n",
    "    hv.Scatter(\n",
    "        superh, 'neighbourhood_cleansed', 'number_of_reviews', label='Super Hosts'\n",
    "    ).sort('number_of_reviews')\n",
    "     .opts(\n",
    "         color='#D5E051', width=500, show_grid=True, height=400, invert_axes=True, size=7, tools=['hover'],\n",
    "         legend_position='bottom_right', toolbar='right', labelled=[], title=\"Average # of Reviews per Suburb\")\n",
    ")\n",
    "dots1"
   ]
  },
  {
   "cell_type": "code",
   "execution_count": null,
   "id": "apart-medicare",
   "metadata": {},
   "outputs": [],
   "source": [
    "dots2 = hv.Scatter(regularh, 'neighbourhood_cleansed', 'number_of_reviews', label='Regular Hosts').opts(size=7, color='#D8DEE9')\n",
    "dots2"
   ]
  },
  {
   "cell_type": "markdown",
   "id": "0a801dbd-52f6-4eb9-a7a3-b863593fb1fb",
   "metadata": {},
   "source": [
    "We can overlay the two with the `*` sign."
   ]
  },
  {
   "cell_type": "code",
   "execution_count": null,
   "id": "blessed-mobility",
   "metadata": {},
   "outputs": [],
   "source": [
    "(dots1 * dots2)"
   ]
  },
  {
   "cell_type": "markdown",
   "id": "bibliographic-drive",
   "metadata": {},
   "source": [
    "Let's wrap it all up in a function now but this time, we will use both parameters, the nps and the property type. Note that you can add as many as you'd like and that can increase the complexity of your visualization and app."
   ]
  },
  {
   "cell_type": "code",
   "execution_count": null,
   "id": "proud-dragon",
   "metadata": {},
   "outputs": [],
   "source": [
    "@pn.depends(p_type.param.value, nps.param.value)\n",
    "def my_dots(p_type, nps, **kwargs):\n",
    "    \n",
    "    nps_mask  = df['nps'] == nps\n",
    "    p_mask    = df['property_type'] == p_type\n",
    "    revs_mask = df['number_of_reviews'] > 0\n",
    "    data      = df[nps_mask & p_mask & revs_mask].copy()\n",
    "    group     = data.groupby(['neighbourhood_cleansed', 'host_is_superhost'])['number_of_reviews'].mean().reset_index()\n",
    "    superh    = group[group['host_is_superhost'] == 't']\n",
    "    regularh  = group[group['host_is_superhost'] == 'f']\n",
    "    \n",
    "    dots1 = hv.Scatter(\n",
    "        superh, 'neighbourhood_cleansed', 'number_of_reviews', label='Super Hosts'\n",
    "    ).sort(\n",
    "        'number_of_reviews'\n",
    "    ).opts(\n",
    "        color='#D5E051', width=500, show_grid=True, \n",
    "        height=400, invert_axes=True, size=7, tools=['hover'], \n",
    "        legend_position='bottom_right', toolbar='right', labelled=[], title=\"Average # of Reviews per Suburb\"\n",
    "    )\n",
    "    dots2 = hv.Scatter(regularh, 'neighbourhood_cleansed', 'number_of_reviews', label='Regular Hosts').opts(size=7, color='#ff5733')\n",
    "    return (dots1 * dots2)"
   ]
  },
  {
   "cell_type": "code",
   "execution_count": null,
   "id": "documentary-given",
   "metadata": {},
   "outputs": [],
   "source": [
    "pn.Column(p_type, nps, my_dots)"
   ]
  },
  {
   "cell_type": "markdown",
   "id": "dimensional-silence",
   "metadata": {},
   "source": [
    "### The BANs"
   ]
  },
  {
   "cell_type": "markdown",
   "id": "exact-assignment",
   "metadata": {},
   "source": [
    "Let's go immediately to the function of 1 BAN with a title."
   ]
  },
  {
   "cell_type": "code",
   "execution_count": 62,
   "id": "fleet-nerve",
   "metadata": {},
   "outputs": [],
   "source": [
    "@pn.depends(p_type.param.value)\n",
    "def ban_small(p_type):\n",
    "    \n",
    "    p_mask     = df['property_type'] == p_type\n",
    "    data       = df[p_mask].copy()\n",
    "    main_title = pn.pane.Markdown(f\"# {p_type}\", styles={'color':'#FFFFFF'})\n",
    "    return pn.Column(\n",
    "        main_title, pn.indicators.Number(\n",
    "            name='Listings', value=p_mask.sum(), \n",
    "            default_color='#FFFFFF', align='start', \n",
    "            font_size='13pt', title_size='13pt', format='{value:,.0f}')\n",
    "    )"
   ]
  },
  {
   "cell_type": "code",
   "execution_count": 63,
   "id": "cutting-clark",
   "metadata": {},
   "outputs": [
    {
     "data": {},
     "metadata": {},
     "output_type": "display_data"
    },
    {
     "data": {
      "application/vnd.holoviews_exec.v0+json": "",
      "text/html": [
       "<div id='d8cc85aa-aace-4fbe-8b2c-da1cf5c9b4cf'>\n",
       "  <div id=\"b0d8d783-d76e-49c4-889f-fab8994828f5\" data-root-id=\"d8cc85aa-aace-4fbe-8b2c-da1cf5c9b4cf\" style=\"display: contents;\"></div>\n",
       "</div>\n",
       "<script type=\"application/javascript\">(function(root) {\n",
       "  var docs_json = {\"0647c314-264e-483a-b755-1f1584e1d9bc\":{\"version\":\"3.3.1\",\"title\":\"Bokeh Application\",\"roots\":[{\"type\":\"object\",\"name\":\"Row\",\"id\":\"d8cc85aa-aace-4fbe-8b2c-da1cf5c9b4cf\",\"attributes\":{\"name\":\"Row06714\",\"stylesheets\":[\"\\n:host(.pn-loading.pn-arc):before, .pn-loading.pn-arc:before {\\n  background-image: url(\\\"data:image/svg+xml;base64,PHN2ZyB4bWxucz0iaHR0cDovL3d3dy53My5vcmcvMjAwMC9zdmciIHN0eWxlPSJtYXJnaW46IGF1dG87IGJhY2tncm91bmQ6IG5vbmU7IGRpc3BsYXk6IGJsb2NrOyBzaGFwZS1yZW5kZXJpbmc6IGF1dG87IiB2aWV3Qm94PSIwIDAgMTAwIDEwMCIgcHJlc2VydmVBc3BlY3RSYXRpbz0ieE1pZFlNaWQiPiAgPGNpcmNsZSBjeD0iNTAiIGN5PSI1MCIgZmlsbD0ibm9uZSIgc3Ryb2tlPSIjYzNjM2MzIiBzdHJva2Utd2lkdGg9IjEwIiByPSIzNSIgc3Ryb2tlLWRhc2hhcnJheT0iMTY0LjkzMzYxNDMxMzQ2NDE1IDU2Ljk3Nzg3MTQzNzgyMTM4Ij4gICAgPGFuaW1hdGVUcmFuc2Zvcm0gYXR0cmlidXRlTmFtZT0idHJhbnNmb3JtIiB0eXBlPSJyb3RhdGUiIHJlcGVhdENvdW50PSJpbmRlZmluaXRlIiBkdXI9IjFzIiB2YWx1ZXM9IjAgNTAgNTA7MzYwIDUwIDUwIiBrZXlUaW1lcz0iMDsxIj48L2FuaW1hdGVUcmFuc2Zvcm0+ICA8L2NpcmNsZT48L3N2Zz4=\\\");\\n  background-size: auto calc(min(50%, 400px));\\n}\",{\"type\":\"object\",\"name\":\"ImportedStyleSheet\",\"id\":\"8588de98-6b66-4deb-9eb7-631e51480c3a\",\"attributes\":{\"url\":\"https://cdn.holoviz.org/panel/1.3.1/dist/css/loading.css\"}},{\"type\":\"object\",\"name\":\"ImportedStyleSheet\",\"id\":\"b5a98070-f76c-4d0b-9953-e14cd1455a30\",\"attributes\":{\"url\":\"https://cdn.holoviz.org/panel/1.3.1/dist/css/listpanel.css\"}},{\"type\":\"object\",\"name\":\"ImportedStyleSheet\",\"id\":\"4e01ad5f-6c47-406b-8418-fb576c3a5e5d\",\"attributes\":{\"url\":\"https://cdn.holoviz.org/panel/1.3.1/dist/bundled/theme/default.css\"}},{\"type\":\"object\",\"name\":\"ImportedStyleSheet\",\"id\":\"cf8db030-7c46-48bc-acad-42be4728caf3\",\"attributes\":{\"url\":\"https://cdn.holoviz.org/panel/1.3.1/dist/bundled/theme/native.css\"}}],\"margin\":0,\"align\":\"start\",\"children\":[{\"type\":\"object\",\"name\":\"panel.models.widgets.CustomSelect\",\"id\":\"3b3678e4-60d7-438f-bd01-089247fe517e\",\"attributes\":{\"stylesheets\":[\"\\n:host(.pn-loading.pn-arc):before, .pn-loading.pn-arc:before {\\n  background-image: url(\\\"data:image/svg+xml;base64,PHN2ZyB4bWxucz0iaHR0cDovL3d3dy53My5vcmcvMjAwMC9zdmciIHN0eWxlPSJtYXJnaW46IGF1dG87IGJhY2tncm91bmQ6IG5vbmU7IGRpc3BsYXk6IGJsb2NrOyBzaGFwZS1yZW5kZXJpbmc6IGF1dG87IiB2aWV3Qm94PSIwIDAgMTAwIDEwMCIgcHJlc2VydmVBc3BlY3RSYXRpbz0ieE1pZFlNaWQiPiAgPGNpcmNsZSBjeD0iNTAiIGN5PSI1MCIgZmlsbD0ibm9uZSIgc3Ryb2tlPSIjYzNjM2MzIiBzdHJva2Utd2lkdGg9IjEwIiByPSIzNSIgc3Ryb2tlLWRhc2hhcnJheT0iMTY0LjkzMzYxNDMxMzQ2NDE1IDU2Ljk3Nzg3MTQzNzgyMTM4Ij4gICAgPGFuaW1hdGVUcmFuc2Zvcm0gYXR0cmlidXRlTmFtZT0idHJhbnNmb3JtIiB0eXBlPSJyb3RhdGUiIHJlcGVhdENvdW50PSJpbmRlZmluaXRlIiBkdXI9IjFzIiB2YWx1ZXM9IjAgNTAgNTA7MzYwIDUwIDUwIiBrZXlUaW1lcz0iMDsxIj48L2FuaW1hdGVUcmFuc2Zvcm0+ICA8L2NpcmNsZT48L3N2Zz4=\\\");\\n  background-size: auto calc(min(50%, 400px));\\n}\",{\"id\":\"8588de98-6b66-4deb-9eb7-631e51480c3a\"},{\"type\":\"object\",\"name\":\"ImportedStyleSheet\",\"id\":\"65f865d8-d5a6-4c92-8738-45ffc1900723\",\"attributes\":{\"url\":\"https://cdn.holoviz.org/panel/1.3.1/dist/css/select.css\"}},{\"id\":\"4e01ad5f-6c47-406b-8418-fb576c3a5e5d\"},{\"id\":\"cf8db030-7c46-48bc-acad-42be4728caf3\"}],\"width\":300,\"min_width\":300,\"margin\":[5,10],\"align\":\"start\",\"title\":\"Property Type\",\"options\":[\"Apartment\",\"House\",\"Condominium\",\"Townhouse\",\"Loft\",\"Cottage\",\"Guest suite\",\"Serviced apartment\",\"Other\",\"Villa\",\"Guesthouse\",\"Boutique hotel\",\"Bungalow\",\"Bed and breakfast\",\"Hostel\",\"Hotel\"],\"value\":\"House\"}},{\"type\":\"object\",\"name\":\"panel.models.layout.Column\",\"id\":\"03c16121-f758-46a5-8d8a-02844c6278e6\",\"attributes\":{\"name\":\"Column06696\",\"stylesheets\":[\"\\n:host(.pn-loading.pn-arc):before, .pn-loading.pn-arc:before {\\n  background-image: url(\\\"data:image/svg+xml;base64,PHN2ZyB4bWxucz0iaHR0cDovL3d3dy53My5vcmcvMjAwMC9zdmciIHN0eWxlPSJtYXJnaW46IGF1dG87IGJhY2tncm91bmQ6IG5vbmU7IGRpc3BsYXk6IGJsb2NrOyBzaGFwZS1yZW5kZXJpbmc6IGF1dG87IiB2aWV3Qm94PSIwIDAgMTAwIDEwMCIgcHJlc2VydmVBc3BlY3RSYXRpbz0ieE1pZFlNaWQiPiAgPGNpcmNsZSBjeD0iNTAiIGN5PSI1MCIgZmlsbD0ibm9uZSIgc3Ryb2tlPSIjYzNjM2MzIiBzdHJva2Utd2lkdGg9IjEwIiByPSIzNSIgc3Ryb2tlLWRhc2hhcnJheT0iMTY0LjkzMzYxNDMxMzQ2NDE1IDU2Ljk3Nzg3MTQzNzgyMTM4Ij4gICAgPGFuaW1hdGVUcmFuc2Zvcm0gYXR0cmlidXRlTmFtZT0idHJhbnNmb3JtIiB0eXBlPSJyb3RhdGUiIHJlcGVhdENvdW50PSJpbmRlZmluaXRlIiBkdXI9IjFzIiB2YWx1ZXM9IjAgNTAgNTA7MzYwIDUwIDUwIiBrZXlUaW1lcz0iMDsxIj48L2FuaW1hdGVUcmFuc2Zvcm0+ICA8L2NpcmNsZT48L3N2Zz4=\\\");\\n  background-size: auto calc(min(50%, 400px));\\n}\",{\"id\":\"8588de98-6b66-4deb-9eb7-631e51480c3a\"},{\"id\":\"b5a98070-f76c-4d0b-9953-e14cd1455a30\"},{\"id\":\"4e01ad5f-6c47-406b-8418-fb576c3a5e5d\"},{\"id\":\"cf8db030-7c46-48bc-acad-42be4728caf3\"}],\"margin\":0,\"align\":\"start\",\"children\":[{\"type\":\"object\",\"name\":\"panel.models.layout.Column\",\"id\":\"f48554f7-d44b-4b11-80cb-bba9aa677ccb\",\"attributes\":{\"name\":\"Column06708\",\"stylesheets\":[\"\\n:host(.pn-loading.pn-arc):before, .pn-loading.pn-arc:before {\\n  background-image: url(\\\"data:image/svg+xml;base64,PHN2ZyB4bWxucz0iaHR0cDovL3d3dy53My5vcmcvMjAwMC9zdmciIHN0eWxlPSJtYXJnaW46IGF1dG87IGJhY2tncm91bmQ6IG5vbmU7IGRpc3BsYXk6IGJsb2NrOyBzaGFwZS1yZW5kZXJpbmc6IGF1dG87IiB2aWV3Qm94PSIwIDAgMTAwIDEwMCIgcHJlc2VydmVBc3BlY3RSYXRpbz0ieE1pZFlNaWQiPiAgPGNpcmNsZSBjeD0iNTAiIGN5PSI1MCIgZmlsbD0ibm9uZSIgc3Ryb2tlPSIjYzNjM2MzIiBzdHJva2Utd2lkdGg9IjEwIiByPSIzNSIgc3Ryb2tlLWRhc2hhcnJheT0iMTY0LjkzMzYxNDMxMzQ2NDE1IDU2Ljk3Nzg3MTQzNzgyMTM4Ij4gICAgPGFuaW1hdGVUcmFuc2Zvcm0gYXR0cmlidXRlTmFtZT0idHJhbnNmb3JtIiB0eXBlPSJyb3RhdGUiIHJlcGVhdENvdW50PSJpbmRlZmluaXRlIiBkdXI9IjFzIiB2YWx1ZXM9IjAgNTAgNTA7MzYwIDUwIDUwIiBrZXlUaW1lcz0iMDsxIj48L2FuaW1hdGVUcmFuc2Zvcm0+ICA8L2NpcmNsZT48L3N2Zz4=\\\");\\n  background-size: auto calc(min(50%, 400px));\\n}\",{\"id\":\"8588de98-6b66-4deb-9eb7-631e51480c3a\"},{\"id\":\"b5a98070-f76c-4d0b-9953-e14cd1455a30\"},{\"id\":\"4e01ad5f-6c47-406b-8418-fb576c3a5e5d\"},{\"id\":\"cf8db030-7c46-48bc-acad-42be4728caf3\"}],\"margin\":0,\"align\":\"start\",\"children\":[{\"type\":\"object\",\"name\":\"panel.models.markup.HTML\",\"id\":\"832478db-1991-4e40-b793-d5ac6f0115a3\",\"attributes\":{\"css_classes\":[\"markdown\"],\"styles\":{\"type\":\"map\",\"entries\":[[\"color\",\"#FFFFFF\"]]},\"stylesheets\":[\"\\n:host(.pn-loading.pn-arc):before, .pn-loading.pn-arc:before {\\n  background-image: url(\\\"data:image/svg+xml;base64,PHN2ZyB4bWxucz0iaHR0cDovL3d3dy53My5vcmcvMjAwMC9zdmciIHN0eWxlPSJtYXJnaW46IGF1dG87IGJhY2tncm91bmQ6IG5vbmU7IGRpc3BsYXk6IGJsb2NrOyBzaGFwZS1yZW5kZXJpbmc6IGF1dG87IiB2aWV3Qm94PSIwIDAgMTAwIDEwMCIgcHJlc2VydmVBc3BlY3RSYXRpbz0ieE1pZFlNaWQiPiAgPGNpcmNsZSBjeD0iNTAiIGN5PSI1MCIgZmlsbD0ibm9uZSIgc3Ryb2tlPSIjYzNjM2MzIiBzdHJva2Utd2lkdGg9IjEwIiByPSIzNSIgc3Ryb2tlLWRhc2hhcnJheT0iMTY0LjkzMzYxNDMxMzQ2NDE1IDU2Ljk3Nzg3MTQzNzgyMTM4Ij4gICAgPGFuaW1hdGVUcmFuc2Zvcm0gYXR0cmlidXRlTmFtZT0idHJhbnNmb3JtIiB0eXBlPSJyb3RhdGUiIHJlcGVhdENvdW50PSJpbmRlZmluaXRlIiBkdXI9IjFzIiB2YWx1ZXM9IjAgNTAgNTA7MzYwIDUwIDUwIiBrZXlUaW1lcz0iMDsxIj48L2FuaW1hdGVUcmFuc2Zvcm0+ICA8L2NpcmNsZT48L3N2Zz4=\\\");\\n  background-size: auto calc(min(50%, 400px));\\n}\",{\"id\":\"8588de98-6b66-4deb-9eb7-631e51480c3a\"},{\"type\":\"object\",\"name\":\"ImportedStyleSheet\",\"id\":\"df7ef146-f4fb-4dff-9331-4fc631b6513a\",\"attributes\":{\"url\":\"https://cdn.holoviz.org/panel/1.3.1/dist/css/markdown.css\"}},{\"id\":\"4e01ad5f-6c47-406b-8418-fb576c3a5e5d\"},{\"id\":\"cf8db030-7c46-48bc-acad-42be4728caf3\"}],\"margin\":[5,10],\"align\":\"start\",\"text\":\"&lt;h1 id=&quot;house&quot;&gt;House &lt;a class=&quot;header-anchor&quot; href=&quot;#house&quot;&gt;\\u00b6&lt;/a&gt;&lt;/h1&gt;\\n\"}},{\"type\":\"object\",\"name\":\"panel.models.markup.HTML\",\"id\":\"8ee5b11c-e11f-463c-89f2-6506fccaa31a\",\"attributes\":{\"stylesheets\":[\"\\n:host(.pn-loading.pn-arc):before, .pn-loading.pn-arc:before {\\n  background-image: url(\\\"data:image/svg+xml;base64,PHN2ZyB4bWxucz0iaHR0cDovL3d3dy53My5vcmcvMjAwMC9zdmciIHN0eWxlPSJtYXJnaW46IGF1dG87IGJhY2tncm91bmQ6IG5vbmU7IGRpc3BsYXk6IGJsb2NrOyBzaGFwZS1yZW5kZXJpbmc6IGF1dG87IiB2aWV3Qm94PSIwIDAgMTAwIDEwMCIgcHJlc2VydmVBc3BlY3RSYXRpbz0ieE1pZFlNaWQiPiAgPGNpcmNsZSBjeD0iNTAiIGN5PSI1MCIgZmlsbD0ibm9uZSIgc3Ryb2tlPSIjYzNjM2MzIiBzdHJva2Utd2lkdGg9IjEwIiByPSIzNSIgc3Ryb2tlLWRhc2hhcnJheT0iMTY0LjkzMzYxNDMxMzQ2NDE1IDU2Ljk3Nzg3MTQzNzgyMTM4Ij4gICAgPGFuaW1hdGVUcmFuc2Zvcm0gYXR0cmlidXRlTmFtZT0idHJhbnNmb3JtIiB0eXBlPSJyb3RhdGUiIHJlcGVhdENvdW50PSJpbmRlZmluaXRlIiBkdXI9IjFzIiB2YWx1ZXM9IjAgNTAgNTA7MzYwIDUwIDUwIiBrZXlUaW1lcz0iMDsxIj48L2FuaW1hdGVUcmFuc2Zvcm0+ICA8L2NpcmNsZT48L3N2Zz4=\\\");\\n  background-size: auto calc(min(50%, 400px));\\n}\",{\"id\":\"8588de98-6b66-4deb-9eb7-631e51480c3a\"},{\"id\":\"4e01ad5f-6c47-406b-8418-fb576c3a5e5d\"},{\"id\":\"cf8db030-7c46-48bc-acad-42be4728caf3\"}],\"margin\":[5,10],\"align\":\"start\",\"text\":\"&lt;div style=&quot;font-size: 13pt; color: #FFFFFF&quot;&gt;Listings&lt;/div&gt;\\n&lt;div style=&quot;font-size: 13pt; color: #FFFFFF&quot;&gt;8,064&lt;/div&gt;\"}}]}}]}}]}},{\"type\":\"object\",\"name\":\"panel.models.comm_manager.CommManager\",\"id\":\"fd2332e1-8bbe-426f-8481-0bec33d72f75\",\"attributes\":{\"plot_id\":\"d8cc85aa-aace-4fbe-8b2c-da1cf5c9b4cf\",\"comm_id\":\"cf88112e11d14f2995ff219be5c0a42f\",\"client_comm_id\":\"71e23aa2957047508fffad0bd2595ff6\"}}],\"defs\":[{\"type\":\"model\",\"name\":\"ReactiveHTML1\"},{\"type\":\"model\",\"name\":\"FlexBox1\",\"properties\":[{\"name\":\"align_content\",\"kind\":\"Any\",\"default\":\"flex-start\"},{\"name\":\"align_items\",\"kind\":\"Any\",\"default\":\"flex-start\"},{\"name\":\"flex_direction\",\"kind\":\"Any\",\"default\":\"row\"},{\"name\":\"flex_wrap\",\"kind\":\"Any\",\"default\":\"wrap\"},{\"name\":\"justify_content\",\"kind\":\"Any\",\"default\":\"flex-start\"}]},{\"type\":\"model\",\"name\":\"FloatPanel1\",\"properties\":[{\"name\":\"config\",\"kind\":\"Any\",\"default\":{\"type\":\"map\"}},{\"name\":\"contained\",\"kind\":\"Any\",\"default\":true},{\"name\":\"position\",\"kind\":\"Any\",\"default\":\"right-top\"},{\"name\":\"offsetx\",\"kind\":\"Any\",\"default\":null},{\"name\":\"offsety\",\"kind\":\"Any\",\"default\":null},{\"name\":\"theme\",\"kind\":\"Any\",\"default\":\"primary\"},{\"name\":\"status\",\"kind\":\"Any\",\"default\":\"normalized\"}]},{\"type\":\"model\",\"name\":\"GridStack1\",\"properties\":[{\"name\":\"mode\",\"kind\":\"Any\",\"default\":\"warn\"},{\"name\":\"ncols\",\"kind\":\"Any\",\"default\":null},{\"name\":\"nrows\",\"kind\":\"Any\",\"default\":null},{\"name\":\"allow_resize\",\"kind\":\"Any\",\"default\":true},{\"name\":\"allow_drag\",\"kind\":\"Any\",\"default\":true},{\"name\":\"state\",\"kind\":\"Any\",\"default\":[]}]},{\"type\":\"model\",\"name\":\"drag1\",\"properties\":[{\"name\":\"slider_width\",\"kind\":\"Any\",\"default\":5},{\"name\":\"slider_color\",\"kind\":\"Any\",\"default\":\"black\"},{\"name\":\"value\",\"kind\":\"Any\",\"default\":50}]},{\"type\":\"model\",\"name\":\"click1\",\"properties\":[{\"name\":\"terminal_output\",\"kind\":\"Any\",\"default\":\"\"},{\"name\":\"debug_name\",\"kind\":\"Any\",\"default\":\"\"},{\"name\":\"clears\",\"kind\":\"Any\",\"default\":0}]},{\"type\":\"model\",\"name\":\"toggle_value1\",\"properties\":[{\"name\":\"active_icons\",\"kind\":\"Any\",\"default\":{\"type\":\"map\"}},{\"name\":\"options\",\"kind\":\"Any\",\"default\":{\"type\":\"map\",\"entries\":[[\"favorite\",\"heart\"]]}},{\"name\":\"value\",\"kind\":\"Any\",\"default\":[]},{\"name\":\"_reactions\",\"kind\":\"Any\",\"default\":[]},{\"name\":\"_base_url\",\"kind\":\"Any\",\"default\":\"https://tabler-icons.io/static/tabler-icons/icons/\"}]},{\"type\":\"model\",\"name\":\"copy_to_clipboard1\",\"properties\":[{\"name\":\"value\",\"kind\":\"Any\",\"default\":null},{\"name\":\"fill\",\"kind\":\"Any\",\"default\":\"none\"}]},{\"type\":\"model\",\"name\":\"FastWrapper1\",\"properties\":[{\"name\":\"object\",\"kind\":\"Any\",\"default\":null},{\"name\":\"style\",\"kind\":\"Any\",\"default\":null}]},{\"type\":\"model\",\"name\":\"NotificationAreaBase1\",\"properties\":[{\"name\":\"js_events\",\"kind\":\"Any\",\"default\":{\"type\":\"map\"}},{\"name\":\"position\",\"kind\":\"Any\",\"default\":\"bottom-right\"},{\"name\":\"_clear\",\"kind\":\"Any\",\"default\":0}]},{\"type\":\"model\",\"name\":\"NotificationArea1\",\"properties\":[{\"name\":\"js_events\",\"kind\":\"Any\",\"default\":{\"type\":\"map\"}},{\"name\":\"notifications\",\"kind\":\"Any\",\"default\":[]},{\"name\":\"position\",\"kind\":\"Any\",\"default\":\"bottom-right\"},{\"name\":\"_clear\",\"kind\":\"Any\",\"default\":0},{\"name\":\"types\",\"kind\":\"Any\",\"default\":[{\"type\":\"map\",\"entries\":[[\"type\",\"warning\"],[\"background\",\"#ffc107\"],[\"icon\",{\"type\":\"map\",\"entries\":[[\"className\",\"fas fa-exclamation-triangle\"],[\"tagName\",\"i\"],[\"color\",\"white\"]]}]]},{\"type\":\"map\",\"entries\":[[\"type\",\"info\"],[\"background\",\"#007bff\"],[\"icon\",{\"type\":\"map\",\"entries\":[[\"className\",\"fas fa-info-circle\"],[\"tagName\",\"i\"],[\"color\",\"white\"]]}]]}]}]},{\"type\":\"model\",\"name\":\"Notification\",\"properties\":[{\"name\":\"background\",\"kind\":\"Any\",\"default\":null},{\"name\":\"duration\",\"kind\":\"Any\",\"default\":3000},{\"name\":\"icon\",\"kind\":\"Any\",\"default\":null},{\"name\":\"message\",\"kind\":\"Any\",\"default\":\"\"},{\"name\":\"notification_type\",\"kind\":\"Any\",\"default\":null},{\"name\":\"_destroyed\",\"kind\":\"Any\",\"default\":false}]},{\"type\":\"model\",\"name\":\"TemplateActions1\",\"properties\":[{\"name\":\"open_modal\",\"kind\":\"Any\",\"default\":0},{\"name\":\"close_modal\",\"kind\":\"Any\",\"default\":0}]},{\"type\":\"model\",\"name\":\"BootstrapTemplateActions1\",\"properties\":[{\"name\":\"open_modal\",\"kind\":\"Any\",\"default\":0},{\"name\":\"close_modal\",\"kind\":\"Any\",\"default\":0}]},{\"type\":\"model\",\"name\":\"MaterialTemplateActions1\",\"properties\":[{\"name\":\"open_modal\",\"kind\":\"Any\",\"default\":0},{\"name\":\"close_modal\",\"kind\":\"Any\",\"default\":0}]}]}};\n",
       "  var render_items = [{\"docid\":\"0647c314-264e-483a-b755-1f1584e1d9bc\",\"roots\":{\"d8cc85aa-aace-4fbe-8b2c-da1cf5c9b4cf\":\"b0d8d783-d76e-49c4-889f-fab8994828f5\"},\"root_ids\":[\"d8cc85aa-aace-4fbe-8b2c-da1cf5c9b4cf\"]}];\n",
       "  var docs = Object.values(docs_json)\n",
       "  if (!docs) {\n",
       "    return\n",
       "  }\n",
       "  const py_version = docs[0].version.replace('rc', '-rc.').replace('.dev', '-dev.')\n",
       "  const is_dev = py_version.indexOf(\"+\") !== -1 || py_version.indexOf(\"-\") !== -1\n",
       "  function embed_document(root) {\n",
       "    var Bokeh = get_bokeh(root)\n",
       "    Bokeh.embed.embed_items_notebook(docs_json, render_items);\n",
       "    for (const render_item of render_items) {\n",
       "      for (const root_id of render_item.root_ids) {\n",
       "\tconst id_el = document.getElementById(root_id)\n",
       "\tif (id_el.children.length && (id_el.children[0].className === 'bk-root')) {\n",
       "\t  const root_el = id_el.children[0]\n",
       "\t  root_el.id = root_el.id + '-rendered'\n",
       "\t}\n",
       "      }\n",
       "    }\n",
       "  }\n",
       "  function get_bokeh(root) {\n",
       "    if (root.Bokeh === undefined) {\n",
       "      return null\n",
       "    } else if (root.Bokeh.version !== py_version && !is_dev) {\n",
       "      if (root.Bokeh.versions === undefined || !root.Bokeh.versions.has(py_version)) {\n",
       "\treturn null\n",
       "      }\n",
       "      return root.Bokeh.versions.get(py_version);\n",
       "    } else if (root.Bokeh.version === py_version) {\n",
       "      return root.Bokeh\n",
       "    }\n",
       "    return null\n",
       "  }\n",
       "  function is_loaded(root) {\n",
       "    var Bokeh = get_bokeh(root)\n",
       "    return (Bokeh != null && Bokeh.Panel !== undefined)\n",
       "  }\n",
       "  if (is_loaded(root)) {\n",
       "    embed_document(root);\n",
       "  } else {\n",
       "    var attempts = 0;\n",
       "    var timer = setInterval(function(root) {\n",
       "      if (is_loaded(root)) {\n",
       "        clearInterval(timer);\n",
       "        embed_document(root);\n",
       "      } else if (document.readyState == \"complete\") {\n",
       "        attempts++;\n",
       "        if (attempts > 200) {\n",
       "          clearInterval(timer);\n",
       "\t  var Bokeh = get_bokeh(root)\n",
       "\t  if (Bokeh == null || Bokeh.Panel == null) {\n",
       "            console.warn(\"Panel: ERROR: Unable to run Panel code because Bokeh or Panel library is missing\");\n",
       "\t  } else {\n",
       "\t    console.warn(\"Panel: WARNING: Attempting to render but not all required libraries could be resolved.\")\n",
       "\t    embed_document(root)\n",
       "\t  }\n",
       "        }\n",
       "      }\n",
       "    }, 25, root)\n",
       "  }\n",
       "})(window);</script>"
      ],
      "text/plain": [
       "Row\n",
       "    [0] Select(name='Property Type', options=['Apartment', ...], value='House')\n",
       "    [1] ParamFunction(function, _pane=Column, defer_load=False)"
      ]
     },
     "execution_count": 63,
     "metadata": {
      "application/vnd.holoviews_exec.v0+json": {
       "id": "d8cc85aa-aace-4fbe-8b2c-da1cf5c9b4cf"
      }
     },
     "output_type": "execute_result"
    }
   ],
   "source": [
    "pn.Row(p_type, ban_small)"
   ]
  },
  {
   "cell_type": "markdown",
   "id": "fourth-austria",
   "metadata": {},
   "source": [
    "Let's make the function above a bit more complex."
   ]
  },
  {
   "cell_type": "code",
   "execution_count": 64,
   "id": "chinese-cleveland",
   "metadata": {},
   "outputs": [],
   "source": [
    "@pn.depends(p_type.param.value)\n",
    "def bans(p_type):\n",
    "    \n",
    "    g_opts     = dict(default_color='#FFFFFF', align='start', font_size='13pt', title_size='13pt')\n",
    "    p_mask     = df['property_type'] == p_type\n",
    "    data       = df[p_mask].copy()    \n",
    "    listings   = p_mask.sum() \n",
    "    super_host = data.groupby('host_is_superhost')['host_is_superhost'].count().loc['t']\n",
    "    avg_price  = data['price'].mean()\n",
    "    \n",
    "    # the title will change depending on the property type\n",
    "    main_title = pn.pane.Markdown(f\"# {p_type}\", styles={'color':'#FFFFFF'})\n",
    "    \n",
    "    ban1 = pn.indicators.Number(name=\"Listings\", value=listings, **g_opts, format='{value:,.0f}')\n",
    "    ban2 = pn.indicators.Number(name=\"Super Hosts\", value=super_host, **g_opts, format='{value:,.0f}')\n",
    "    ban3 = pn.indicators.Number(name=\"Avg Price/Night\", value=avg_price, **g_opts, format='${value:,.0f}')\n",
    "    \n",
    "    return pn.Column(main_title, pn.Row(ban1, ban2, ban3, align='start'), align='start', height=80, width=150)"
   ]
  },
  {
   "cell_type": "markdown",
   "id": "confirmed-boring",
   "metadata": {},
   "source": [
    "### Exercise"
   ]
  },
  {
   "cell_type": "markdown",
   "id": "neither-hayes",
   "metadata": {},
   "source": [
    "Create a BAN function for the mean price per bed type and have it interact with our nps score\n",
    "\n",
    "1. Your function will take the nps widget\n",
    "2. filter for an nps\n",
    "3. that dataframe will be grouped by the bed_type column and\n",
    "4. you will take the mean of the price column\n",
    "5. display the ban and the widget in a column"
   ]
  },
  {
   "cell_type": "code",
   "execution_count": null,
   "id": "dangerous-colombia",
   "metadata": {},
   "outputs": [],
   "source": []
  },
  {
   "cell_type": "code",
   "execution_count": null,
   "id": "hazardous-visitor",
   "metadata": {},
   "outputs": [],
   "source": []
  },
  {
   "cell_type": "markdown",
   "id": "fancy-officer",
   "metadata": {},
   "source": [
    "### The Title"
   ]
  },
  {
   "cell_type": "code",
   "execution_count": 65,
   "id": "disciplinary-james",
   "metadata": {},
   "outputs": [
    {
     "data": {},
     "metadata": {},
     "output_type": "display_data"
    },
    {
     "data": {
      "application/vnd.holoviews_exec.v0+json": "",
      "text/html": [
       "<div id='33730a78-9ccc-42f4-b16a-bc3b50907298'>\n",
       "  <div id=\"dc1ce4c5-d53f-46e4-b702-507c5b5732b6\" data-root-id=\"33730a78-9ccc-42f4-b16a-bc3b50907298\" style=\"display: contents;\"></div>\n",
       "</div>\n",
       "<script type=\"application/javascript\">(function(root) {\n",
       "  var docs_json = {\"645cb650-e17b-4f3f-aab5-5ee861b6b053\":{\"version\":\"3.3.1\",\"title\":\"Bokeh Application\",\"roots\":[{\"type\":\"object\",\"name\":\"panel.models.markup.HTML\",\"id\":\"33730a78-9ccc-42f4-b16a-bc3b50907298\",\"attributes\":{\"css_classes\":[\"markdown\"],\"styles\":{\"type\":\"map\",\"entries\":[[\"color\",\"#FFFFFF\"]]},\"stylesheets\":[\"\\n:host(.pn-loading.pn-arc):before, .pn-loading.pn-arc:before {\\n  background-image: url(\\\"data:image/svg+xml;base64,PHN2ZyB4bWxucz0iaHR0cDovL3d3dy53My5vcmcvMjAwMC9zdmciIHN0eWxlPSJtYXJnaW46IGF1dG87IGJhY2tncm91bmQ6IG5vbmU7IGRpc3BsYXk6IGJsb2NrOyBzaGFwZS1yZW5kZXJpbmc6IGF1dG87IiB2aWV3Qm94PSIwIDAgMTAwIDEwMCIgcHJlc2VydmVBc3BlY3RSYXRpbz0ieE1pZFlNaWQiPiAgPGNpcmNsZSBjeD0iNTAiIGN5PSI1MCIgZmlsbD0ibm9uZSIgc3Ryb2tlPSIjYzNjM2MzIiBzdHJva2Utd2lkdGg9IjEwIiByPSIzNSIgc3Ryb2tlLWRhc2hhcnJheT0iMTY0LjkzMzYxNDMxMzQ2NDE1IDU2Ljk3Nzg3MTQzNzgyMTM4Ij4gICAgPGFuaW1hdGVUcmFuc2Zvcm0gYXR0cmlidXRlTmFtZT0idHJhbnNmb3JtIiB0eXBlPSJyb3RhdGUiIHJlcGVhdENvdW50PSJpbmRlZmluaXRlIiBkdXI9IjFzIiB2YWx1ZXM9IjAgNTAgNTA7MzYwIDUwIDUwIiBrZXlUaW1lcz0iMDsxIj48L2FuaW1hdGVUcmFuc2Zvcm0+ICA8L2NpcmNsZT48L3N2Zz4=\\\");\\n  background-size: auto calc(min(50%, 400px));\\n}\",{\"type\":\"object\",\"name\":\"ImportedStyleSheet\",\"id\":\"e4aaf260-898a-49eb-8677-164dc206a50c\",\"attributes\":{\"url\":\"https://cdn.holoviz.org/panel/1.3.1/dist/css/loading.css\"}},{\"type\":\"object\",\"name\":\"ImportedStyleSheet\",\"id\":\"d6da1ba3-24d5-4d31-8ad6-2adeb17af4ff\",\"attributes\":{\"url\":\"https://cdn.holoviz.org/panel/1.3.1/dist/css/markdown.css\"}},{\"type\":\"object\",\"name\":\"ImportedStyleSheet\",\"id\":\"cf31b6cd-d7fb-425c-be26-1269625ad3c9\",\"attributes\":{\"url\":\"https://cdn.holoviz.org/panel/1.3.1/dist/bundled/theme/default.css\"}},{\"type\":\"object\",\"name\":\"ImportedStyleSheet\",\"id\":\"eadd67fd-b904-4dd2-87ca-101ba1125e9d\",\"attributes\":{\"url\":\"https://cdn.holoviz.org/panel/1.3.1/dist/bundled/theme/native.css\"}}],\"height\":50,\"margin\":[0,0,0,5],\"sizing_mode\":\"stretch_width\",\"align\":\"start\",\"text\":\"&lt;h1 id=&quot;airbnb-listings-analysis-in-sydney&quot;&gt;Airbnb Listings Analysis in Sydney &lt;a class=&quot;header-anchor&quot; href=&quot;#airbnb-listings-analysis-in-sydney&quot;&gt;\\u00b6&lt;/a&gt;&lt;/h1&gt;\\n\"}},{\"type\":\"object\",\"name\":\"panel.models.comm_manager.CommManager\",\"id\":\"d746c441-8b1a-4133-97ad-58b74ba93a5a\",\"attributes\":{\"plot_id\":\"33730a78-9ccc-42f4-b16a-bc3b50907298\",\"comm_id\":\"2884b47e57864c2c8487eceda62b15ba\",\"client_comm_id\":\"289f5f769663497b9e6b303d287501b2\"}}],\"defs\":[{\"type\":\"model\",\"name\":\"ReactiveHTML1\"},{\"type\":\"model\",\"name\":\"FlexBox1\",\"properties\":[{\"name\":\"align_content\",\"kind\":\"Any\",\"default\":\"flex-start\"},{\"name\":\"align_items\",\"kind\":\"Any\",\"default\":\"flex-start\"},{\"name\":\"flex_direction\",\"kind\":\"Any\",\"default\":\"row\"},{\"name\":\"flex_wrap\",\"kind\":\"Any\",\"default\":\"wrap\"},{\"name\":\"justify_content\",\"kind\":\"Any\",\"default\":\"flex-start\"}]},{\"type\":\"model\",\"name\":\"FloatPanel1\",\"properties\":[{\"name\":\"config\",\"kind\":\"Any\",\"default\":{\"type\":\"map\"}},{\"name\":\"contained\",\"kind\":\"Any\",\"default\":true},{\"name\":\"position\",\"kind\":\"Any\",\"default\":\"right-top\"},{\"name\":\"offsetx\",\"kind\":\"Any\",\"default\":null},{\"name\":\"offsety\",\"kind\":\"Any\",\"default\":null},{\"name\":\"theme\",\"kind\":\"Any\",\"default\":\"primary\"},{\"name\":\"status\",\"kind\":\"Any\",\"default\":\"normalized\"}]},{\"type\":\"model\",\"name\":\"GridStack1\",\"properties\":[{\"name\":\"mode\",\"kind\":\"Any\",\"default\":\"warn\"},{\"name\":\"ncols\",\"kind\":\"Any\",\"default\":null},{\"name\":\"nrows\",\"kind\":\"Any\",\"default\":null},{\"name\":\"allow_resize\",\"kind\":\"Any\",\"default\":true},{\"name\":\"allow_drag\",\"kind\":\"Any\",\"default\":true},{\"name\":\"state\",\"kind\":\"Any\",\"default\":[]}]},{\"type\":\"model\",\"name\":\"drag1\",\"properties\":[{\"name\":\"slider_width\",\"kind\":\"Any\",\"default\":5},{\"name\":\"slider_color\",\"kind\":\"Any\",\"default\":\"black\"},{\"name\":\"value\",\"kind\":\"Any\",\"default\":50}]},{\"type\":\"model\",\"name\":\"click1\",\"properties\":[{\"name\":\"terminal_output\",\"kind\":\"Any\",\"default\":\"\"},{\"name\":\"debug_name\",\"kind\":\"Any\",\"default\":\"\"},{\"name\":\"clears\",\"kind\":\"Any\",\"default\":0}]},{\"type\":\"model\",\"name\":\"toggle_value1\",\"properties\":[{\"name\":\"active_icons\",\"kind\":\"Any\",\"default\":{\"type\":\"map\"}},{\"name\":\"options\",\"kind\":\"Any\",\"default\":{\"type\":\"map\",\"entries\":[[\"favorite\",\"heart\"]]}},{\"name\":\"value\",\"kind\":\"Any\",\"default\":[]},{\"name\":\"_reactions\",\"kind\":\"Any\",\"default\":[]},{\"name\":\"_base_url\",\"kind\":\"Any\",\"default\":\"https://tabler-icons.io/static/tabler-icons/icons/\"}]},{\"type\":\"model\",\"name\":\"copy_to_clipboard1\",\"properties\":[{\"name\":\"value\",\"kind\":\"Any\",\"default\":null},{\"name\":\"fill\",\"kind\":\"Any\",\"default\":\"none\"}]},{\"type\":\"model\",\"name\":\"FastWrapper1\",\"properties\":[{\"name\":\"object\",\"kind\":\"Any\",\"default\":null},{\"name\":\"style\",\"kind\":\"Any\",\"default\":null}]},{\"type\":\"model\",\"name\":\"NotificationAreaBase1\",\"properties\":[{\"name\":\"js_events\",\"kind\":\"Any\",\"default\":{\"type\":\"map\"}},{\"name\":\"position\",\"kind\":\"Any\",\"default\":\"bottom-right\"},{\"name\":\"_clear\",\"kind\":\"Any\",\"default\":0}]},{\"type\":\"model\",\"name\":\"NotificationArea1\",\"properties\":[{\"name\":\"js_events\",\"kind\":\"Any\",\"default\":{\"type\":\"map\"}},{\"name\":\"notifications\",\"kind\":\"Any\",\"default\":[]},{\"name\":\"position\",\"kind\":\"Any\",\"default\":\"bottom-right\"},{\"name\":\"_clear\",\"kind\":\"Any\",\"default\":0},{\"name\":\"types\",\"kind\":\"Any\",\"default\":[{\"type\":\"map\",\"entries\":[[\"type\",\"warning\"],[\"background\",\"#ffc107\"],[\"icon\",{\"type\":\"map\",\"entries\":[[\"className\",\"fas fa-exclamation-triangle\"],[\"tagName\",\"i\"],[\"color\",\"white\"]]}]]},{\"type\":\"map\",\"entries\":[[\"type\",\"info\"],[\"background\",\"#007bff\"],[\"icon\",{\"type\":\"map\",\"entries\":[[\"className\",\"fas fa-info-circle\"],[\"tagName\",\"i\"],[\"color\",\"white\"]]}]]}]}]},{\"type\":\"model\",\"name\":\"Notification\",\"properties\":[{\"name\":\"background\",\"kind\":\"Any\",\"default\":null},{\"name\":\"duration\",\"kind\":\"Any\",\"default\":3000},{\"name\":\"icon\",\"kind\":\"Any\",\"default\":null},{\"name\":\"message\",\"kind\":\"Any\",\"default\":\"\"},{\"name\":\"notification_type\",\"kind\":\"Any\",\"default\":null},{\"name\":\"_destroyed\",\"kind\":\"Any\",\"default\":false}]},{\"type\":\"model\",\"name\":\"TemplateActions1\",\"properties\":[{\"name\":\"open_modal\",\"kind\":\"Any\",\"default\":0},{\"name\":\"close_modal\",\"kind\":\"Any\",\"default\":0}]},{\"type\":\"model\",\"name\":\"BootstrapTemplateActions1\",\"properties\":[{\"name\":\"open_modal\",\"kind\":\"Any\",\"default\":0},{\"name\":\"close_modal\",\"kind\":\"Any\",\"default\":0}]},{\"type\":\"model\",\"name\":\"MaterialTemplateActions1\",\"properties\":[{\"name\":\"open_modal\",\"kind\":\"Any\",\"default\":0},{\"name\":\"close_modal\",\"kind\":\"Any\",\"default\":0}]}]}};\n",
       "  var render_items = [{\"docid\":\"645cb650-e17b-4f3f-aab5-5ee861b6b053\",\"roots\":{\"33730a78-9ccc-42f4-b16a-bc3b50907298\":\"dc1ce4c5-d53f-46e4-b702-507c5b5732b6\"},\"root_ids\":[\"33730a78-9ccc-42f4-b16a-bc3b50907298\"]}];\n",
       "  var docs = Object.values(docs_json)\n",
       "  if (!docs) {\n",
       "    return\n",
       "  }\n",
       "  const py_version = docs[0].version.replace('rc', '-rc.').replace('.dev', '-dev.')\n",
       "  const is_dev = py_version.indexOf(\"+\") !== -1 || py_version.indexOf(\"-\") !== -1\n",
       "  function embed_document(root) {\n",
       "    var Bokeh = get_bokeh(root)\n",
       "    Bokeh.embed.embed_items_notebook(docs_json, render_items);\n",
       "    for (const render_item of render_items) {\n",
       "      for (const root_id of render_item.root_ids) {\n",
       "\tconst id_el = document.getElementById(root_id)\n",
       "\tif (id_el.children.length && (id_el.children[0].className === 'bk-root')) {\n",
       "\t  const root_el = id_el.children[0]\n",
       "\t  root_el.id = root_el.id + '-rendered'\n",
       "\t}\n",
       "      }\n",
       "    }\n",
       "  }\n",
       "  function get_bokeh(root) {\n",
       "    if (root.Bokeh === undefined) {\n",
       "      return null\n",
       "    } else if (root.Bokeh.version !== py_version && !is_dev) {\n",
       "      if (root.Bokeh.versions === undefined || !root.Bokeh.versions.has(py_version)) {\n",
       "\treturn null\n",
       "      }\n",
       "      return root.Bokeh.versions.get(py_version);\n",
       "    } else if (root.Bokeh.version === py_version) {\n",
       "      return root.Bokeh\n",
       "    }\n",
       "    return null\n",
       "  }\n",
       "  function is_loaded(root) {\n",
       "    var Bokeh = get_bokeh(root)\n",
       "    return (Bokeh != null && Bokeh.Panel !== undefined)\n",
       "  }\n",
       "  if (is_loaded(root)) {\n",
       "    embed_document(root);\n",
       "  } else {\n",
       "    var attempts = 0;\n",
       "    var timer = setInterval(function(root) {\n",
       "      if (is_loaded(root)) {\n",
       "        clearInterval(timer);\n",
       "        embed_document(root);\n",
       "      } else if (document.readyState == \"complete\") {\n",
       "        attempts++;\n",
       "        if (attempts > 200) {\n",
       "          clearInterval(timer);\n",
       "\t  var Bokeh = get_bokeh(root)\n",
       "\t  if (Bokeh == null || Bokeh.Panel == null) {\n",
       "            console.warn(\"Panel: ERROR: Unable to run Panel code because Bokeh or Panel library is missing\");\n",
       "\t  } else {\n",
       "\t    console.warn(\"Panel: WARNING: Attempting to render but not all required libraries could be resolved.\")\n",
       "\t    embed_document(root)\n",
       "\t  }\n",
       "        }\n",
       "      }\n",
       "    }, 25, root)\n",
       "  }\n",
       "})(window);</script>"
      ],
      "text/plain": [
       "Markdown(str, height=50, margin=(0, 0, 0, 5), sizing_mode='stretch_width', styles={'color': '#FFFFFF'})"
      ]
     },
     "execution_count": 65,
     "metadata": {
      "application/vnd.holoviews_exec.v0+json": {
       "id": "33730a78-9ccc-42f4-b16a-bc3b50907298"
      }
     },
     "output_type": "execute_result"
    }
   ],
   "source": [
    "text = pn.pane.Markdown(\n",
    "    f\"# Airbnb Listings Analysis in Sydney\", styles={\"color\": \"#FFFFFF\"}, height=50, sizing_mode=\"stretch_width\", margin=(0,0,0,5)\n",
    ")\n",
    "text"
   ]
  },
  {
   "cell_type": "code",
   "execution_count": 66,
   "id": "sunrise-tourism",
   "metadata": {},
   "outputs": [
    {
     "data": {},
     "metadata": {},
     "output_type": "display_data"
    },
    {
     "data": {
      "application/vnd.holoviews_exec.v0+json": "",
      "text/html": [
       "<div id='dfafb3c3-ba6c-490f-8ee1-1f3e10c92768'>\n",
       "  <div id=\"e29ee61d-e9cc-49a8-bbc7-b231b4e5097a\" data-root-id=\"dfafb3c3-ba6c-490f-8ee1-1f3e10c92768\" style=\"display: contents;\"></div>\n",
       "</div>\n",
       "<script type=\"application/javascript\">(function(root) {\n",
       "  var docs_json = {\"16f48ef4-256c-4931-bfff-c14eac2cd97e\":{\"version\":\"3.3.1\",\"title\":\"Bokeh Application\",\"roots\":[{\"type\":\"object\",\"name\":\"panel.models.markup.HTML\",\"id\":\"dfafb3c3-ba6c-490f-8ee1-1f3e10c92768\",\"attributes\":{\"stylesheets\":[\"\\n:host(.pn-loading.pn-arc):before, .pn-loading.pn-arc:before {\\n  background-image: url(\\\"data:image/svg+xml;base64,PHN2ZyB4bWxucz0iaHR0cDovL3d3dy53My5vcmcvMjAwMC9zdmciIHN0eWxlPSJtYXJnaW46IGF1dG87IGJhY2tncm91bmQ6IG5vbmU7IGRpc3BsYXk6IGJsb2NrOyBzaGFwZS1yZW5kZXJpbmc6IGF1dG87IiB2aWV3Qm94PSIwIDAgMTAwIDEwMCIgcHJlc2VydmVBc3BlY3RSYXRpbz0ieE1pZFlNaWQiPiAgPGNpcmNsZSBjeD0iNTAiIGN5PSI1MCIgZmlsbD0ibm9uZSIgc3Ryb2tlPSIjYzNjM2MzIiBzdHJva2Utd2lkdGg9IjEwIiByPSIzNSIgc3Ryb2tlLWRhc2hhcnJheT0iMTY0LjkzMzYxNDMxMzQ2NDE1IDU2Ljk3Nzg3MTQzNzgyMTM4Ij4gICAgPGFuaW1hdGVUcmFuc2Zvcm0gYXR0cmlidXRlTmFtZT0idHJhbnNmb3JtIiB0eXBlPSJyb3RhdGUiIHJlcGVhdENvdW50PSJpbmRlZmluaXRlIiBkdXI9IjFzIiB2YWx1ZXM9IjAgNTAgNTA7MzYwIDUwIDUwIiBrZXlUaW1lcz0iMDsxIj48L2FuaW1hdGVUcmFuc2Zvcm0+ICA8L2NpcmNsZT48L3N2Zz4=\\\");\\n  background-size: auto calc(min(50%, 400px));\\n}\",{\"type\":\"object\",\"name\":\"ImportedStyleSheet\",\"id\":\"905b2274-a841-4047-8e45-639bcff6cb7a\",\"attributes\":{\"url\":\"https://cdn.holoviz.org/panel/1.3.1/dist/css/loading.css\"}},{\"type\":\"object\",\"name\":\"ImportedStyleSheet\",\"id\":\"690d9a3f-dc43-4800-8a87-abdf6cf4de0c\",\"attributes\":{\"url\":\"https://cdn.holoviz.org/panel/1.3.1/dist/bundled/theme/default.css\"}},{\"type\":\"object\",\"name\":\"ImportedStyleSheet\",\"id\":\"86dba876-f340-4a16-a963-30fef5c5210e\",\"attributes\":{\"url\":\"https://cdn.holoviz.org/panel/1.3.1/dist/bundled/theme/native.css\"}}],\"height\":50,\"margin\":[5,10],\"sizing_mode\":\"fixed\",\"align\":\"center\",\"text\":\"&lt;img src=&quot;https://i.pinimg.com/originals/a3/cd/30/a3cd30c0ba0e7f827dfe22e7a7011cd8.gif&quot;  style=&quot;max-width: 100%; max-height: 100%; object-fit: contain; width: auto; height: 50px;&quot;&gt;&lt;/img&gt;\"}},{\"type\":\"object\",\"name\":\"panel.models.comm_manager.CommManager\",\"id\":\"e2ba328c-27be-4b9c-92ce-de7d0e99e246\",\"attributes\":{\"plot_id\":\"dfafb3c3-ba6c-490f-8ee1-1f3e10c92768\",\"comm_id\":\"adf9567582d8477590680bd0ede084f3\",\"client_comm_id\":\"06cf648a4de34a5b863bc82e0a32e835\"}}],\"defs\":[{\"type\":\"model\",\"name\":\"ReactiveHTML1\"},{\"type\":\"model\",\"name\":\"FlexBox1\",\"properties\":[{\"name\":\"align_content\",\"kind\":\"Any\",\"default\":\"flex-start\"},{\"name\":\"align_items\",\"kind\":\"Any\",\"default\":\"flex-start\"},{\"name\":\"flex_direction\",\"kind\":\"Any\",\"default\":\"row\"},{\"name\":\"flex_wrap\",\"kind\":\"Any\",\"default\":\"wrap\"},{\"name\":\"justify_content\",\"kind\":\"Any\",\"default\":\"flex-start\"}]},{\"type\":\"model\",\"name\":\"FloatPanel1\",\"properties\":[{\"name\":\"config\",\"kind\":\"Any\",\"default\":{\"type\":\"map\"}},{\"name\":\"contained\",\"kind\":\"Any\",\"default\":true},{\"name\":\"position\",\"kind\":\"Any\",\"default\":\"right-top\"},{\"name\":\"offsetx\",\"kind\":\"Any\",\"default\":null},{\"name\":\"offsety\",\"kind\":\"Any\",\"default\":null},{\"name\":\"theme\",\"kind\":\"Any\",\"default\":\"primary\"},{\"name\":\"status\",\"kind\":\"Any\",\"default\":\"normalized\"}]},{\"type\":\"model\",\"name\":\"GridStack1\",\"properties\":[{\"name\":\"mode\",\"kind\":\"Any\",\"default\":\"warn\"},{\"name\":\"ncols\",\"kind\":\"Any\",\"default\":null},{\"name\":\"nrows\",\"kind\":\"Any\",\"default\":null},{\"name\":\"allow_resize\",\"kind\":\"Any\",\"default\":true},{\"name\":\"allow_drag\",\"kind\":\"Any\",\"default\":true},{\"name\":\"state\",\"kind\":\"Any\",\"default\":[]}]},{\"type\":\"model\",\"name\":\"drag1\",\"properties\":[{\"name\":\"slider_width\",\"kind\":\"Any\",\"default\":5},{\"name\":\"slider_color\",\"kind\":\"Any\",\"default\":\"black\"},{\"name\":\"value\",\"kind\":\"Any\",\"default\":50}]},{\"type\":\"model\",\"name\":\"click1\",\"properties\":[{\"name\":\"terminal_output\",\"kind\":\"Any\",\"default\":\"\"},{\"name\":\"debug_name\",\"kind\":\"Any\",\"default\":\"\"},{\"name\":\"clears\",\"kind\":\"Any\",\"default\":0}]},{\"type\":\"model\",\"name\":\"toggle_value1\",\"properties\":[{\"name\":\"active_icons\",\"kind\":\"Any\",\"default\":{\"type\":\"map\"}},{\"name\":\"options\",\"kind\":\"Any\",\"default\":{\"type\":\"map\",\"entries\":[[\"favorite\",\"heart\"]]}},{\"name\":\"value\",\"kind\":\"Any\",\"default\":[]},{\"name\":\"_reactions\",\"kind\":\"Any\",\"default\":[]},{\"name\":\"_base_url\",\"kind\":\"Any\",\"default\":\"https://tabler-icons.io/static/tabler-icons/icons/\"}]},{\"type\":\"model\",\"name\":\"copy_to_clipboard1\",\"properties\":[{\"name\":\"value\",\"kind\":\"Any\",\"default\":null},{\"name\":\"fill\",\"kind\":\"Any\",\"default\":\"none\"}]},{\"type\":\"model\",\"name\":\"FastWrapper1\",\"properties\":[{\"name\":\"object\",\"kind\":\"Any\",\"default\":null},{\"name\":\"style\",\"kind\":\"Any\",\"default\":null}]},{\"type\":\"model\",\"name\":\"NotificationAreaBase1\",\"properties\":[{\"name\":\"js_events\",\"kind\":\"Any\",\"default\":{\"type\":\"map\"}},{\"name\":\"position\",\"kind\":\"Any\",\"default\":\"bottom-right\"},{\"name\":\"_clear\",\"kind\":\"Any\",\"default\":0}]},{\"type\":\"model\",\"name\":\"NotificationArea1\",\"properties\":[{\"name\":\"js_events\",\"kind\":\"Any\",\"default\":{\"type\":\"map\"}},{\"name\":\"notifications\",\"kind\":\"Any\",\"default\":[]},{\"name\":\"position\",\"kind\":\"Any\",\"default\":\"bottom-right\"},{\"name\":\"_clear\",\"kind\":\"Any\",\"default\":0},{\"name\":\"types\",\"kind\":\"Any\",\"default\":[{\"type\":\"map\",\"entries\":[[\"type\",\"warning\"],[\"background\",\"#ffc107\"],[\"icon\",{\"type\":\"map\",\"entries\":[[\"className\",\"fas fa-exclamation-triangle\"],[\"tagName\",\"i\"],[\"color\",\"white\"]]}]]},{\"type\":\"map\",\"entries\":[[\"type\",\"info\"],[\"background\",\"#007bff\"],[\"icon\",{\"type\":\"map\",\"entries\":[[\"className\",\"fas fa-info-circle\"],[\"tagName\",\"i\"],[\"color\",\"white\"]]}]]}]}]},{\"type\":\"model\",\"name\":\"Notification\",\"properties\":[{\"name\":\"background\",\"kind\":\"Any\",\"default\":null},{\"name\":\"duration\",\"kind\":\"Any\",\"default\":3000},{\"name\":\"icon\",\"kind\":\"Any\",\"default\":null},{\"name\":\"message\",\"kind\":\"Any\",\"default\":\"\"},{\"name\":\"notification_type\",\"kind\":\"Any\",\"default\":null},{\"name\":\"_destroyed\",\"kind\":\"Any\",\"default\":false}]},{\"type\":\"model\",\"name\":\"TemplateActions1\",\"properties\":[{\"name\":\"open_modal\",\"kind\":\"Any\",\"default\":0},{\"name\":\"close_modal\",\"kind\":\"Any\",\"default\":0}]},{\"type\":\"model\",\"name\":\"BootstrapTemplateActions1\",\"properties\":[{\"name\":\"open_modal\",\"kind\":\"Any\",\"default\":0},{\"name\":\"close_modal\",\"kind\":\"Any\",\"default\":0}]},{\"type\":\"model\",\"name\":\"MaterialTemplateActions1\",\"properties\":[{\"name\":\"open_modal\",\"kind\":\"Any\",\"default\":0},{\"name\":\"close_modal\",\"kind\":\"Any\",\"default\":0}]}]}};\n",
       "  var render_items = [{\"docid\":\"16f48ef4-256c-4931-bfff-c14eac2cd97e\",\"roots\":{\"dfafb3c3-ba6c-490f-8ee1-1f3e10c92768\":\"e29ee61d-e9cc-49a8-bbc7-b231b4e5097a\"},\"root_ids\":[\"dfafb3c3-ba6c-490f-8ee1-1f3e10c92768\"]}];\n",
       "  var docs = Object.values(docs_json)\n",
       "  if (!docs) {\n",
       "    return\n",
       "  }\n",
       "  const py_version = docs[0].version.replace('rc', '-rc.').replace('.dev', '-dev.')\n",
       "  const is_dev = py_version.indexOf(\"+\") !== -1 || py_version.indexOf(\"-\") !== -1\n",
       "  function embed_document(root) {\n",
       "    var Bokeh = get_bokeh(root)\n",
       "    Bokeh.embed.embed_items_notebook(docs_json, render_items);\n",
       "    for (const render_item of render_items) {\n",
       "      for (const root_id of render_item.root_ids) {\n",
       "\tconst id_el = document.getElementById(root_id)\n",
       "\tif (id_el.children.length && (id_el.children[0].className === 'bk-root')) {\n",
       "\t  const root_el = id_el.children[0]\n",
       "\t  root_el.id = root_el.id + '-rendered'\n",
       "\t}\n",
       "      }\n",
       "    }\n",
       "  }\n",
       "  function get_bokeh(root) {\n",
       "    if (root.Bokeh === undefined) {\n",
       "      return null\n",
       "    } else if (root.Bokeh.version !== py_version && !is_dev) {\n",
       "      if (root.Bokeh.versions === undefined || !root.Bokeh.versions.has(py_version)) {\n",
       "\treturn null\n",
       "      }\n",
       "      return root.Bokeh.versions.get(py_version);\n",
       "    } else if (root.Bokeh.version === py_version) {\n",
       "      return root.Bokeh\n",
       "    }\n",
       "    return null\n",
       "  }\n",
       "  function is_loaded(root) {\n",
       "    var Bokeh = get_bokeh(root)\n",
       "    return (Bokeh != null && Bokeh.Panel !== undefined)\n",
       "  }\n",
       "  if (is_loaded(root)) {\n",
       "    embed_document(root);\n",
       "  } else {\n",
       "    var attempts = 0;\n",
       "    var timer = setInterval(function(root) {\n",
       "      if (is_loaded(root)) {\n",
       "        clearInterval(timer);\n",
       "        embed_document(root);\n",
       "      } else if (document.readyState == \"complete\") {\n",
       "        attempts++;\n",
       "        if (attempts > 200) {\n",
       "          clearInterval(timer);\n",
       "\t  var Bokeh = get_bokeh(root)\n",
       "\t  if (Bokeh == null || Bokeh.Panel == null) {\n",
       "            console.warn(\"Panel: ERROR: Unable to run Panel code because Bokeh or Panel library is missing\");\n",
       "\t  } else {\n",
       "\t    console.warn(\"Panel: WARNING: Attempting to render but not all required libraries could be resolved.\")\n",
       "\t    embed_document(root)\n",
       "\t  }\n",
       "        }\n",
       "      }\n",
       "    }, 25, root)\n",
       "  }\n",
       "})(window);</script>"
      ],
      "text/plain": [
       "PNG(str, align='center', height=50, sizing_mode='fixed')"
      ]
     },
     "execution_count": 66,
     "metadata": {
      "application/vnd.holoviews_exec.v0+json": {
       "id": "dfafb3c3-ba6c-490f-8ee1-1f3e10c92768"
      }
     },
     "output_type": "execute_result"
    }
   ],
   "source": [
    "img1 = pn.pane.PNG(\"https://i.pinimg.com/originals/a3/cd/30/a3cd30c0ba0e7f827dfe22e7a7011cd8.gif\", height=50, sizing_mode=\"fixed\", align=\"center\")\n",
    "img1"
   ]
  },
  {
   "cell_type": "code",
   "execution_count": 67,
   "id": "ordinary-missouri",
   "metadata": {},
   "outputs": [
    {
     "data": {},
     "metadata": {},
     "output_type": "display_data"
    },
    {
     "data": {
      "application/vnd.holoviews_exec.v0+json": "",
      "text/html": [
       "<div id='d6f0cd62-dc30-400a-a5f2-e42d3523f117'>\n",
       "  <div id=\"ad1edfc8-e7fc-48aa-86ff-4062363a69dd\" data-root-id=\"d6f0cd62-dc30-400a-a5f2-e42d3523f117\" style=\"display: contents;\"></div>\n",
       "</div>\n",
       "<script type=\"application/javascript\">(function(root) {\n",
       "  var docs_json = {\"8f574971-1170-4ed5-8b45-f93cdcc9e3cf\":{\"version\":\"3.3.1\",\"title\":\"Bokeh Application\",\"roots\":[{\"type\":\"object\",\"name\":\"panel.models.markup.HTML\",\"id\":\"d6f0cd62-dc30-400a-a5f2-e42d3523f117\",\"attributes\":{\"stylesheets\":[\"\\n:host(.pn-loading.pn-arc):before, .pn-loading.pn-arc:before {\\n  background-image: url(\\\"data:image/svg+xml;base64,PHN2ZyB4bWxucz0iaHR0cDovL3d3dy53My5vcmcvMjAwMC9zdmciIHN0eWxlPSJtYXJnaW46IGF1dG87IGJhY2tncm91bmQ6IG5vbmU7IGRpc3BsYXk6IGJsb2NrOyBzaGFwZS1yZW5kZXJpbmc6IGF1dG87IiB2aWV3Qm94PSIwIDAgMTAwIDEwMCIgcHJlc2VydmVBc3BlY3RSYXRpbz0ieE1pZFlNaWQiPiAgPGNpcmNsZSBjeD0iNTAiIGN5PSI1MCIgZmlsbD0ibm9uZSIgc3Ryb2tlPSIjYzNjM2MzIiBzdHJva2Utd2lkdGg9IjEwIiByPSIzNSIgc3Ryb2tlLWRhc2hhcnJheT0iMTY0LjkzMzYxNDMxMzQ2NDE1IDU2Ljk3Nzg3MTQzNzgyMTM4Ij4gICAgPGFuaW1hdGVUcmFuc2Zvcm0gYXR0cmlidXRlTmFtZT0idHJhbnNmb3JtIiB0eXBlPSJyb3RhdGUiIHJlcGVhdENvdW50PSJpbmRlZmluaXRlIiBkdXI9IjFzIiB2YWx1ZXM9IjAgNTAgNTA7MzYwIDUwIDUwIiBrZXlUaW1lcz0iMDsxIj48L2FuaW1hdGVUcmFuc2Zvcm0+ICA8L2NpcmNsZT48L3N2Zz4=\\\");\\n  background-size: auto calc(min(50%, 400px));\\n}\",{\"type\":\"object\",\"name\":\"ImportedStyleSheet\",\"id\":\"bad8340d-e7ed-468d-a567-aeb207d56127\",\"attributes\":{\"url\":\"https://cdn.holoviz.org/panel/1.3.1/dist/css/loading.css\"}},{\"type\":\"object\",\"name\":\"ImportedStyleSheet\",\"id\":\"8c54f239-23d9-456f-9cdd-c30880bbabaa\",\"attributes\":{\"url\":\"https://cdn.holoviz.org/panel/1.3.1/dist/bundled/theme/default.css\"}},{\"type\":\"object\",\"name\":\"ImportedStyleSheet\",\"id\":\"fd1e7977-a9d7-45c1-8141-20c687ab89b1\",\"attributes\":{\"url\":\"https://cdn.holoviz.org/panel/1.3.1/dist/bundled/theme/native.css\"}}],\"height\":50,\"margin\":[5,10],\"sizing_mode\":\"fixed\",\"align\":\"center\",\"text\":\"&lt;img src=&quot;https://e7.pngegg.com/pngimages/388/581/png-clipart-sydney-opera-house-city-of-sydney-cartoon-illustration-sydney-opera-house-creative-cartoon-cartoon-character-angle.png&quot;  style=&quot;max-width: 100%; max-height: 100%; object-fit: contain; width: auto; height: 50px;&quot;&gt;&lt;/img&gt;\"}},{\"type\":\"object\",\"name\":\"panel.models.comm_manager.CommManager\",\"id\":\"9cbe78ed-73f0-408d-af74-d8dd65555149\",\"attributes\":{\"plot_id\":\"d6f0cd62-dc30-400a-a5f2-e42d3523f117\",\"comm_id\":\"6075030f60674afa8493530902ca3e49\",\"client_comm_id\":\"e2980c8f6314420e95e11c5a2abd1546\"}}],\"defs\":[{\"type\":\"model\",\"name\":\"ReactiveHTML1\"},{\"type\":\"model\",\"name\":\"FlexBox1\",\"properties\":[{\"name\":\"align_content\",\"kind\":\"Any\",\"default\":\"flex-start\"},{\"name\":\"align_items\",\"kind\":\"Any\",\"default\":\"flex-start\"},{\"name\":\"flex_direction\",\"kind\":\"Any\",\"default\":\"row\"},{\"name\":\"flex_wrap\",\"kind\":\"Any\",\"default\":\"wrap\"},{\"name\":\"justify_content\",\"kind\":\"Any\",\"default\":\"flex-start\"}]},{\"type\":\"model\",\"name\":\"FloatPanel1\",\"properties\":[{\"name\":\"config\",\"kind\":\"Any\",\"default\":{\"type\":\"map\"}},{\"name\":\"contained\",\"kind\":\"Any\",\"default\":true},{\"name\":\"position\",\"kind\":\"Any\",\"default\":\"right-top\"},{\"name\":\"offsetx\",\"kind\":\"Any\",\"default\":null},{\"name\":\"offsety\",\"kind\":\"Any\",\"default\":null},{\"name\":\"theme\",\"kind\":\"Any\",\"default\":\"primary\"},{\"name\":\"status\",\"kind\":\"Any\",\"default\":\"normalized\"}]},{\"type\":\"model\",\"name\":\"GridStack1\",\"properties\":[{\"name\":\"mode\",\"kind\":\"Any\",\"default\":\"warn\"},{\"name\":\"ncols\",\"kind\":\"Any\",\"default\":null},{\"name\":\"nrows\",\"kind\":\"Any\",\"default\":null},{\"name\":\"allow_resize\",\"kind\":\"Any\",\"default\":true},{\"name\":\"allow_drag\",\"kind\":\"Any\",\"default\":true},{\"name\":\"state\",\"kind\":\"Any\",\"default\":[]}]},{\"type\":\"model\",\"name\":\"drag1\",\"properties\":[{\"name\":\"slider_width\",\"kind\":\"Any\",\"default\":5},{\"name\":\"slider_color\",\"kind\":\"Any\",\"default\":\"black\"},{\"name\":\"value\",\"kind\":\"Any\",\"default\":50}]},{\"type\":\"model\",\"name\":\"click1\",\"properties\":[{\"name\":\"terminal_output\",\"kind\":\"Any\",\"default\":\"\"},{\"name\":\"debug_name\",\"kind\":\"Any\",\"default\":\"\"},{\"name\":\"clears\",\"kind\":\"Any\",\"default\":0}]},{\"type\":\"model\",\"name\":\"toggle_value1\",\"properties\":[{\"name\":\"active_icons\",\"kind\":\"Any\",\"default\":{\"type\":\"map\"}},{\"name\":\"options\",\"kind\":\"Any\",\"default\":{\"type\":\"map\",\"entries\":[[\"favorite\",\"heart\"]]}},{\"name\":\"value\",\"kind\":\"Any\",\"default\":[]},{\"name\":\"_reactions\",\"kind\":\"Any\",\"default\":[]},{\"name\":\"_base_url\",\"kind\":\"Any\",\"default\":\"https://tabler-icons.io/static/tabler-icons/icons/\"}]},{\"type\":\"model\",\"name\":\"copy_to_clipboard1\",\"properties\":[{\"name\":\"value\",\"kind\":\"Any\",\"default\":null},{\"name\":\"fill\",\"kind\":\"Any\",\"default\":\"none\"}]},{\"type\":\"model\",\"name\":\"FastWrapper1\",\"properties\":[{\"name\":\"object\",\"kind\":\"Any\",\"default\":null},{\"name\":\"style\",\"kind\":\"Any\",\"default\":null}]},{\"type\":\"model\",\"name\":\"NotificationAreaBase1\",\"properties\":[{\"name\":\"js_events\",\"kind\":\"Any\",\"default\":{\"type\":\"map\"}},{\"name\":\"position\",\"kind\":\"Any\",\"default\":\"bottom-right\"},{\"name\":\"_clear\",\"kind\":\"Any\",\"default\":0}]},{\"type\":\"model\",\"name\":\"NotificationArea1\",\"properties\":[{\"name\":\"js_events\",\"kind\":\"Any\",\"default\":{\"type\":\"map\"}},{\"name\":\"notifications\",\"kind\":\"Any\",\"default\":[]},{\"name\":\"position\",\"kind\":\"Any\",\"default\":\"bottom-right\"},{\"name\":\"_clear\",\"kind\":\"Any\",\"default\":0},{\"name\":\"types\",\"kind\":\"Any\",\"default\":[{\"type\":\"map\",\"entries\":[[\"type\",\"warning\"],[\"background\",\"#ffc107\"],[\"icon\",{\"type\":\"map\",\"entries\":[[\"className\",\"fas fa-exclamation-triangle\"],[\"tagName\",\"i\"],[\"color\",\"white\"]]}]]},{\"type\":\"map\",\"entries\":[[\"type\",\"info\"],[\"background\",\"#007bff\"],[\"icon\",{\"type\":\"map\",\"entries\":[[\"className\",\"fas fa-info-circle\"],[\"tagName\",\"i\"],[\"color\",\"white\"]]}]]}]}]},{\"type\":\"model\",\"name\":\"Notification\",\"properties\":[{\"name\":\"background\",\"kind\":\"Any\",\"default\":null},{\"name\":\"duration\",\"kind\":\"Any\",\"default\":3000},{\"name\":\"icon\",\"kind\":\"Any\",\"default\":null},{\"name\":\"message\",\"kind\":\"Any\",\"default\":\"\"},{\"name\":\"notification_type\",\"kind\":\"Any\",\"default\":null},{\"name\":\"_destroyed\",\"kind\":\"Any\",\"default\":false}]},{\"type\":\"model\",\"name\":\"TemplateActions1\",\"properties\":[{\"name\":\"open_modal\",\"kind\":\"Any\",\"default\":0},{\"name\":\"close_modal\",\"kind\":\"Any\",\"default\":0}]},{\"type\":\"model\",\"name\":\"BootstrapTemplateActions1\",\"properties\":[{\"name\":\"open_modal\",\"kind\":\"Any\",\"default\":0},{\"name\":\"close_modal\",\"kind\":\"Any\",\"default\":0}]},{\"type\":\"model\",\"name\":\"MaterialTemplateActions1\",\"properties\":[{\"name\":\"open_modal\",\"kind\":\"Any\",\"default\":0},{\"name\":\"close_modal\",\"kind\":\"Any\",\"default\":0}]}]}};\n",
       "  var render_items = [{\"docid\":\"8f574971-1170-4ed5-8b45-f93cdcc9e3cf\",\"roots\":{\"d6f0cd62-dc30-400a-a5f2-e42d3523f117\":\"ad1edfc8-e7fc-48aa-86ff-4062363a69dd\"},\"root_ids\":[\"d6f0cd62-dc30-400a-a5f2-e42d3523f117\"]}];\n",
       "  var docs = Object.values(docs_json)\n",
       "  if (!docs) {\n",
       "    return\n",
       "  }\n",
       "  const py_version = docs[0].version.replace('rc', '-rc.').replace('.dev', '-dev.')\n",
       "  const is_dev = py_version.indexOf(\"+\") !== -1 || py_version.indexOf(\"-\") !== -1\n",
       "  function embed_document(root) {\n",
       "    var Bokeh = get_bokeh(root)\n",
       "    Bokeh.embed.embed_items_notebook(docs_json, render_items);\n",
       "    for (const render_item of render_items) {\n",
       "      for (const root_id of render_item.root_ids) {\n",
       "\tconst id_el = document.getElementById(root_id)\n",
       "\tif (id_el.children.length && (id_el.children[0].className === 'bk-root')) {\n",
       "\t  const root_el = id_el.children[0]\n",
       "\t  root_el.id = root_el.id + '-rendered'\n",
       "\t}\n",
       "      }\n",
       "    }\n",
       "  }\n",
       "  function get_bokeh(root) {\n",
       "    if (root.Bokeh === undefined) {\n",
       "      return null\n",
       "    } else if (root.Bokeh.version !== py_version && !is_dev) {\n",
       "      if (root.Bokeh.versions === undefined || !root.Bokeh.versions.has(py_version)) {\n",
       "\treturn null\n",
       "      }\n",
       "      return root.Bokeh.versions.get(py_version);\n",
       "    } else if (root.Bokeh.version === py_version) {\n",
       "      return root.Bokeh\n",
       "    }\n",
       "    return null\n",
       "  }\n",
       "  function is_loaded(root) {\n",
       "    var Bokeh = get_bokeh(root)\n",
       "    return (Bokeh != null && Bokeh.Panel !== undefined)\n",
       "  }\n",
       "  if (is_loaded(root)) {\n",
       "    embed_document(root);\n",
       "  } else {\n",
       "    var attempts = 0;\n",
       "    var timer = setInterval(function(root) {\n",
       "      if (is_loaded(root)) {\n",
       "        clearInterval(timer);\n",
       "        embed_document(root);\n",
       "      } else if (document.readyState == \"complete\") {\n",
       "        attempts++;\n",
       "        if (attempts > 200) {\n",
       "          clearInterval(timer);\n",
       "\t  var Bokeh = get_bokeh(root)\n",
       "\t  if (Bokeh == null || Bokeh.Panel == null) {\n",
       "            console.warn(\"Panel: ERROR: Unable to run Panel code because Bokeh or Panel library is missing\");\n",
       "\t  } else {\n",
       "\t    console.warn(\"Panel: WARNING: Attempting to render but not all required libraries could be resolved.\")\n",
       "\t    embed_document(root)\n",
       "\t  }\n",
       "        }\n",
       "      }\n",
       "    }, 25, root)\n",
       "  }\n",
       "})(window);</script>"
      ],
      "text/plain": [
       "PNG(str, align='center', height=50, sizing_mode='fixed')"
      ]
     },
     "execution_count": 67,
     "metadata": {
      "application/vnd.holoviews_exec.v0+json": {
       "id": "d6f0cd62-dc30-400a-a5f2-e42d3523f117"
      }
     },
     "output_type": "execute_result"
    }
   ],
   "source": [
    "img2 = pn.pane.PNG(\"https://e7.pngegg.com/pngimages/388/581/png-clipart-sydney-opera-house-city-of-sydney-cartoon-illustration-sydney-opera-house-creative-cartoon-cartoon-character-angle.png\", height=50, sizing_mode=\"fixed\", align=\"center\")\n",
    "img2"
   ]
  },
  {
   "cell_type": "code",
   "execution_count": 68,
   "id": "wireless-consideration",
   "metadata": {},
   "outputs": [
    {
     "data": {},
     "metadata": {},
     "output_type": "display_data"
    },
    {
     "data": {
      "application/vnd.holoviews_exec.v0+json": "",
      "text/html": [
       "<div id='9d31074a-5e33-4320-a221-3e70688c9b7a'>\n",
       "  <div id=\"bb37eb55-82b4-4560-8e8c-960dad0e17f4\" data-root-id=\"9d31074a-5e33-4320-a221-3e70688c9b7a\" style=\"display: contents;\"></div>\n",
       "</div>\n",
       "<script type=\"application/javascript\">(function(root) {\n",
       "  var docs_json = {\"40d5c8cb-0b42-4a1d-b39a-32028a3206d9\":{\"version\":\"3.3.1\",\"title\":\"Bokeh Application\",\"roots\":[{\"type\":\"object\",\"name\":\"Row\",\"id\":\"9d31074a-5e33-4320-a221-3e70688c9b7a\",\"attributes\":{\"name\":\"Row06755\",\"styles\":{\"type\":\"map\",\"entries\":[[\"background\",\"#5F6062\"]]},\"stylesheets\":[\"\\n:host(.pn-loading.pn-arc):before, .pn-loading.pn-arc:before {\\n  background-image: url(\\\"data:image/svg+xml;base64,PHN2ZyB4bWxucz0iaHR0cDovL3d3dy53My5vcmcvMjAwMC9zdmciIHN0eWxlPSJtYXJnaW46IGF1dG87IGJhY2tncm91bmQ6IG5vbmU7IGRpc3BsYXk6IGJsb2NrOyBzaGFwZS1yZW5kZXJpbmc6IGF1dG87IiB2aWV3Qm94PSIwIDAgMTAwIDEwMCIgcHJlc2VydmVBc3BlY3RSYXRpbz0ieE1pZFlNaWQiPiAgPGNpcmNsZSBjeD0iNTAiIGN5PSI1MCIgZmlsbD0ibm9uZSIgc3Ryb2tlPSIjYzNjM2MzIiBzdHJva2Utd2lkdGg9IjEwIiByPSIzNSIgc3Ryb2tlLWRhc2hhcnJheT0iMTY0LjkzMzYxNDMxMzQ2NDE1IDU2Ljk3Nzg3MTQzNzgyMTM4Ij4gICAgPGFuaW1hdGVUcmFuc2Zvcm0gYXR0cmlidXRlTmFtZT0idHJhbnNmb3JtIiB0eXBlPSJyb3RhdGUiIHJlcGVhdENvdW50PSJpbmRlZmluaXRlIiBkdXI9IjFzIiB2YWx1ZXM9IjAgNTAgNTA7MzYwIDUwIDUwIiBrZXlUaW1lcz0iMDsxIj48L2FuaW1hdGVUcmFuc2Zvcm0+ICA8L2NpcmNsZT48L3N2Zz4=\\\");\\n  background-size: auto calc(min(50%, 400px));\\n}\",{\"type\":\"object\",\"name\":\"ImportedStyleSheet\",\"id\":\"2007a11e-fb11-4bbf-8630-cdba1d654a1c\",\"attributes\":{\"url\":\"https://cdn.holoviz.org/panel/1.3.1/dist/css/loading.css\"}},{\"type\":\"object\",\"name\":\"ImportedStyleSheet\",\"id\":\"4b6a93bd-6ee7-4af4-8c2f-31e76d099b8b\",\"attributes\":{\"url\":\"https://cdn.holoviz.org/panel/1.3.1/dist/css/listpanel.css\"}},{\"type\":\"object\",\"name\":\"ImportedStyleSheet\",\"id\":\"777479a1-3f0c-4b2f-aec5-ace799f96694\",\"attributes\":{\"url\":\"https://cdn.holoviz.org/panel/1.3.1/dist/bundled/theme/default.css\"}},{\"type\":\"object\",\"name\":\"ImportedStyleSheet\",\"id\":\"96d13179-2160-4fcd-9d90-0b4bb63b4aad\",\"attributes\":{\"url\":\"https://cdn.holoviz.org/panel/1.3.1/dist/bundled/theme/native.css\"}}],\"width\":1050,\"height\":80,\"margin\":0,\"sizing_mode\":\"fixed\",\"align\":\"start\",\"children\":[{\"type\":\"object\",\"name\":\"panel.models.markup.HTML\",\"id\":\"61e0c765-9d68-4a36-80b3-98fe59c3a751\",\"attributes\":{\"css_classes\":[\"markdown\"],\"styles\":{\"type\":\"map\",\"entries\":[[\"color\",\"#FFFFFF\"]]},\"stylesheets\":[\"\\n:host(.pn-loading.pn-arc):before, .pn-loading.pn-arc:before {\\n  background-image: url(\\\"data:image/svg+xml;base64,PHN2ZyB4bWxucz0iaHR0cDovL3d3dy53My5vcmcvMjAwMC9zdmciIHN0eWxlPSJtYXJnaW46IGF1dG87IGJhY2tncm91bmQ6IG5vbmU7IGRpc3BsYXk6IGJsb2NrOyBzaGFwZS1yZW5kZXJpbmc6IGF1dG87IiB2aWV3Qm94PSIwIDAgMTAwIDEwMCIgcHJlc2VydmVBc3BlY3RSYXRpbz0ieE1pZFlNaWQiPiAgPGNpcmNsZSBjeD0iNTAiIGN5PSI1MCIgZmlsbD0ibm9uZSIgc3Ryb2tlPSIjYzNjM2MzIiBzdHJva2Utd2lkdGg9IjEwIiByPSIzNSIgc3Ryb2tlLWRhc2hhcnJheT0iMTY0LjkzMzYxNDMxMzQ2NDE1IDU2Ljk3Nzg3MTQzNzgyMTM4Ij4gICAgPGFuaW1hdGVUcmFuc2Zvcm0gYXR0cmlidXRlTmFtZT0idHJhbnNmb3JtIiB0eXBlPSJyb3RhdGUiIHJlcGVhdENvdW50PSJpbmRlZmluaXRlIiBkdXI9IjFzIiB2YWx1ZXM9IjAgNTAgNTA7MzYwIDUwIDUwIiBrZXlUaW1lcz0iMDsxIj48L2FuaW1hdGVUcmFuc2Zvcm0+ICA8L2NpcmNsZT48L3N2Zz4=\\\");\\n  background-size: auto calc(min(50%, 400px));\\n}\",{\"id\":\"2007a11e-fb11-4bbf-8630-cdba1d654a1c\"},{\"type\":\"object\",\"name\":\"ImportedStyleSheet\",\"id\":\"4badff51-6c02-4435-a726-6c42191bc475\",\"attributes\":{\"url\":\"https://cdn.holoviz.org/panel/1.3.1/dist/css/markdown.css\"}},{\"id\":\"777479a1-3f0c-4b2f-aec5-ace799f96694\"},{\"id\":\"96d13179-2160-4fcd-9d90-0b4bb63b4aad\"}],\"height\":50,\"margin\":[0,0,0,5],\"sizing_mode\":\"stretch_width\",\"align\":\"start\",\"text\":\"&lt;h1 id=&quot;airbnb-listings-analysis-in-sydney&quot;&gt;Airbnb Listings Analysis in Sydney &lt;a class=&quot;header-anchor&quot; href=&quot;#airbnb-listings-analysis-in-sydney&quot;&gt;\\u00b6&lt;/a&gt;&lt;/h1&gt;\\n\"}},{\"type\":\"object\",\"name\":\"Spacer\",\"id\":\"f5f3b239-c4c6-4628-bdb1-a1272e7dc34e\",\"attributes\":{\"name\":\"Spacer06752\",\"stylesheets\":[\"\\n:host(.pn-loading.pn-arc):before, .pn-loading.pn-arc:before {\\n  background-image: url(\\\"data:image/svg+xml;base64,PHN2ZyB4bWxucz0iaHR0cDovL3d3dy53My5vcmcvMjAwMC9zdmciIHN0eWxlPSJtYXJnaW46IGF1dG87IGJhY2tncm91bmQ6IG5vbmU7IGRpc3BsYXk6IGJsb2NrOyBzaGFwZS1yZW5kZXJpbmc6IGF1dG87IiB2aWV3Qm94PSIwIDAgMTAwIDEwMCIgcHJlc2VydmVBc3BlY3RSYXRpbz0ieE1pZFlNaWQiPiAgPGNpcmNsZSBjeD0iNTAiIGN5PSI1MCIgZmlsbD0ibm9uZSIgc3Ryb2tlPSIjYzNjM2MzIiBzdHJva2Utd2lkdGg9IjEwIiByPSIzNSIgc3Ryb2tlLWRhc2hhcnJheT0iMTY0LjkzMzYxNDMxMzQ2NDE1IDU2Ljk3Nzg3MTQzNzgyMTM4Ij4gICAgPGFuaW1hdGVUcmFuc2Zvcm0gYXR0cmlidXRlTmFtZT0idHJhbnNmb3JtIiB0eXBlPSJyb3RhdGUiIHJlcGVhdENvdW50PSJpbmRlZmluaXRlIiBkdXI9IjFzIiB2YWx1ZXM9IjAgNTAgNTA7MzYwIDUwIDUwIiBrZXlUaW1lcz0iMDsxIj48L2FuaW1hdGVUcmFuc2Zvcm0+ICA8L2NpcmNsZT48L3N2Zz4=\\\");\\n  background-size: auto calc(min(50%, 400px));\\n}\",{\"id\":\"2007a11e-fb11-4bbf-8630-cdba1d654a1c\"},{\"id\":\"777479a1-3f0c-4b2f-aec5-ace799f96694\"},{\"id\":\"96d13179-2160-4fcd-9d90-0b4bb63b4aad\"}],\"margin\":0,\"align\":\"start\"}},{\"type\":\"object\",\"name\":\"panel.models.markup.HTML\",\"id\":\"07b243a1-4c20-45c5-a5c5-a7e6b38794f0\",\"attributes\":{\"stylesheets\":[\"\\n:host(.pn-loading.pn-arc):before, .pn-loading.pn-arc:before {\\n  background-image: url(\\\"data:image/svg+xml;base64,PHN2ZyB4bWxucz0iaHR0cDovL3d3dy53My5vcmcvMjAwMC9zdmciIHN0eWxlPSJtYXJnaW46IGF1dG87IGJhY2tncm91bmQ6IG5vbmU7IGRpc3BsYXk6IGJsb2NrOyBzaGFwZS1yZW5kZXJpbmc6IGF1dG87IiB2aWV3Qm94PSIwIDAgMTAwIDEwMCIgcHJlc2VydmVBc3BlY3RSYXRpbz0ieE1pZFlNaWQiPiAgPGNpcmNsZSBjeD0iNTAiIGN5PSI1MCIgZmlsbD0ibm9uZSIgc3Ryb2tlPSIjYzNjM2MzIiBzdHJva2Utd2lkdGg9IjEwIiByPSIzNSIgc3Ryb2tlLWRhc2hhcnJheT0iMTY0LjkzMzYxNDMxMzQ2NDE1IDU2Ljk3Nzg3MTQzNzgyMTM4Ij4gICAgPGFuaW1hdGVUcmFuc2Zvcm0gYXR0cmlidXRlTmFtZT0idHJhbnNmb3JtIiB0eXBlPSJyb3RhdGUiIHJlcGVhdENvdW50PSJpbmRlZmluaXRlIiBkdXI9IjFzIiB2YWx1ZXM9IjAgNTAgNTA7MzYwIDUwIDUwIiBrZXlUaW1lcz0iMDsxIj48L2FuaW1hdGVUcmFuc2Zvcm0+ICA8L2NpcmNsZT48L3N2Zz4=\\\");\\n  background-size: auto calc(min(50%, 400px));\\n}\",{\"id\":\"2007a11e-fb11-4bbf-8630-cdba1d654a1c\"},{\"id\":\"777479a1-3f0c-4b2f-aec5-ace799f96694\"},{\"id\":\"96d13179-2160-4fcd-9d90-0b4bb63b4aad\"}],\"height\":50,\"margin\":[5,10],\"sizing_mode\":\"fixed\",\"align\":\"center\",\"text\":\"&lt;img src=&quot;https://i.pinimg.com/originals/a3/cd/30/a3cd30c0ba0e7f827dfe22e7a7011cd8.gif&quot;  style=&quot;max-width: 100%; max-height: 100%; object-fit: contain; width: auto; height: 50px;&quot;&gt;&lt;/img&gt;\"}},{\"type\":\"object\",\"name\":\"panel.models.markup.HTML\",\"id\":\"16f3f188-ecaa-4cae-b7d5-1f5c5948507d\",\"attributes\":{\"stylesheets\":[\"\\n:host(.pn-loading.pn-arc):before, .pn-loading.pn-arc:before {\\n  background-image: url(\\\"data:image/svg+xml;base64,PHN2ZyB4bWxucz0iaHR0cDovL3d3dy53My5vcmcvMjAwMC9zdmciIHN0eWxlPSJtYXJnaW46IGF1dG87IGJhY2tncm91bmQ6IG5vbmU7IGRpc3BsYXk6IGJsb2NrOyBzaGFwZS1yZW5kZXJpbmc6IGF1dG87IiB2aWV3Qm94PSIwIDAgMTAwIDEwMCIgcHJlc2VydmVBc3BlY3RSYXRpbz0ieE1pZFlNaWQiPiAgPGNpcmNsZSBjeD0iNTAiIGN5PSI1MCIgZmlsbD0ibm9uZSIgc3Ryb2tlPSIjYzNjM2MzIiBzdHJva2Utd2lkdGg9IjEwIiByPSIzNSIgc3Ryb2tlLWRhc2hhcnJheT0iMTY0LjkzMzYxNDMxMzQ2NDE1IDU2Ljk3Nzg3MTQzNzgyMTM4Ij4gICAgPGFuaW1hdGVUcmFuc2Zvcm0gYXR0cmlidXRlTmFtZT0idHJhbnNmb3JtIiB0eXBlPSJyb3RhdGUiIHJlcGVhdENvdW50PSJpbmRlZmluaXRlIiBkdXI9IjFzIiB2YWx1ZXM9IjAgNTAgNTA7MzYwIDUwIDUwIiBrZXlUaW1lcz0iMDsxIj48L2FuaW1hdGVUcmFuc2Zvcm0+ICA8L2NpcmNsZT48L3N2Zz4=\\\");\\n  background-size: auto calc(min(50%, 400px));\\n}\",{\"id\":\"2007a11e-fb11-4bbf-8630-cdba1d654a1c\"},{\"id\":\"777479a1-3f0c-4b2f-aec5-ace799f96694\"},{\"id\":\"96d13179-2160-4fcd-9d90-0b4bb63b4aad\"}],\"height\":50,\"margin\":[5,10],\"sizing_mode\":\"fixed\",\"align\":\"center\",\"text\":\"&lt;img src=&quot;https://e7.pngegg.com/pngimages/388/581/png-clipart-sydney-opera-house-city-of-sydney-cartoon-illustration-sydney-opera-house-creative-cartoon-cartoon-character-angle.png&quot;  style=&quot;max-width: 100%; max-height: 100%; object-fit: contain; width: auto; height: 50px;&quot;&gt;&lt;/img&gt;\"}}]}},{\"type\":\"object\",\"name\":\"panel.models.comm_manager.CommManager\",\"id\":\"93d29a65-bada-4f97-89b4-195ea322dba8\",\"attributes\":{\"plot_id\":\"9d31074a-5e33-4320-a221-3e70688c9b7a\",\"comm_id\":\"b00957a767dd482c9bbab15ced37d655\",\"client_comm_id\":\"765e35ae58c649d79bc19f5ea393e271\"}}],\"defs\":[{\"type\":\"model\",\"name\":\"ReactiveHTML1\"},{\"type\":\"model\",\"name\":\"FlexBox1\",\"properties\":[{\"name\":\"align_content\",\"kind\":\"Any\",\"default\":\"flex-start\"},{\"name\":\"align_items\",\"kind\":\"Any\",\"default\":\"flex-start\"},{\"name\":\"flex_direction\",\"kind\":\"Any\",\"default\":\"row\"},{\"name\":\"flex_wrap\",\"kind\":\"Any\",\"default\":\"wrap\"},{\"name\":\"justify_content\",\"kind\":\"Any\",\"default\":\"flex-start\"}]},{\"type\":\"model\",\"name\":\"FloatPanel1\",\"properties\":[{\"name\":\"config\",\"kind\":\"Any\",\"default\":{\"type\":\"map\"}},{\"name\":\"contained\",\"kind\":\"Any\",\"default\":true},{\"name\":\"position\",\"kind\":\"Any\",\"default\":\"right-top\"},{\"name\":\"offsetx\",\"kind\":\"Any\",\"default\":null},{\"name\":\"offsety\",\"kind\":\"Any\",\"default\":null},{\"name\":\"theme\",\"kind\":\"Any\",\"default\":\"primary\"},{\"name\":\"status\",\"kind\":\"Any\",\"default\":\"normalized\"}]},{\"type\":\"model\",\"name\":\"GridStack1\",\"properties\":[{\"name\":\"mode\",\"kind\":\"Any\",\"default\":\"warn\"},{\"name\":\"ncols\",\"kind\":\"Any\",\"default\":null},{\"name\":\"nrows\",\"kind\":\"Any\",\"default\":null},{\"name\":\"allow_resize\",\"kind\":\"Any\",\"default\":true},{\"name\":\"allow_drag\",\"kind\":\"Any\",\"default\":true},{\"name\":\"state\",\"kind\":\"Any\",\"default\":[]}]},{\"type\":\"model\",\"name\":\"drag1\",\"properties\":[{\"name\":\"slider_width\",\"kind\":\"Any\",\"default\":5},{\"name\":\"slider_color\",\"kind\":\"Any\",\"default\":\"black\"},{\"name\":\"value\",\"kind\":\"Any\",\"default\":50}]},{\"type\":\"model\",\"name\":\"click1\",\"properties\":[{\"name\":\"terminal_output\",\"kind\":\"Any\",\"default\":\"\"},{\"name\":\"debug_name\",\"kind\":\"Any\",\"default\":\"\"},{\"name\":\"clears\",\"kind\":\"Any\",\"default\":0}]},{\"type\":\"model\",\"name\":\"toggle_value1\",\"properties\":[{\"name\":\"active_icons\",\"kind\":\"Any\",\"default\":{\"type\":\"map\"}},{\"name\":\"options\",\"kind\":\"Any\",\"default\":{\"type\":\"map\",\"entries\":[[\"favorite\",\"heart\"]]}},{\"name\":\"value\",\"kind\":\"Any\",\"default\":[]},{\"name\":\"_reactions\",\"kind\":\"Any\",\"default\":[]},{\"name\":\"_base_url\",\"kind\":\"Any\",\"default\":\"https://tabler-icons.io/static/tabler-icons/icons/\"}]},{\"type\":\"model\",\"name\":\"copy_to_clipboard1\",\"properties\":[{\"name\":\"value\",\"kind\":\"Any\",\"default\":null},{\"name\":\"fill\",\"kind\":\"Any\",\"default\":\"none\"}]},{\"type\":\"model\",\"name\":\"FastWrapper1\",\"properties\":[{\"name\":\"object\",\"kind\":\"Any\",\"default\":null},{\"name\":\"style\",\"kind\":\"Any\",\"default\":null}]},{\"type\":\"model\",\"name\":\"NotificationAreaBase1\",\"properties\":[{\"name\":\"js_events\",\"kind\":\"Any\",\"default\":{\"type\":\"map\"}},{\"name\":\"position\",\"kind\":\"Any\",\"default\":\"bottom-right\"},{\"name\":\"_clear\",\"kind\":\"Any\",\"default\":0}]},{\"type\":\"model\",\"name\":\"NotificationArea1\",\"properties\":[{\"name\":\"js_events\",\"kind\":\"Any\",\"default\":{\"type\":\"map\"}},{\"name\":\"notifications\",\"kind\":\"Any\",\"default\":[]},{\"name\":\"position\",\"kind\":\"Any\",\"default\":\"bottom-right\"},{\"name\":\"_clear\",\"kind\":\"Any\",\"default\":0},{\"name\":\"types\",\"kind\":\"Any\",\"default\":[{\"type\":\"map\",\"entries\":[[\"type\",\"warning\"],[\"background\",\"#ffc107\"],[\"icon\",{\"type\":\"map\",\"entries\":[[\"className\",\"fas fa-exclamation-triangle\"],[\"tagName\",\"i\"],[\"color\",\"white\"]]}]]},{\"type\":\"map\",\"entries\":[[\"type\",\"info\"],[\"background\",\"#007bff\"],[\"icon\",{\"type\":\"map\",\"entries\":[[\"className\",\"fas fa-info-circle\"],[\"tagName\",\"i\"],[\"color\",\"white\"]]}]]}]}]},{\"type\":\"model\",\"name\":\"Notification\",\"properties\":[{\"name\":\"background\",\"kind\":\"Any\",\"default\":null},{\"name\":\"duration\",\"kind\":\"Any\",\"default\":3000},{\"name\":\"icon\",\"kind\":\"Any\",\"default\":null},{\"name\":\"message\",\"kind\":\"Any\",\"default\":\"\"},{\"name\":\"notification_type\",\"kind\":\"Any\",\"default\":null},{\"name\":\"_destroyed\",\"kind\":\"Any\",\"default\":false}]},{\"type\":\"model\",\"name\":\"TemplateActions1\",\"properties\":[{\"name\":\"open_modal\",\"kind\":\"Any\",\"default\":0},{\"name\":\"close_modal\",\"kind\":\"Any\",\"default\":0}]},{\"type\":\"model\",\"name\":\"BootstrapTemplateActions1\",\"properties\":[{\"name\":\"open_modal\",\"kind\":\"Any\",\"default\":0},{\"name\":\"close_modal\",\"kind\":\"Any\",\"default\":0}]},{\"type\":\"model\",\"name\":\"MaterialTemplateActions1\",\"properties\":[{\"name\":\"open_modal\",\"kind\":\"Any\",\"default\":0},{\"name\":\"close_modal\",\"kind\":\"Any\",\"default\":0}]}]}};\n",
       "  var render_items = [{\"docid\":\"40d5c8cb-0b42-4a1d-b39a-32028a3206d9\",\"roots\":{\"9d31074a-5e33-4320-a221-3e70688c9b7a\":\"bb37eb55-82b4-4560-8e8c-960dad0e17f4\"},\"root_ids\":[\"9d31074a-5e33-4320-a221-3e70688c9b7a\"]}];\n",
       "  var docs = Object.values(docs_json)\n",
       "  if (!docs) {\n",
       "    return\n",
       "  }\n",
       "  const py_version = docs[0].version.replace('rc', '-rc.').replace('.dev', '-dev.')\n",
       "  const is_dev = py_version.indexOf(\"+\") !== -1 || py_version.indexOf(\"-\") !== -1\n",
       "  function embed_document(root) {\n",
       "    var Bokeh = get_bokeh(root)\n",
       "    Bokeh.embed.embed_items_notebook(docs_json, render_items);\n",
       "    for (const render_item of render_items) {\n",
       "      for (const root_id of render_item.root_ids) {\n",
       "\tconst id_el = document.getElementById(root_id)\n",
       "\tif (id_el.children.length && (id_el.children[0].className === 'bk-root')) {\n",
       "\t  const root_el = id_el.children[0]\n",
       "\t  root_el.id = root_el.id + '-rendered'\n",
       "\t}\n",
       "      }\n",
       "    }\n",
       "  }\n",
       "  function get_bokeh(root) {\n",
       "    if (root.Bokeh === undefined) {\n",
       "      return null\n",
       "    } else if (root.Bokeh.version !== py_version && !is_dev) {\n",
       "      if (root.Bokeh.versions === undefined || !root.Bokeh.versions.has(py_version)) {\n",
       "\treturn null\n",
       "      }\n",
       "      return root.Bokeh.versions.get(py_version);\n",
       "    } else if (root.Bokeh.version === py_version) {\n",
       "      return root.Bokeh\n",
       "    }\n",
       "    return null\n",
       "  }\n",
       "  function is_loaded(root) {\n",
       "    var Bokeh = get_bokeh(root)\n",
       "    return (Bokeh != null && Bokeh.Panel !== undefined)\n",
       "  }\n",
       "  if (is_loaded(root)) {\n",
       "    embed_document(root);\n",
       "  } else {\n",
       "    var attempts = 0;\n",
       "    var timer = setInterval(function(root) {\n",
       "      if (is_loaded(root)) {\n",
       "        clearInterval(timer);\n",
       "        embed_document(root);\n",
       "      } else if (document.readyState == \"complete\") {\n",
       "        attempts++;\n",
       "        if (attempts > 200) {\n",
       "          clearInterval(timer);\n",
       "\t  var Bokeh = get_bokeh(root)\n",
       "\t  if (Bokeh == null || Bokeh.Panel == null) {\n",
       "            console.warn(\"Panel: ERROR: Unable to run Panel code because Bokeh or Panel library is missing\");\n",
       "\t  } else {\n",
       "\t    console.warn(\"Panel: WARNING: Attempting to render but not all required libraries could be resolved.\")\n",
       "\t    embed_document(root)\n",
       "\t  }\n",
       "        }\n",
       "      }\n",
       "    }, 25, root)\n",
       "  }\n",
       "})(window);</script>"
      ],
      "text/plain": [
       "Row(height=80, sizing_mode='fixed', styles={'background': '#5F6062'}, width=1050)\n",
       "    [0] Markdown(str, height=50, margin=(0, 0, 0, 5), sizing_mode='stretch_width', styles={'color': '#FFFFFF'})\n",
       "    [1] Spacer()\n",
       "    [2] PNG(str, align='center', height=50, sizing_mode='fixed')\n",
       "    [3] PNG(str, align='center', height=50, sizing_mode='fixed')"
      ]
     },
     "execution_count": 68,
     "metadata": {
      "application/vnd.holoviews_exec.v0+json": {
       "id": "9d31074a-5e33-4320-a221-3e70688c9b7a"
      }
     },
     "output_type": "execute_result"
    }
   ],
   "source": [
    "title = pn.Row(text, pn.Spacer(), img1, img2, styles={'background': '#5F6062'}, sizing_mode='fixed', height=80, width=1050)\n",
    "title"
   ]
  },
  {
   "cell_type": "markdown",
   "id": "beautiful-safety",
   "metadata": {},
   "source": [
    "### The Theme"
   ]
  },
  {
   "cell_type": "markdown",
   "id": "mounted-yemen",
   "metadata": {},
   "source": [
    "We will use a slightly different theme from the static dashboard. Here is the [inspiration](https://bigbookofdashboards.com/images/Figure13.png) for this one."
   ]
  },
  {
   "cell_type": "code",
   "execution_count": 69,
   "id": "careful-settlement",
   "metadata": {},
   "outputs": [],
   "source": [
    "from bokeh.themes.theme import Theme\n",
    "\n",
    "theme = Theme(\n",
    "    json={\n",
    "    'attrs' : {\n",
    "        'figure' : {\n",
    "            'background_fill_color': '#5F6062',\n",
    "            'border_fill_color': '#5F6062',\n",
    "            'outline_line_color': '#5F6062',\n",
    "        },\n",
    "        'Grid': {\n",
    "            'grid_line_dash': [6, 4],\n",
    "            'grid_line_alpha': .3,\n",
    "        },\n",
    "\n",
    "        'Axis': {\n",
    "            'major_label_text_color': '#D5E051',\n",
    "            'axis_label_text_color': '#D5E051',\n",
    "            'major_tick_line_color': '#D5E051',\n",
    "            'minor_tick_line_color': '#D5E051',\n",
    "            'axis_line_color': \"#D5E051\"\n",
    "        },\n",
    "        'Title': {\n",
    "            'text_color': '#FFFFFF'\n",
    "        }\n",
    "    }\n",
    "})\n",
    "\n",
    "hv.renderer('bokeh').theme = theme"
   ]
  },
  {
   "cell_type": "markdown",
   "id": "cloudy-spread",
   "metadata": {},
   "source": [
    "## 05. Putting it all Together"
   ]
  },
  {
   "cell_type": "markdown",
   "id": "ongoing-rates",
   "metadata": {},
   "source": [
    "The most important piece of this part is the sizing of your dashboard or app. Something that can work well is \n",
    "to grab a pen and paper and draw what we envision as a dashboard before creating it. Or, we come back to every \n",
    "element while drawing boxes on a piece of paper and assigning the width and height to each line."
   ]
  },
  {
   "cell_type": "code",
   "execution_count": 70,
   "id": "continued-wrestling",
   "metadata": {},
   "outputs": [],
   "source": [
    "c1  = pn.Column(bans, pn.Spacer(height=20), get_rev_table, width=250, height=290)"
   ]
  },
  {
   "cell_type": "code",
   "execution_count": 71,
   "id": "turkish-capability",
   "metadata": {},
   "outputs": [],
   "source": [
    "c2 = pn.Column(pn.Row(p_type, nps, align='center'), cat_whisker, height=290, align='center')"
   ]
  },
  {
   "cell_type": "code",
   "execution_count": 72,
   "id": "athletic-skirt",
   "metadata": {},
   "outputs": [],
   "source": [
    "r1 = pn.Row(c1, pn.Spacer(width=100), c2, sizing_mode='fixed', align='center', width=1000, height=350)"
   ]
  },
  {
   "cell_type": "code",
   "execution_count": 73,
   "id": "veterinary-investigation",
   "metadata": {},
   "outputs": [],
   "source": [
    "r2 = pn.Row(my_dots, get_map, align='center', sizing_mode='fixed', width=1100, height=420)"
   ]
  },
  {
   "cell_type": "code",
   "execution_count": 74,
   "id": "covered-switzerland",
   "metadata": {},
   "outputs": [],
   "source": [
    "dashboard = pn.Column(\n",
    "    title, r1, r2, styles={\"background\":'#5F6062'}, sizing_mode='fixed', align='center', height=950, width=1050\n",
    ")"
   ]
  },
  {
   "cell_type": "code",
   "execution_count": 75,
   "id": "inclusive-platinum",
   "metadata": {},
   "outputs": [
    {
     "data": {
      "text/plain": [
       "<StoppableThread(Thread-6 (get_server), started 140116865578560)>"
      ]
     },
     "execution_count": 75,
     "metadata": {},
     "output_type": "execute_result"
    },
    {
     "name": "stdout",
     "output_type": "stream",
     "text": [
      "Launching server at http://localhost:45083\n"
     ]
    },
    {
     "name": "stderr",
     "output_type": "stream",
     "text": [
      "WARNING:bokeh.core.validation.check:W-1005 (FIXED_SIZING_MODE): 'fixed' sizing mode requires width and height to be set: Column(id='c8e959a3-f038-47d2-ac01-21ec2a236dc2', ...)\n",
      "WARNING:bokeh.core.validation.check:W-1005 (FIXED_SIZING_MODE): 'fixed' sizing mode requires width and height to be set: Column(id='8438d1e4-a154-4589-ad13-e1318c9ce2e1', ...)\n",
      "WARNING:bokeh.core.validation.check:W-1005 (FIXED_SIZING_MODE): 'fixed' sizing mode requires width and height to be set: HTML(id='b11812a4-4900-42e5-b557-f8c5d9886e50', ...)\n",
      "WARNING:bokeh.core.validation.check:W-1005 (FIXED_SIZING_MODE): 'fixed' sizing mode requires width and height to be set: Column(id='a75492c4-932c-4523-a46f-b57c01ea7eb1', ...)\n",
      "WARNING:bokeh.core.validation.check:W-1005 (FIXED_SIZING_MODE): 'fixed' sizing mode requires width and height to be set: HTML(id='ef7a93f4-13a7-4e32-b678-94e504f77e75', ...)\n",
      "WARNING:bokeh.core.validation.check:W-1005 (FIXED_SIZING_MODE): 'fixed' sizing mode requires width and height to be set: Column(id='420bd896-bdd7-48e0-971d-835d96441701', ...)\n"
     ]
    }
   ],
   "source": [
    "dashboard.show(threaded=True)"
   ]
  },
  {
   "cell_type": "code",
   "execution_count": null,
   "id": "aware-ghana",
   "metadata": {},
   "outputs": [],
   "source": [
    "# dashboard.save('dashboards/interactive_dash.html')"
   ]
  },
  {
   "cell_type": "markdown",
   "id": "bulgarian-medium",
   "metadata": {},
   "source": [
    "### Exercise"
   ]
  },
  {
   "cell_type": "markdown",
   "id": "adjustable-ordinance",
   "metadata": {},
   "source": [
    "Your task is to take any of the charts \n",
    "\n",
    "1. Create a Tabs element using `pn.Tabs`\n",
    "2. Add the dashboard we created together to one tab\n",
    "3. Add one of the elements you created, and a title to the other tab\n",
    "4. Add an image of Python to the last tab"
   ]
  },
  {
   "cell_type": "code",
   "execution_count": null,
   "id": "fifth-dancing",
   "metadata": {},
   "outputs": [],
   "source": []
  },
  {
   "cell_type": "code",
   "execution_count": null,
   "id": "latest-eating",
   "metadata": {},
   "outputs": [],
   "source": []
  },
  {
   "cell_type": "code",
   "execution_count": null,
   "id": "dangerous-webster",
   "metadata": {},
   "outputs": [],
   "source": []
  },
  {
   "cell_type": "markdown",
   "id": "hazardous-people",
   "metadata": {},
   "source": [
    "## 06. Summary"
   ]
  },
  {
   "cell_type": "markdown",
   "id": "advanced-operator",
   "metadata": {},
   "source": [
    "1. Widgets can be created for categories or discrete numbers and floats, here we have used mainly categories\n",
    "2. Start building your visualisations step by step and once you have an MVP, focus onn wrapping the operations in functions\n",
    "1. Using the tools chosen for the tutorial, interactive charts require functions that are tied to widgets\n",
    "2. These functions get computed every time a value changes and the visual display gets updated\n",
    "3. The larger the dataset the longer a computation might take"
   ]
  }
 ],
 "metadata": {
  "kernelspec": {
   "display_name": "Python 3 (ipykernel)",
   "language": "python",
   "name": "python3"
  },
  "language_info": {
   "codemirror_mode": {
    "name": "ipython",
    "version": 3
   },
   "file_extension": ".py",
   "mimetype": "text/x-python",
   "name": "python",
   "nbconvert_exporter": "python",
   "pygments_lexer": "ipython3",
   "version": "3.11.6"
  }
 },
 "nbformat": 4,
 "nbformat_minor": 5
}
